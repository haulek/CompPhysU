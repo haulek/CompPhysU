{
 "cells": [
  {
   "cell_type": "markdown",
   "id": "d58b6979",
   "metadata": {},
   "source": [
    "# Measurement Error Propagation"
   ]
  },
  {
   "cell_type": "markdown",
   "id": "67f82a55",
   "metadata": {},
   "source": [
    "Here, we are interested in estimating the error of our result, provided we know the error of input variables. In experiments, measurements are always known only up to finite precision. It is important to quantify the resulting uncertainty before we can reliably interpret the results of the measurement."
   ]
  },
  {
   "cell_type": "markdown",
   "id": "550d41ee",
   "metadata": {},
   "source": [
    "Suppose that we want to calculate error estimation of function $f(x,y)$, where both $x$ and $y$ are known with finite precision. We either have a large number of measurements of $x$ and $y$, or, we might know the probability distribution of measurements and their averages. For now, let's assume \n",
    "\n",
    "For now, let's assume that we have measured $x$ and $y$ and have a large number $n$ of measurements with values $[x_0,x_1,...,x_{n-1}]$ and $[y_0,y_1,...,y_{n-1}]$. \n",
    "Using statistics, we can define\n",
    "\n",
    "$$<x> = \\frac{1}{n}\\sum_{i=0}^{n-1} x_i$$\n",
    "$$<y> = \\frac{1}{n}\\sum_{i=0}^{n-1} y_i$$\n",
    "$$\\sigma_x^2 = \\frac{1}{n-1}\\sum_{i=0}^{n-1} (x_i-<x>)^2$$\n",
    "$$\\sigma_y^2 = \\frac{1}{n-1}\\sum_{i=0}^{n-1} (y_i-<y>)^2$$"
   ]
  },
  {
   "cell_type": "markdown",
   "id": "6c4d35b6",
   "metadata": {},
   "source": [
    "In many experimental measurements we can assume that errors on measurement of $x$ and $y$ are uncorrelated. On the other hand, there are cases of non-negligible correlation between the measurements of different variables. In the latter case, the covariance should also be nonzero:\n",
    "\n",
    "$$cov(x,y)=\\frac{1}{n-1}\\sum_{i=0}^{n-1} (x_i-<x>)(y_i-<y>)$$\n",
    "\n",
    "$cov(x,y)$ quantifies the degree of correlation between variables $x$ and $y$.\n",
    "\n",
    "Using the inputs $<x>$, $<y>$, $\\sigma_x^2$, $\\sigma_y^2$, and $cov(x,y)$, we want to estimate the error of function $f$, which we denote by $\\sigma_f$. \n",
    "If we have $n$ measurements of $x$ and $y$, we could calculate it by\n",
    "\n",
    "$$\\sigma^2_f=\\frac{1}{n-1}\\sum_{i=0}^{n-1}(f_i-<f>)^2$$\n"
   ]
  },
  {
   "cell_type": "markdown",
   "id": "ed32e3b2",
   "metadata": {},
   "source": [
    "Below we will derive general expression for $\\sigma_f$ knowing function $f(x,y)$ and the input variables and their errors.\n",
    "\n",
    "We will work under the assumption that erros are small and can be trated in a linear approximation. If only the variable $x$ has finite error, which is small, we could estiate \n",
    "\n",
    "$$f(x_i)-f(<x>)\\approx (x_i-<x>) \\frac{\\partial f(<x>)}{\\partial x}$$\n",
    "which is correct up to linear order. \n",
    "It then folows\n",
    "$$\\sigma^2_f = \\frac{1}{n-1}\\sum_{i=0}^{n-1} (f(x_i)-f(<x>))^2= \\frac{1}{n-1}\\sum_{i=0}^{n-1} \n",
    "(x_i-<x>)^2 \\left(\\frac{\\partial f(<x>)}{\\partial x}\\right)^2\n",
    "= \\left(\\frac{\\partial f(<x>)}{\\partial x}\\right)^2 \\sigma^2_x $$\n",
    "\n",
    "For shorter notation, we will denote the derivative\n",
    "$$\\frac{\\partial f(<x>)}{\\partial x}\\equiv \\frac{\\partial f}{\\partial x}. $$ Note that we always evaluate derivative at the average value of $x$.\n",
    "\n",
    "For single variable with uncertainty, we thus simply have\n",
    "\n",
    "$$\\sigma_f = \\left|\\frac{\\partial f}{\\partial x}\\right|\\sigma_x$$"
   ]
  },
  {
   "cell_type": "markdown",
   "id": "9730e6c1",
   "metadata": {},
   "source": [
    "If the error of $y$ and $cov$ are also finite, we need to add more terms. We start by estimating\n",
    "\n",
    "$$f(x_i,y_i)-f(<x>,<y>)\\approx (x_i-<x>) \\frac{\\partial f}{\\partial x} + (y_i-<y>)\\frac{\\partial f}{\\partial y}  + O(\\Delta_x^2,\\Delta_y^2,\\Delta_x\\Delta_y).$$\n",
    "\n",
    "Up to linear order in all variables, we have\n",
    "$$\n",
    "\\sigma_f^2=\\frac{1}{n-1}\\sum_{i=0}^{n-1} \\left[(x_i-<x>) \\frac{\\partial f}{\\partial x} + (y_i-<y>)\\frac{\\partial f}{\\partial y} \\right]^2\n",
    "$$\n",
    "which gives\n",
    "$$\n",
    "\\sigma_f^2=\\sigma^2_x \\left(\\frac{\\partial f}{\\partial x}\\right)^2 + \\sigma^2_y \\left(\\frac{\\partial f}{\\partial y}\\right)^2+2cov(x,y)\\frac{\\partial f}{\\partial x}\\frac{\\partial f}{\\partial y}\n",
    "$$\n",
    "\n",
    "We can also write this equation in matrix form\n",
    "$$\n",
    "\\sigma_f^2 = \n",
    "\\begin{bmatrix}\\frac{\\partial f}{\\partial x},&\\frac{\\partial f}{\\partial y}\n",
    "\\end{bmatrix}\n",
    "\\begin{bmatrix}\n",
    "\\sigma^2_x & cov(x,y)\\\\\n",
    "cov(x,y) & \\sigma^2_y\n",
    "\\end{bmatrix}\n",
    "\\begin{bmatrix}\\frac{\\partial f}{\\partial x}\\\\\n",
    "               \\frac{\\partial f}{\\partial y}\n",
    "\\end{bmatrix}\n",
    "$$\n",
    "\n",
    "Now it is easy to generalize this equation to any number of variables\n",
    "$$\n",
    "\\sigma_f^2 = \n",
    "\\begin{bmatrix}\\frac{\\partial f}{\\partial x_1},&\\frac{\\partial f}{\\partial x_2},&\n",
    "\\frac{\\partial f}{\\partial x_3},...\n",
    "\\end{bmatrix}\n",
    "\\begin{bmatrix}\n",
    "\\sigma^2_{x_1} & cov(x_1,x_2) & cov(x_1,x_3) & ...\\\\\n",
    "cov(x_2,x_1) & \\sigma^2_{x_2} & cov(x_2,x_3) & ...\\\\\n",
    "cov(x_3,x_1) & cov(x_3,x_2) & \\sigma^2_{x_3} & ...\\\\\n",
    "...\n",
    "\\end{bmatrix}\n",
    "\\begin{bmatrix}\\frac{\\partial f}{\\partial x_1}\\\\\n",
    "               \\frac{\\partial f}{\\partial x_2}\\\\\n",
    "               \\frac{\\partial f}{\\partial x_3}\\\\\n",
    "               ...\n",
    "\\end{bmatrix}\n",
    "$$"
   ]
  },
  {
   "cell_type": "markdown",
   "id": "1b15c531",
   "metadata": {},
   "source": [
    "The following demonstrates covariance with a set of measurements of variables $x$ and $y$: We display 400 random measurements (black dots) which have the same means (white squares) but different covariance structures. The marginal distributions of the $x$ and $y$ variables are shown as ‘bell curves’ on the top and right axis of each plot.\n",
    "\n",
    "<img src=\"./covariance.png\"/>\n"
   ]
  },
  {
   "cell_type": "markdown",
   "id": "87a4c546",
   "metadata": {},
   "source": [
    "Often we do not have many measurements, but we know the probability distribution of measurement $P(x)$, and we need to compute the variance from the distribution. The formulas are straighforard generalization of discrete formulas\n",
    "\n",
    "$$\\sigma_x^2 = \\int dx P(x) (x-<x>)^2$$\n",
    "where probability is normalized\n",
    "$$ \\int dx P(x)=1 $$ and average is given by\n",
    "$$<x> = \\int dx P(x) x$$\n",
    "\n",
    "We can check that with discrete probability distribution defined by\n",
    "$$P(x) = \\frac{1}{n}\\sum_{i=0}^{n-1} \\delta(x-x_i)$$\n",
    "we recover the discrete formulas, except that $n-1$ is replaced by $n$ in estimation of variance. For continuum distributions it is assumed that $n$ is very large, hence the two formulas are equivalent."
   ]
  },
  {
   "cell_type": "markdown",
   "id": "086dab73",
   "metadata": {},
   "source": [
    "As an example we consider uniform distribution between $[-a,a]$. The probability is than \n",
    "$$P(x) = \\frac{1}{2a} \\theta(-a<x<a)$$\n",
    "and  $<x>=0$ and \n",
    "$$\\sigma^2_x = \\frac{1}{2a}\\int_{-a}^a x^2 dx=\\frac{a^2}{3} $$\n",
    "and hence $\\sigma_x = \\frac{a}{\\sqrt{3}}$.\n",
    "\n",
    "As the second example we consider triangular distribution between $[-a,a]$. The probability is \n",
    "\n",
    "$$P(x) = \\frac{1}{a}\\left(1-\\left|\\frac{x}{a}\\right|\\right) \\theta(-a<x<a)$$\n",
    "This gives the average $<x>=0$ and \n",
    "$$\\sigma^2_x = \\frac{1}{a}\\int_{-a}^a \\left(1-\\left|\\frac{x}{a}\\right|\\right)x^2 dx=\\frac{a^2}{6} $$ hence $\\sigma_x = \\frac{a}{\\sqrt{6}}$"
   ]
  },
  {
   "cell_type": "code",
   "execution_count": 46,
   "id": "c1a9fc6e",
   "metadata": {},
   "outputs": [
    {
     "data": {
      "image/png": "[encoded data removed]",
      "text/plain": [
       "<Figure size 640x480 with 1 Axes>"
      ]
     },
     "metadata": {},
     "output_type": "display_data"
    }
   ],
   "source": [
    "import numpy as np\n",
    "import matplotlib.pyplot as plt\n",
    "\n",
    "N=200\n",
    "x=np.linspace(-2,2,N)\n",
    "yuniform=np.hstack( (np.zeros(int(N/4)),0.5*np.ones(int(N/2)),np.zeros(int(N/4)) ))\n",
    "ytriang= [0 if abs(t)>1 else 1.-abs(t) for t in x]\n",
    "plt.plot(x,yuniform, label='P(uniform)')\n",
    "plt.plot(x,ytriang, label='P(triangular)')\n",
    "plt.legend(loc='best');"
   ]
  },
  {
   "cell_type": "markdown",
   "id": "ad7746a2",
   "metadata": {},
   "source": [
    "As a simplest example, assume that we want to calculate person's body mass index (BMI), which is the ratio of \n",
    "$$\\textrm{BMI} = \\frac{\\textrm{body_mass}(kg)}{[\\textrm{body_height}(m)]^2}.$$\n",
    "It is often used as an (imperfect) indicator of obesity or malnutrition.\n",
    "\n",
    "Suppose that the scale tells you that your weigh is 84 kg, but has precision to the nearest kilogram. The tape measure says you are between 181 and 182 cm tall, most likely 181.5cm. \n",
    "\n",
    "We can safely assume that measurements of height and weight are uncorrelated, i.e., error in measuring weight is not affected by the way we measure height: $cov(m,l)=0$.\n",
    "\n",
    "We can say that probability for mass $m$ is uniformly distributed between 83.5 kg and 84.5 kg. The probability for height has most likely triangular probability distribution between 1.81 m and 1.82 m.\n",
    "\n",
    "\n",
    "The uniform distribution between $83.5$ and $84.5$ has variance $\\sigma_m = 0.5/\\sqrt{3}=0.2887$ kg.\n",
    "The triangular distribution between 1.81 and 1.82 cm has variance $\\sigma_h=0.005/\\sqrt{6}=0.00204$\n",
    "\n",
    "$$ BMI = \\frac{m}{h^2} $$\n",
    "$$ \\frac{\\partial BMI}{\\partial m} = \\frac{1}{h^2} $$\n",
    "$$ \\frac{\\partial BMI}{\\partial h} = -\\frac{2m}{h^3}$$\n",
    "$$\\sigma_{BMI} = \\sqrt{\\frac{1}{h^4}\\sigma^2_m + \\frac{4 m^2}{h^6}\\sigma^2_h}$$"
   ]
  },
  {
   "cell_type": "markdown",
   "id": "35cf75db",
   "metadata": {},
   "source": [
    "Below we compute BMI and its error using just derived formulas:"
   ]
  },
  {
   "cell_type": "code",
   "execution_count": 44,
   "id": "6a57bb6e",
   "metadata": {},
   "outputs": [
    {
     "data": {
      "text/plain": [
       "[25.49916900029597, 0.10473188414630029]"
      ]
     },
     "execution_count": 44,
     "metadata": {},
     "output_type": "execute_result"
    }
   ],
   "source": [
    "mi = 84;    sm = 0.5/sqrt(3);  # average mass and its variance\n",
    "hi = 1.815; sh=0.005/sqrt(6);  # average height and its variance\n",
    "\n",
    "# BMI and its variance\n",
    "[mi/hi**2 , sqrt(sm**2/hi**4+sh**2*4*mi**2/hi**6)]"
   ]
  },
  {
   "cell_type": "markdown",
   "id": "8f9160cb",
   "metadata": {},
   "source": [
    "Python provides package `uncertainties`, which has capabilities to automatically differentiate any function, and propagate error. \n",
    "\n",
    "Here we demonstrate it on the example of BMI:"
   ]
  },
  {
   "cell_type": "code",
   "execution_count": 45,
   "id": "47437a20",
   "metadata": {},
   "outputs": [
    {
     "data": {
      "text/plain": [
       "25.49916900029597+/-0.10473188414630027"
      ]
     },
     "execution_count": 45,
     "metadata": {},
     "output_type": "execute_result"
    }
   ],
   "source": [
    "from uncertainties import ufloat\n",
    "from uncertainties.umath import *  # functions like sin(), etc.\n",
    "\n",
    "m = ufloat(84,0.5/sqrt(3))\n",
    "l = ufloat(1.815,0.005/sqrt(6))\n",
    "\n",
    "m/l**2"
   ]
  },
  {
   "cell_type": "markdown",
   "id": "6c7174e3",
   "metadata": {},
   "source": [
    "Clearly our derivation agrees with the package, and we are on the right track."
   ]
  },
  {
   "cell_type": "markdown",
   "id": "27765aba",
   "metadata": {},
   "source": [
    "### Stochastic solution\n",
    "\n",
    "If we do not have the analytical form of the function, it is sometimes hard to differentiate it. The solution with Monte Carlo is more robust and straightforward. The idea is to throw many points with the correct distribution and analyze the resulting distribution of points. Essentially, we go from continuous functions to a discrete representation by a random sample of Monte Carlo points.\n"
   ]
  },
  {
   "cell_type": "code",
   "execution_count": 61,
   "id": "36f27ab9",
   "metadata": {},
   "outputs": [
    {
     "name": "stdout",
     "output_type": "stream",
     "text": [
      "25.499446219636475 ± 0.1046575342925108\n"
     ]
    },
    {
     "data": {
      "image/png": "[encoded data removed]",
      "text/plain": [
       "<Figure size 640x480 with 1 Axes>"
      ]
     },
     "metadata": {},
     "output_type": "display_data"
    }
   ],
   "source": [
    "import numpy as np\n",
    "from numpy.random import *\n",
    "\n",
    "# N is the number of runs in our stochastic simulation\n",
    "N = 100_000\n",
    "\n",
    "def BMI():\n",
    "    return uniform(83.5, 84.5) / triangular(1.81, 1.815, 1.82)**2\n",
    "\n",
    "sim = np.zeros(N)\n",
    "for i in range(N):\n",
    "    sim[i] = BMI()\n",
    "print(\"{} ± {}\".format(sim.mean(), sim.std()))\n",
    "plt.hist(sim, alpha=0.5, bins=100);"
   ]
  },
  {
   "cell_type": "markdown",
   "id": "d98e9595",
   "metadata": {},
   "source": [
    "### More information on using *uncertainties* package"
   ]
  },
  {
   "cell_type": "code",
   "execution_count": 69,
   "id": "8069aa01",
   "metadata": {},
   "outputs": [
    {
     "name": "stdout",
     "output_type": "stream",
     "text": [
      "['acos', 'acosh', 'asin', 'asinh', 'atan', 'atan2', 'atanh', 'ceil', 'copysign', 'cos', 'cosh', 'degrees', 'erf', 'erfc', 'exp', 'expm1', 'fabs', 'floor', 'fmod', 'gamma', 'hypot', 'isinf', 'isnan', 'lgamma', 'log', 'log10', 'log1p', 'pow', 'radians', 'sin', 'sinh', 'sqrt', 'tan', 'tanh', 'trunc', 'modf', 'ldexp', 'factorial', 'fsum', 'frexp']\n"
     ]
    }
   ],
   "source": [
    "import uncertainties as u\n",
    "from uncertainties import ufloat\n",
    "from uncertainties.umath import *  # functions like sin(), etc.\n",
    "\n",
    "print(uncertainties.umath.__all__) # many, but not all functions are defined in umath"
   ]
  },
  {
   "cell_type": "markdown",
   "id": "f9016b67",
   "metadata": {},
   "source": [
    "Suppose we need to use a special function `erf`, which is not available in `umath` part. Can we still compute uncertainty with the package?\n",
    "\n",
    "The package provide function (a decorator) that wraps any numerically given function, and produces function that can work with uncertainties through `ufloat`. The wrapper is `u.wrap`.\n",
    "\n",
    "The limitation is that such function needs to return float given input float (should not return a list). No need to specify any derivatives, which seems are computed internally numerically.\n"
   ]
  },
  {
   "cell_type": "code",
   "execution_count": 77,
   "id": "7cb8f9f5",
   "metadata": {},
   "outputs": [
    {
     "data": {
      "text/plain": [
       "0.8427007929497148+/-0.20755374990403652"
      ]
     },
     "execution_count": 77,
     "metadata": {},
     "output_type": "execute_result"
    }
   ],
   "source": [
    "from scipy.special import erf\n",
    "\n",
    "u.wrap(erf)(ufloat(1,0.5))"
   ]
  },
  {
   "cell_type": "markdown",
   "id": "5bd988aa",
   "metadata": {},
   "source": [
    "How do we know if the package got the correct unswer? \n",
    "Can we check if package works correctly?"
   ]
  },
  {
   "cell_type": "code",
   "execution_count": 86,
   "id": "d3633a10",
   "metadata": {},
   "outputs": [
    {
     "data": {
      "text/plain": [
       "0.20755374940228943"
      ]
     },
     "execution_count": 86,
     "metadata": {},
     "output_type": "execute_result"
    }
   ],
   "source": [
    "x0=1.0\n",
    "dx=1e-4\n",
    "df=(erf(x0+dx)-erf(x0-dx))/(2*dx)\n",
    "df*0.5  # sigma_f = df/dx * sig_x"
   ]
  },
  {
   "cell_type": "markdown",
   "id": "137506ea",
   "metadata": {},
   "source": [
    "Indeed the package works correctly for this simple case."
   ]
  },
  {
   "cell_type": "code",
   "execution_count": 87,
   "id": "963f82e2",
   "metadata": {},
   "outputs": [
    {
     "data": {
      "text/plain": [
       "0.4769362762044693+/-0.02781462064012885"
      ]
     },
     "execution_count": 87,
     "metadata": {},
     "output_type": "execute_result"
    }
   ],
   "source": [
    "from scipy.optimize import fsolve\n",
    "\n",
    "def f(x,a):\n",
    "    return a*erf(x)-1\n",
    "\n",
    "def g(x0,a):\n",
    "    sol, = fsolve(f, x0, args=(a,))\n",
    "    return sol\n",
    "\n",
    "u.wrap(g)(1.0, ufloat(2,0.1))"
   ]
  },
  {
   "cell_type": "markdown",
   "id": "ed405a3d",
   "metadata": {},
   "source": [
    "## Projectile motion with uncertainty"
   ]
  },
  {
   "cell_type": "markdown",
   "id": "04897713",
   "metadata": {},
   "source": [
    "Next we want to understand how hard it is to hit a target with projectile taking into account a realistic air resistance and its uncertainty due to weather and density of athmospehere.\n",
    "\n",
    "\n",
    "A spherical projectile of mass $m$ launched with some initial velocity moves under the influence of two forces: gravity $\\vec{F}_g=-mg \\vec{e}_z$, and air resistance (drag), $\\vec{F}_D=- \\frac{1}{2} c \\rho A v \\vec{v}$, acting in the opposite direction to the projectile's velocity and proportional to the square of that velocity. Here, $c$ is the drag coefficient, $\\rho$ the air density, and $A$ the projectile's cross-sectional area.\n",
    "\n",
    "The relevant equations of motion are therefore:\n",
    "\n",
    "$$m\\ddot{\\vec{r}} = \\vec{F} = -mg \\vec{e}_z - \\frac{1}{2} c \\rho A v \\vec{v}$$\n",
    "\n",
    "The horizontal axis is choosen as $x$ and vertical as $z$, hence in component work we have\n",
    "$$ m \\begin{bmatrix}\\ddot{x}\\\\ \\ddot{z}\\end{bmatrix} = \n",
    "-mg\\begin{bmatrix}0\\\\ 1\\end{bmatrix}\n",
    "-\\frac{1}{2} c \\rho A \\sqrt{\\dot{x}^2+\\dot{z}^2} \\begin{bmatrix}\\dot{x}\\\\ \\dot{z}\\end{bmatrix}$$\n",
    "\n",
    "Next we choose $$ k=\\frac{c \\rho A}{2 m}$$ and a set of new variables \n",
    "\n",
    "$$\\begin{bmatrix}u_1\\\\ u_2\\\\ u_3\\\\ u_4 \\end{bmatrix}= \\begin{bmatrix}x\\\\ z\\\\ \\dot{x}\\\\ \\dot{z} \\end{bmatrix}$$\n",
    "with which we can decomposed these Eq. into the following four first-order ODEs:\n",
    "$$\\begin{bmatrix}\\dot{u}_1=\\dot{x}\\\\ \\dot{u}_2=\\dot{z}\\\\ \\dot{u}_3=\\ddot{x}\\\\ \\dot{u}_4=\\ddot{z} \\end{bmatrix}= \\begin{bmatrix} \\dot{x}\\\\ \\dot{z}\\\\ -k\\, \\dot{x} \\sqrt{\\dot{x}^2+\\dot{z}^2}\\\\ -g-k\\, \\dot{z} \\sqrt{\\dot{x}^2+\\dot{z}^2} \\end{bmatrix}$$\n",
    "\n"
   ]
  },
  {
   "cell_type": "markdown",
   "id": "fa0bf464",
   "metadata": {},
   "source": [
    "We have only one parameter of the theory $k$ (in addition to $g$ which we will treat as a constant withouth error). \n",
    "\n",
    "This constant has units of 1/m if we meassure distance in m. Indeed $c$ has no units, density of air $\\rho$ has units of km/m$^3$ and crossection m$^2$ and mass kg."
   ]
  },
  {
   "cell_type": "markdown",
   "id": "160c1f40",
   "metadata": {},
   "source": [
    "In the absence of air resistance, we can solve the equations to get \n",
    "$$ z= v_0 \\sin\\theta t - \\frac{1}{2} g t^2 $$\n",
    "$$ x = v_0 \\cos\\theta t$$\n",
    "and distance traveled when the projectile hits the ground is \n",
    "$$D=\\frac{v_0^2}{g}\\sin(2\\theta)$$\n",
    "\n",
    "We thus want to aim at $45^\\circ$ to get maximum distance, in which case projectile should go to $D=\\frac{v_0^2}{g}$. Let's assume that we can choose initial speed of 1000 m/s and $g=9.82$, which would result in $D\\approx 102 km$"
   ]
  },
  {
   "cell_type": "markdown",
   "id": "03088f8d",
   "metadata": {},
   "source": [
    "Next we set up integration of these equations when $k$ is choosen to be a small constant ($10^{-4}$). We will adrees its good estimation and its error below."
   ]
  },
  {
   "cell_type": "code",
   "execution_count": 323,
   "id": "196ae2d4",
   "metadata": {},
   "outputs": [
    {
     "data": {
      "text/plain": [
       "[<matplotlib.lines.Line2D at 0x7f7a2ca1d970>]"
      ]
     },
     "execution_count": 323,
     "metadata": {},
     "output_type": "execute_result"
    },
    {
     "data": {
      "image/png": "[encoded data removed]",
      "text/plain": [
       "<Figure size 640x480 with 1 Axes>"
      ]
     },
     "metadata": {},
     "output_type": "display_data"
    }
   ],
   "source": [
    "from scipy.integrate import odeint  # We will first use odeint, which we are already familiar with\n",
    "from numpy import *\n",
    "\n",
    "def dy(u,t): # appropriate for odeint\n",
    "    \"\"\"\n",
    "    The derivative for projectile motion with air resistance\n",
    "    \"\"\"\n",
    "    g, k = 9.82, 1e-4\n",
    "    x,z,xdot,zdot = u\n",
    "    dx = xdot\n",
    "    dz = zdot\n",
    "    dxdot = -k * xdot * sqrt(xdot**2+zdot**2)\n",
    "    dzdot = -g -k * zdot * sqrt(xdot**2+zdot**2)\n",
    "    return array([dx,dz,dxdot,dzdot])\n",
    "\n",
    "# choose an initial state\n",
    "v0 = 1000. # velocity magnitude in m/s\n",
    "x0 = [0, 0, v0*cos(pi/4), v0*sin(pi/4)] # initial velocity at 45 degrees\n",
    "\n",
    "t0f = (0,100) # initial and final time\n",
    "\n",
    "t = linspace(t0f[0], t0f[1], 250) # create linear mesh of time points\n",
    "# solve the ODE problem\n",
    "y = odeint(dy, x0, t)\n",
    "\n",
    "plt.plot(y[:,0],y[:,1], '.-')"
   ]
  },
  {
   "cell_type": "markdown",
   "id": "6c6dfd72",
   "metadata": {},
   "source": [
    "Surprising, this more realistic trajectory suggests only around 16 km range rather than over 100 km in the absence of air resistance."
   ]
  },
  {
   "cell_type": "markdown",
   "id": "7d32416c",
   "metadata": {},
   "source": [
    "Next we will use more appropriate solver `solve_ivp`, which chooses time steps automatically, and can resolve with high accuracy certain events, here the time the projectile hits the ground.\n"
   ]
  },
  {
   "cell_type": "code",
   "execution_count": 324,
   "id": "0a3a9590",
   "metadata": {},
   "outputs": [
    {
     "name": "stdout",
     "output_type": "stream",
     "text": [
      "Help on function solve_ivp in module scipy.integrate._ivp.ivp:\n",
      "\n",
      "solve_ivp(fun, t_span, y0, method='RK45', t_eval=None, dense_output=False, events=None, vectorized=False, args=None, **options)\n",
      "    Solve an initial value problem for a system of ODEs.\n",
      "    \n",
      "    This function numerically integrates a system of ordinary differential\n",
      "    equations given an initial value::\n",
      "    \n",
      "        dy / dt = f(t, y)\n",
      "        y(t0) = y0\n",
      "    \n",
      "    Here t is a 1-D independent variable (time), y(t) is an\n",
      "    N-D vector-valued function (state), and an N-D\n",
      "    vector-valued function f(t, y) determines the differential equations.\n",
      "    The goal is to find y(t) approximately satisfying the differential\n",
      "    equations, given an initial value y(t0)=y0.\n",
      "    \n",
      "    Some of the solvers support integration in the complex domain, but note\n",
      "    that for stiff ODE solvers, the right-hand side must be\n",
      "    complex-differentiable (satisfy Cauchy-Riemann equations [11]_).\n",
      "    To solve a problem in the complex domain, pass y0 with a complex data type.\n",
      "    Another option always available is to rewrite your problem for real and\n",
      "    imaginary parts separately.\n",
      "    \n",
      "    Parameters\n",
      "    ----------\n",
      "    fun : callable\n",
      "        Right-hand side of the system. The calling signature is ``fun(t, y)``.\n",
      "        Here `t` is a scalar, and there are two options for the ndarray `y`:\n",
      "        It can either have shape (n,); then `fun` must return array_like with\n",
      "        shape (n,). Alternatively, it can have shape (n, k); then `fun`\n",
      "        must return an array_like with shape (n, k), i.e., each column\n",
      "        corresponds to a single column in `y`. The choice between the two\n",
      "        options is determined by `vectorized` argument (see below). The\n",
      "        vectorized implementation allows a faster approximation of the Jacobian\n",
      "        by finite differences (required for stiff solvers).\n",
      "    t_span : 2-member sequence\n",
      "        Interval of integration (t0, tf). The solver starts with t=t0 and\n",
      "        integrates until it reaches t=tf. Both t0 and tf must be floats\n",
      "        or values interpretable by the float conversion function.\n",
      "    y0 : array_like, shape (n,)\n",
      "        Initial state. For problems in the complex domain, pass `y0` with a\n",
      "        complex data type (even if the initial value is purely real).\n",
      "    method : string or `OdeSolver`, optional\n",
      "        Integration method to use:\n",
      "    \n",
      "            * 'RK45' (default): Explicit Runge-Kutta method of order 5(4) [1]_.\n",
      "              The error is controlled assuming accuracy of the fourth-order\n",
      "              method, but steps are taken using the fifth-order accurate\n",
      "              formula (local extrapolation is done). A quartic interpolation\n",
      "              polynomial is used for the dense output [2]_. Can be applied in\n",
      "              the complex domain.\n",
      "            * 'RK23': Explicit Runge-Kutta method of order 3(2) [3]_. The error\n",
      "              is controlled assuming accuracy of the second-order method, but\n",
      "              steps are taken using the third-order accurate formula (local\n",
      "              extrapolation is done). A cubic Hermite polynomial is used for the\n",
      "              dense output. Can be applied in the complex domain.\n",
      "            * 'DOP853': Explicit Runge-Kutta method of order 8 [13]_.\n",
      "              Python implementation of the \"DOP853\" algorithm originally\n",
      "              written in Fortran [14]_. A 7-th order interpolation polynomial\n",
      "              accurate to 7-th order is used for the dense output.\n",
      "              Can be applied in the complex domain.\n",
      "            * 'Radau': Implicit Runge-Kutta method of the Radau IIA family of\n",
      "              order 5 [4]_. The error is controlled with a third-order accurate\n",
      "              embedded formula. A cubic polynomial which satisfies the\n",
      "              collocation conditions is used for the dense output.\n",
      "            * 'BDF': Implicit multi-step variable-order (1 to 5) method based\n",
      "              on a backward differentiation formula for the derivative\n",
      "              approximation [5]_. The implementation follows the one described\n",
      "              in [6]_. A quasi-constant step scheme is used and accuracy is\n",
      "              enhanced using the NDF modification. Can be applied in the\n",
      "              complex domain.\n",
      "            * 'LSODA': Adams/BDF method with automatic stiffness detection and\n",
      "              switching [7]_, [8]_. This is a wrapper of the Fortran solver\n",
      "              from ODEPACK.\n",
      "    \n",
      "        Explicit Runge-Kutta methods ('RK23', 'RK45', 'DOP853') should be used\n",
      "        for non-stiff problems and implicit methods ('Radau', 'BDF') for\n",
      "        stiff problems [9]_. Among Runge-Kutta methods, 'DOP853' is recommended\n",
      "        for solving with high precision (low values of `rtol` and `atol`).\n",
      "    \n",
      "        If not sure, first try to run 'RK45'. If it makes unusually many\n",
      "        iterations, diverges, or fails, your problem is likely to be stiff and\n",
      "        you should use 'Radau' or 'BDF'. 'LSODA' can also be a good universal\n",
      "        choice, but it might be somewhat less convenient to work with as it\n",
      "        wraps old Fortran code.\n",
      "    \n",
      "        You can also pass an arbitrary class derived from `OdeSolver` which\n",
      "        implements the solver.\n",
      "    t_eval : array_like or None, optional\n",
      "        Times at which to store the computed solution, must be sorted and lie\n",
      "        within `t_span`. If None (default), use points selected by the solver.\n",
      "    dense_output : bool, optional\n",
      "        Whether to compute a continuous solution. Default is False.\n",
      "    events : callable, or list of callables, optional\n",
      "        Events to track. If None (default), no events will be tracked.\n",
      "        Each event occurs at the zeros of a continuous function of time and\n",
      "        state. Each function must have the signature ``event(t, y)`` and return\n",
      "        a float. The solver will find an accurate value of `t` at which\n",
      "        ``event(t, y(t)) = 0`` using a root-finding algorithm. By default, all\n",
      "        zeros will be found. The solver looks for a sign change over each step,\n",
      "        so if multiple zero crossings occur within one step, events may be\n",
      "        missed. Additionally each `event` function might have the following\n",
      "        attributes:\n",
      "    \n",
      "            terminal: bool, optional\n",
      "                Whether to terminate integration if this event occurs.\n",
      "                Implicitly False if not assigned.\n",
      "            direction: float, optional\n",
      "                Direction of a zero crossing. If `direction` is positive,\n",
      "                `event` will only trigger when going from negative to positive,\n",
      "                and vice versa if `direction` is negative. If 0, then either\n",
      "                direction will trigger event. Implicitly 0 if not assigned.\n",
      "    \n",
      "        You can assign attributes like ``event.terminal = True`` to any\n",
      "        function in Python.\n",
      "    vectorized : bool, optional\n",
      "        Whether `fun` is implemented in a vectorized fashion. Default is False.\n",
      "    args : tuple, optional\n",
      "        Additional arguments to pass to the user-defined functions.  If given,\n",
      "        the additional arguments are passed to all user-defined functions.\n",
      "        So if, for example, `fun` has the signature ``fun(t, y, a, b, c)``,\n",
      "        then `jac` (if given) and any event functions must have the same\n",
      "        signature, and `args` must be a tuple of length 3.\n",
      "    **options\n",
      "        Options passed to a chosen solver. All options available for already\n",
      "        implemented solvers are listed below.\n",
      "    first_step : float or None, optional\n",
      "        Initial step size. Default is `None` which means that the algorithm\n",
      "        should choose.\n",
      "    max_step : float, optional\n",
      "        Maximum allowed step size. Default is np.inf, i.e., the step size is not\n",
      "        bounded and determined solely by the solver.\n",
      "    rtol, atol : float or array_like, optional\n",
      "        Relative and absolute tolerances. The solver keeps the local error\n",
      "        estimates less than ``atol + rtol * abs(y)``. Here `rtol` controls a\n",
      "        relative accuracy (number of correct digits), while `atol` controls\n",
      "        absolute accuracy (number of correct decimal places). To achieve the\n",
      "        desired `rtol`, set `atol` to be smaller than the smallest value that\n",
      "        can be expected from ``rtol * abs(y)`` so that `rtol` dominates the\n",
      "        allowable error. If `atol` is larger than ``rtol * abs(y)`` the\n",
      "        number of correct digits is not guaranteed. Conversely, to achieve the\n",
      "        desired `atol` set `rtol` such that ``rtol * abs(y)`` is always smaller\n",
      "        than `atol`. If components of y have different scales, it might be\n",
      "        beneficial to set different `atol` values for different components by\n",
      "        passing array_like with shape (n,) for `atol`. Default values are\n",
      "        1e-3 for `rtol` and 1e-6 for `atol`.\n",
      "    jac : array_like, sparse_matrix, callable or None, optional\n",
      "        Jacobian matrix of the right-hand side of the system with respect\n",
      "        to y, required by the 'Radau', 'BDF' and 'LSODA' method. The\n",
      "        Jacobian matrix has shape (n, n) and its element (i, j) is equal to\n",
      "        ``d f_i / d y_j``.  There are three ways to define the Jacobian:\n",
      "    \n",
      "            * If array_like or sparse_matrix, the Jacobian is assumed to\n",
      "              be constant. Not supported by 'LSODA'.\n",
      "            * If callable, the Jacobian is assumed to depend on both\n",
      "              t and y; it will be called as ``jac(t, y)``, as necessary.\n",
      "              For 'Radau' and 'BDF' methods, the return value might be a\n",
      "              sparse matrix.\n",
      "            * If None (default), the Jacobian will be approximated by\n",
      "              finite differences.\n",
      "    \n",
      "        It is generally recommended to provide the Jacobian rather than\n",
      "        relying on a finite-difference approximation.\n",
      "    jac_sparsity : array_like, sparse matrix or None, optional\n",
      "        Defines a sparsity structure of the Jacobian matrix for a finite-\n",
      "        difference approximation. Its shape must be (n, n). This argument\n",
      "        is ignored if `jac` is not `None`. If the Jacobian has only few\n",
      "        non-zero elements in *each* row, providing the sparsity structure\n",
      "        will greatly speed up the computations [10]_. A zero entry means that\n",
      "        a corresponding element in the Jacobian is always zero. If None\n",
      "        (default), the Jacobian is assumed to be dense.\n",
      "        Not supported by 'LSODA', see `lband` and `uband` instead.\n",
      "    lband, uband : int or None, optional\n",
      "        Parameters defining the bandwidth of the Jacobian for the 'LSODA'\n",
      "        method, i.e., ``jac[i, j] != 0 only for i - lband <= j <= i + uband``.\n",
      "        Default is None. Setting these requires your jac routine to return the\n",
      "        Jacobian in the packed format: the returned array must have ``n``\n",
      "        columns and ``uband + lband + 1`` rows in which Jacobian diagonals are\n",
      "        written. Specifically ``jac_packed[uband + i - j , j] = jac[i, j]``.\n",
      "        The same format is used in `scipy.linalg.solve_banded` (check for an\n",
      "        illustration).  These parameters can be also used with ``jac=None`` to\n",
      "        reduce the number of Jacobian elements estimated by finite differences.\n",
      "    min_step : float, optional\n",
      "        The minimum allowed step size for 'LSODA' method.\n",
      "        By default `min_step` is zero.\n",
      "    \n",
      "    Returns\n",
      "    -------\n",
      "    Bunch object with the following fields defined:\n",
      "    t : ndarray, shape (n_points,)\n",
      "        Time points.\n",
      "    y : ndarray, shape (n, n_points)\n",
      "        Values of the solution at `t`.\n",
      "    sol : `OdeSolution` or None\n",
      "        Found solution as `OdeSolution` instance; None if `dense_output` was\n",
      "        set to False.\n",
      "    t_events : list of ndarray or None\n",
      "        Contains for each event type a list of arrays at which an event of\n",
      "        that type event was detected. None if `events` was None.\n",
      "    y_events : list of ndarray or None\n",
      "        For each value of `t_events`, the corresponding value of the solution.\n",
      "        None if `events` was None.\n",
      "    nfev : int\n",
      "        Number of evaluations of the right-hand side.\n",
      "    njev : int\n",
      "        Number of evaluations of the Jacobian.\n",
      "    nlu : int\n",
      "        Number of LU decompositions.\n",
      "    status : int\n",
      "        Reason for algorithm termination:\n",
      "    \n",
      "            * -1: Integration step failed.\n",
      "            *  0: The solver successfully reached the end of `tspan`.\n",
      "            *  1: A termination event occurred.\n",
      "    \n",
      "    message : string\n",
      "        Human-readable description of the termination reason.\n",
      "    success : bool\n",
      "        True if the solver reached the interval end or a termination event\n",
      "        occurred (``status >= 0``).\n",
      "    \n",
      "    References\n",
      "    ----------\n",
      "    .. [1] J. R. Dormand, P. J. Prince, \"A family of embedded Runge-Kutta\n",
      "           formulae\", Journal of Computational and Applied Mathematics, Vol. 6,\n",
      "           No. 1, pp. 19-26, 1980.\n",
      "    .. [2] L. W. Shampine, \"Some Practical Runge-Kutta Formulas\", Mathematics\n",
      "           of Computation,, Vol. 46, No. 173, pp. 135-150, 1986.\n",
      "    .. [3] P. Bogacki, L.F. Shampine, \"A 3(2) Pair of Runge-Kutta Formulas\",\n",
      "           Appl. Math. Lett. Vol. 2, No. 4. pp. 321-325, 1989.\n",
      "    .. [4] E. Hairer, G. Wanner, \"Solving Ordinary Differential Equations II:\n",
      "           Stiff and Differential-Algebraic Problems\", Sec. IV.8.\n",
      "    .. [5] `Backward Differentiation Formula\n",
      "            <https://en.wikipedia.org/wiki/Backward_differentiation_formula>`_\n",
      "            on Wikipedia.\n",
      "    .. [6] L. F. Shampine, M. W. Reichelt, \"THE MATLAB ODE SUITE\", SIAM J. SCI.\n",
      "           COMPUTE., Vol. 18, No. 1, pp. 1-22, January 1997.\n",
      "    .. [7] A. C. Hindmarsh, \"ODEPACK, A Systematized Collection of ODE\n",
      "           Solvers,\" IMACS Transactions on Scientific Computation, Vol 1.,\n",
      "           pp. 55-64, 1983.\n",
      "    .. [8] L. Petzold, \"Automatic selection of methods for solving stiff and\n",
      "           nonstiff systems of ordinary differential equations\", SIAM Journal\n",
      "           on Scientific and Statistical Computing, Vol. 4, No. 1, pp. 136-148,\n",
      "           1983.\n",
      "    .. [9] `Stiff equation <https://en.wikipedia.org/wiki/Stiff_equation>`_ on\n",
      "           Wikipedia.\n",
      "    .. [10] A. Curtis, M. J. D. Powell, and J. Reid, \"On the estimation of\n",
      "            sparse Jacobian matrices\", Journal of the Institute of Mathematics\n",
      "            and its Applications, 13, pp. 117-120, 1974.\n",
      "    .. [11] `Cauchy-Riemann equations\n",
      "             <https://en.wikipedia.org/wiki/Cauchy-Riemann_equations>`_ on\n",
      "             Wikipedia.\n",
      "    .. [12] `Lotka-Volterra equations\n",
      "            <https://en.wikipedia.org/wiki/Lotka%E2%80%93Volterra_equations>`_\n",
      "            on Wikipedia.\n",
      "    .. [13] E. Hairer, S. P. Norsett G. Wanner, \"Solving Ordinary Differential\n",
      "            Equations I: Nonstiff Problems\", Sec. II.\n",
      "    .. [14] `Page with original Fortran code of DOP853\n",
      "            <http://www.unige.ch/~hairer/software.html>`_.\n",
      "    \n",
      "    Examples\n",
      "    --------\n",
      "    Basic exponential decay showing automatically chosen time points.\n",
      "    \n",
      "    >>> import numpy as np\n",
      "    >>> from scipy.integrate import solve_ivp\n",
      "    >>> def exponential_decay(t, y): return -0.5 * y\n",
      "    >>> sol = solve_ivp(exponential_decay, [0, 10], [2, 4, 8])\n",
      "    >>> print(sol.t)\n",
      "    [ 0.          0.11487653  1.26364188  3.06061781  4.81611105  6.57445806\n",
      "      8.33328988 10.        ]\n",
      "    >>> print(sol.y)\n",
      "    [[2.         1.88836035 1.06327177 0.43319312 0.18017253 0.07483045\n",
      "      0.03107158 0.01350781]\n",
      "     [4.         3.7767207  2.12654355 0.86638624 0.36034507 0.14966091\n",
      "      0.06214316 0.02701561]\n",
      "     [8.         7.5534414  4.25308709 1.73277247 0.72069014 0.29932181\n",
      "      0.12428631 0.05403123]]\n",
      "    \n",
      "    Specifying points where the solution is desired.\n",
      "    \n",
      "    >>> sol = solve_ivp(exponential_decay, [0, 10], [2, 4, 8],\n",
      "    ...                 t_eval=[0, 1, 2, 4, 10])\n",
      "    >>> print(sol.t)\n",
      "    [ 0  1  2  4 10]\n",
      "    >>> print(sol.y)\n",
      "    [[2.         1.21305369 0.73534021 0.27066736 0.01350938]\n",
      "     [4.         2.42610739 1.47068043 0.54133472 0.02701876]\n",
      "     [8.         4.85221478 2.94136085 1.08266944 0.05403753]]\n",
      "    \n",
      "    Cannon fired upward with terminal event upon impact. The ``terminal`` and\n",
      "    ``direction`` fields of an event are applied by monkey patching a function.\n",
      "    Here ``y[0]`` is position and ``y[1]`` is velocity. The projectile starts\n",
      "    at position 0 with velocity +10. Note that the integration never reaches\n",
      "    t=100 because the event is terminal.\n",
      "    \n",
      "    >>> def upward_cannon(t, y): return [y[1], -0.5]\n",
      "    >>> def hit_ground(t, y): return y[0]\n",
      "    >>> hit_ground.terminal = True\n",
      "    >>> hit_ground.direction = -1\n",
      "    >>> sol = solve_ivp(upward_cannon, [0, 100], [0, 10], events=hit_ground)\n",
      "    >>> print(sol.t_events)\n",
      "    [array([40.])]\n",
      "    >>> print(sol.t)\n",
      "    [0.00000000e+00 9.99900010e-05 1.09989001e-03 1.10988901e-02\n",
      "     1.11088891e-01 1.11098890e+00 1.11099890e+01 4.00000000e+01]\n",
      "    \n",
      "    Use `dense_output` and `events` to find position, which is 100, at the apex\n",
      "    of the cannonball's trajectory. Apex is not defined as terminal, so both\n",
      "    apex and hit_ground are found. There is no information at t=20, so the sol\n",
      "    attribute is used to evaluate the solution. The sol attribute is returned\n",
      "    by setting ``dense_output=True``. Alternatively, the `y_events` attribute\n",
      "    can be used to access the solution at the time of the event.\n",
      "    \n",
      "    >>> def apex(t, y): return y[1]\n",
      "    >>> sol = solve_ivp(upward_cannon, [0, 100], [0, 10],\n",
      "    ...                 events=(hit_ground, apex), dense_output=True)\n",
      "    >>> print(sol.t_events)\n",
      "    [array([40.]), array([20.])]\n",
      "    >>> print(sol.t)\n",
      "    [0.00000000e+00 9.99900010e-05 1.09989001e-03 1.10988901e-02\n",
      "     1.11088891e-01 1.11098890e+00 1.11099890e+01 4.00000000e+01]\n",
      "    >>> print(sol.sol(sol.t_events[1][0]))\n",
      "    [100.   0.]\n",
      "    >>> print(sol.y_events)\n",
      "    [array([[-5.68434189e-14, -1.00000000e+01]]), array([[1.00000000e+02, 1.77635684e-15]])]\n",
      "    \n",
      "    As an example of a system with additional parameters, we'll implement\n",
      "    the Lotka-Volterra equations [12]_.\n",
      "    \n",
      "    >>> def lotkavolterra(t, z, a, b, c, d):\n",
      "    ...     x, y = z\n",
      "    ...     return [a*x - b*x*y, -c*y + d*x*y]\n",
      "    ...\n",
      "    \n",
      "    We pass in the parameter values a=1.5, b=1, c=3 and d=1 with the `args`\n",
      "    argument.\n",
      "    \n",
      "    >>> sol = solve_ivp(lotkavolterra, [0, 15], [10, 5], args=(1.5, 1, 3, 1),\n",
      "    ...                 dense_output=True)\n",
      "    \n",
      "    Compute a dense solution and plot it.\n",
      "    \n",
      "    >>> t = np.linspace(0, 15, 300)\n",
      "    >>> z = sol.sol(t)\n",
      "    >>> import matplotlib.pyplot as plt\n",
      "    >>> plt.plot(t, z.T)\n",
      "    >>> plt.xlabel('t')\n",
      "    >>> plt.legend(['x', 'y'], shadow=True)\n",
      "    >>> plt.title('Lotka-Volterra System')\n",
      "    >>> plt.show()\n",
      "\n"
     ]
    }
   ],
   "source": [
    "from scipy.integrate import solve_ivp\n",
    "help(solve_ivp)"
   ]
  },
  {
   "cell_type": "code",
   "execution_count": 325,
   "id": "48a0ea9e",
   "metadata": {},
   "outputs": [
    {
     "name": "stdout",
     "output_type": "stream",
     "text": [
      "  message: A termination event occurred.\n",
      "  success: True\n",
      "   status: 1\n",
      "        t: [ 0.000e+00  1.414e-06 ...  6.601e+01  7.447e+01]\n",
      "        y: [[ 0.000e+00  1.000e-03 ...  1.534e+04  1.605e+04]\n",
      "            [ 0.000e+00  1.000e-03 ...  2.143e+03  1.364e-12]\n",
      "            [ 7.071e+02  7.071e+02 ...  9.370e+01  7.476e+01]\n",
      "            [ 7.071e+02  7.071e+02 ... -2.398e+02 -2.656e+02]]\n",
      "      sol: <scipy.integrate._ivp.common.OdeSolution object at 0x7f7a2c9b6be0>\n",
      " t_events: [array([ 7.447e+01]), array([ 3.047e+01])]\n",
      " y_events: [array([[ 1.605e+04,  1.364e-12,  7.476e+01, -2.656e+02]]), array([[ 1.027e+04,  7.061e+03,  1.986e+02, -2.842e-14]])]\n",
      "     nfev: 86\n",
      "     njev: 0\n",
      "      nlu: 0\n",
      "Time to target = 74.47 s\n",
      "Time to highest point = 30.47 s\n",
      "Distance hit =  16052.5168 m\n"
     ]
    }
   ],
   "source": [
    "from scipy.integrate import solve_ivp\n",
    "\n",
    "\n",
    "def dx(t,x): # appropriate for solve_ivp\n",
    "    return dy(x,t)\n",
    "\n",
    "\n",
    "def hit_target(t, u):\n",
    "    # We've hit the target if the z-coordinate is 0.\n",
    "    return u[1]\n",
    "# Stop the integration when we hit the target.\n",
    "hit_target.terminal = True\n",
    "# We must be moving downwards (don't stop before we begin moving upwards!)\n",
    "hit_target.direction = -1\n",
    "\n",
    "def max_height(t, u):\n",
    "    # The maximum height is obtained when the z-velocity is zero.\n",
    "    return u[3]\n",
    "\n",
    "# solve the ODE problem\n",
    "sol = solve_ivp(dx, t0f, x0, dense_output=True,\n",
    "                events=(hit_target, max_height))\n",
    "\n",
    "print(sol)\n",
    "print('Time to target = {:.2f} s'.format(sol.t_events[0][0]))\n",
    "print('Time to highest point = {:.2f} s'.format(sol.t_events[1][0]))\n",
    "print('Distance hit =  {:.4f} m'.format(sol.y_events[0][0,0]))"
   ]
  },
  {
   "cell_type": "markdown",
   "id": "37967d25",
   "metadata": {},
   "source": [
    "We can plot the projectile motion. Using `sol.y` we get only points at which the calculation was performed. If we need more precise curve, we can use `sol.sol()` with argument being fine mesh."
   ]
  },
  {
   "cell_type": "code",
   "execution_count": 326,
   "id": "adc3544a",
   "metadata": {},
   "outputs": [
    {
     "data": {
      "text/plain": [
       "[<matplotlib.lines.Line2D at 0x7f7a022023d0>]"
      ]
     },
     "execution_count": 326,
     "metadata": {},
     "output_type": "execute_result"
    },
    {
     "data": {
      "image/png": "[encoded data removed]",
      "text/plain": [
       "<Figure size 640x480 with 1 Axes>"
      ]
     },
     "metadata": {},
     "output_type": "display_data"
    }
   ],
   "source": [
    "import matplotlib.pyplot as plt\n",
    "\n",
    "tfine = linspace(0, sol.t_events[0][0], 100)\n",
    "soln = sol.sol(tfine)\n",
    "\n",
    "plt.plot(sol.y[0],sol.y[1], '.-')\n",
    "plt.plot(soln[0], soln[1])"
   ]
  },
  {
   "cell_type": "markdown",
   "id": "8aa10812",
   "metadata": {},
   "source": [
    "Next we are estmating more realistic values for drag coefficient $k$."
   ]
  },
  {
   "cell_type": "markdown",
   "id": "cb465564",
   "metadata": {},
   "source": [
    "A typical shell used in WW1 had diameter of 155 mm and length 1m and weighs about 50 kg.\n",
    "\n",
    "While most of the time the projectile moves such that the air is cut with the smallest crossection, at times the projectile might move a bit to expose the body of the shell. We estimate that the probability for angle $\\theta$ of projectile's direction is distributed exponentially, and probability for turning for 90$^\\circ$ is only one in a hudred  million.\n",
    "\n",
    "The air density at normal athmospheric conditions is 1.293 kg/m$^3$, but becomes less dense as projectile moves through higher parts of the athmosphere. We estimate that density drops down to 1.0 kg/m$^3$ at heigh 2000m. We can assume that density distribution is constant between 1.0 kg/m$^3$ and 1.293 kg/m$^3$. More precise calculation would allow air density to be height dependent, but since the density also strongly depends on the weather conditions and clouds, we would not neccessarily get much more realistic values.\n",
    "\n",
    "Assume that the coefficient $c$ of air resistance of our projectile is 0.45, but it is normally distributed with standard deviation 0.005. In practice, this coefficient depends strongly on \"aerodinamics\" of an object, and can be meassured in \"wind tunnel\" measurements."
   ]
  },
  {
   "cell_type": "markdown",
   "id": "e43db401",
   "metadata": {},
   "source": [
    "<img src=\"sketch_projectile.png\"/>"
   ]
  },
  {
   "cell_type": "markdown",
   "id": "c039c779",
   "metadata": {},
   "source": [
    "From the picture we can approximate the crossection as a function of angle to be:\n",
    "$$A = \\pi r^2 + 2 r l \\sin\\theta$$\n",
    "\n",
    "Probability for angle is distributed exponentially, hence we can write:\n",
    "$$P(\\theta) = C e^{-\\alpha \\theta}$$\n",
    "\n",
    "The normalization constant $C$ can be eliminated by requiring normalization of probability:\n",
    "$$1=\\int_0^{\\pi/2} d\\theta P(\\theta) = \\frac{C}{\\alpha}(1-e^{-\\alpha \\pi/2})\\rightarrow C=\\frac{\\alpha}{1-e^{-\\alpha \\pi/2}}$$\n",
    "\n",
    "Hence a closed form probability for angle is:\n",
    "$$P(\\theta) = \\frac{\\alpha e^{-\\alpha \\theta}}{1-e^{-\\alpha \\pi/2}}$$\n",
    "\n",
    "The unknown coefficient $\\alpha$ can be obtained by the statement that only one in hundred million of shells turn for 90$^\\circ$:\n",
    "$$p_0=10^{-8}=\\frac{\\alpha e^{-\\alpha \\pi/2}}{1-e^{-\\alpha \\pi/2}}=\\frac{\\alpha}{e^{\\alpha \\pi/2}-1}$$\n",
    "\n",
    "Next we want to calculate the average crossection $<A>$ and its variance. The average is:\n",
    "$$<A> =\\int_0^{\\pi/2} d\\theta P(\\theta) (\\pi r^2 + 2 r l \\sin\\theta)=\\pi r^2 + 2r l <\\sin\\theta>$$\n",
    "where the integral over angle $\\theta$ to get $<\\sin\\theta>$ will need to be carried out numerically.\n",
    "\n",
    "To get the variance, we also need:\n",
    "$$<A^2>=\\int_0^{\\pi/2} d\\theta P(\\theta) (\\pi r^2 + 2 r l \\sin\\theta)^2=(\\pi r^2)^2+2\\pi r^2 2 r l <\\sin\\theta>+(2 r l)^2 <\\sin^2\\theta>$$\n",
    "\n",
    "The standard deviation is the square root of the variance, i.e.,\n",
    "$$\\sigma_A = \\sqrt{<A^2>-<A>^2}=2 r l \\sqrt{<\\sin^2\\theta>-<\\sin\\theta>^2}$$\n",
    "\n",
    "$$A \\approx \\pi r^2 + 2 r l <\\sin\\theta> \\pm 2 r l \\sqrt{<\\sin^2\\theta>-<\\sin\\theta>^2}$$"
   ]
  },
  {
   "cell_type": "markdown",
   "id": "658ebbd9",
   "metadata": {},
   "source": [
    "The air density has maximum $\\rho_{max}=1.293$ kg/m$^3$ and minimum $\\rho_{min}$=1 kg/m$^3$ with the average $<\\rho>=(\\rho_{max}+\\rho_{min})/2=1.1465$ kg/m$^3$ and $\\sigma_\\rho=(\\rho_{max}-\\rho_{min})/(2\\sqrt{3})=0.0846$ kg/m$^3$, because the probability distribution is constant.\n",
    "\n",
    "The coefficient $c$ has average $0.45$ with $\\sigma_c=0.005$\n",
    "\n",
    "We next compute $<\\theta>$ and $<\\theta^2>$:"
   ]
  },
  {
   "cell_type": "code",
   "execution_count": 330,
   "id": "a551bc30",
   "metadata": {},
   "outputs": [
    {
     "name": "stdout",
     "output_type": "stream",
     "text": [
      "      converged: True\n",
      "           flag: 'converged'\n",
      " function_calls: 15\n",
      "     iterations: 14\n",
      "           root: 13.378119683088366\n",
      "Norm= 1.0\n",
      "<sin(theta)>= 0.07433358789414495\n",
      "<sin^2(theta)> 0.010930508834082253\n"
     ]
    }
   ],
   "source": [
    "from scipy.integrate import quad\n",
    "from scipy.optimize import root_scalar\n",
    "\n",
    "sr = root_scalar(lambda a: a/(exp(a*pi/2)-1)-10**-8, bracket=[0.01, 20.], method='brentq')\n",
    "print(sr)\n",
    "a = sr.root\n",
    "\n",
    "def P(th):\n",
    "    return a*exp(-a*th)/(1-exp(-a*pi/2))\n",
    "\n",
    "norm=quad(lambda th: P(th),0,pi/2)[0] # checking that probability is normalized\n",
    "print('Norm=', norm)\n",
    "tha = quad(lambda th: sin(th)*P(th),0,pi/2)[0] # average <sin(th)>\n",
    "tha2=quad(lambda th: sin(th)**2*P(th),0,pi/2)[0] # average <sin^2(th)>\n",
    "\n",
    "print('<sin(theta)>=',tha)\n",
    "print('<sin^2(theta)>',tha2)"
   ]
  },
  {
   "cell_type": "markdown",
   "id": "d032df46",
   "metadata": {},
   "source": [
    "We are now in a position to estimate the coefficient $k$ of drag."
   ]
  },
  {
   "cell_type": "code",
   "execution_count": 332,
   "id": "3e1ded84",
   "metadata": {},
   "outputs": [
    {
     "name": "stdout",
     "output_type": "stream",
     "text": [
      "c= 0.450+/-0.005 sigma/<>= 0.011111111111111112\n",
      "A= 0.030+/-0.011 sigma/<>= 0.37496186024270517\n",
      "rho= 1.15+/-0.08 sigma/<>= 0.07377393321960764\n",
      "ka= 0.00016+/-0.00006\n"
     ]
    }
   ],
   "source": [
    "m=50.  # mass in kg is measured very precisely\n",
    "\n",
    "c=ufloat(0.45,0.005) # drag coefficient is known approximately\n",
    "r = 155e-3/2 # radius of 155mm shell\n",
    "l = 1.       # length of the shell in m\n",
    "A = ufloat(pi*r**2 + 2*r*l*tha, 2*r*l*sqrt(tha2-tha**2)) # cross-section due to finite angle\n",
    "\n",
    "rhomax=1.293\n",
    "rhomin=1.0\n",
    "rho = ufloat((rhomax+rhomin)/2, (rhomax-rhomin)/(2*sqrt(3.)))\n",
    "\n",
    "print('c=', c, 'sigma/<>=', c.std_dev/c.nominal_value)\n",
    "print('A=', A, 'sigma/<>=', A.std_dev/A.nominal_value)\n",
    "print('rho=', rho, 'sigma/<>=',rho.std_dev/rho.nominal_value)\n",
    "\n",
    "\n",
    "ka = c*rho*A/(2*m)\n",
    "print('ka=', ka)"
   ]
  },
  {
   "cell_type": "markdown",
   "id": "5e6b5f63",
   "metadata": {},
   "source": [
    "We see that the worst error is in the projectile crossection, meaning that the projectile is not very stable in the air. This is where some engeneering of the shape is necessary to improve the stability of the direction.\n",
    "\n",
    "The second is the density of the air. Here it is hard to improve unless the missile is guided with high tech equipment, otherwise the air density is not possible to control. Of course the \"aerodinamics\" of the projectile could reduce $c$ substantially, which is a major goal of all realistic missile engeneering. "
   ]
  },
  {
   "cell_type": "markdown",
   "id": "9f368960",
   "metadata": {},
   "source": [
    "Next we calculate the trajectory with varying $k$ around its average value to estimate the derivative. (Note that the wrap function from module `uncertainty` is not working here). \n",
    "\n",
    "We are interested in distance in lateral direction where the projectile falls ($x$ at the point $z=0$) and its error estimate.\n",
    "\n",
    "We are thus computing $D(k)$ and we will estimate \n",
    "$$\\sigma_D = \\sigma_k \\left|\\frac{d D(k)}{dk}\\right|$$\n"
   ]
  },
  {
   "cell_type": "code",
   "execution_count": 333,
   "id": "0e948f12",
   "metadata": {},
   "outputs": [
    {
     "name": "stdout",
     "output_type": "stream",
     "text": [
      "[0.000156794235343206, 0.00016878309811701073, 0.00014480537256940127]\n",
      "  message: A termination event occurred.\n",
      "  success: True\n",
      "   status: 1\n",
      "        t: [ 0.000e+00  1.414e-06 ...  6.405e+01  6.485e+01]\n",
      "        y: [[ 0.000e+00  1.000e-03 ...  1.148e+04  1.152e+04]\n",
      "            [ 0.000e+00  1.000e-03 ...  1.750e+02  1.165e-12]\n",
      "            [ 7.071e+02  7.071e+02 ...  5.382e+01  5.232e+01]\n",
      "            [ 7.071e+02  7.071e+02 ... -2.193e+02 -2.209e+02]]\n",
      "      sol: <scipy.integrate._ivp.common.OdeSolution object at 0x7f7a08e23a30>\n",
      " t_events: [array([ 6.485e+01]), array([ 2.565e+01])]\n",
      " y_events: [array([[ 1.152e+04,  1.165e-12,  5.232e+01, -2.209e+02]]), array([[ 7.557e+03,  5.378e+03,  1.610e+02, -1.421e-14]])]\n",
      "     nfev: 92\n",
      "     njev: 0\n",
      "      nlu: 0\n",
      "  message: A termination event occurred.\n",
      "  success: True\n",
      "   status: 1\n",
      "        t: [ 0.000e+00  1.414e-06 ...  6.109e+01  6.334e+01]\n",
      "        y: [[ 0.000e+00  1.000e-03 ...  1.078e+04  1.089e+04]\n",
      "            [ 0.000e+00  1.000e-03 ...  4.758e+02 -4.547e-13]\n",
      "            [ 7.071e+02  7.071e+02 ...  5.355e+01  4.931e+01]\n",
      "            [ 7.071e+02  7.071e+02 ... -2.096e+02 -2.142e+02]]\n",
      "      sol: <scipy.integrate._ivp.common.OdeSolution object at 0x7f7a09119d90>\n",
      " t_events: [array([ 6.334e+01]), array([ 2.491e+01])]\n",
      " y_events: [array([[ 1.089e+04, -4.547e-13,  4.931e+01, -2.142e+02]]), array([[ 7.174e+03,  5.134e+03,  1.555e+02,  2.842e-14]])]\n",
      "     nfev: 92\n",
      "     njev: 0\n",
      "      nlu: 0\n",
      "  message: A termination event occurred.\n",
      "  success: True\n",
      "   status: 1\n",
      "        t: [ 0.000e+00  1.414e-06 ...  5.041e+01  6.650e+01]\n",
      "        y: [[ 0.000e+00  1.000e-03 ...  1.105e+04  1.223e+04]\n",
      "            [ 0.000e+00  1.000e-03 ...  3.310e+03  1.819e-12]\n",
      "            [ 7.071e+02  7.071e+02 ...  9.286e+01  5.577e+01]\n",
      "            [ 7.071e+02  7.071e+02 ... -1.756e+02 -2.284e+02]]\n",
      "      sol: <scipy.integrate._ivp.common.OdeSolution object at 0x7f7a09151910>\n",
      " t_events: [array([ 6.650e+01]), array([ 2.646e+01])]\n",
      " y_events: [array([[ 1.223e+04,  1.819e-12,  5.577e+01, -2.284e+02]]), array([[ 7.988e+03,  5.652e+03,  1.671e+02,  1.421e-14]])]\n",
      "     nfev: 86\n",
      "     njev: 0\n",
      "      nlu: 0\n",
      "Distance where projectile hits= 11517.658105652063\n",
      "Error of the distance= 3341.5938853340604\n"
     ]
    }
   ],
   "source": [
    "def dxn(t,u,k): # approproate for odeint\n",
    "    \"\"\"\n",
    "    The derivative for projectile motion with air resistance\n",
    "    \"\"\"\n",
    "    g = 9.82\n",
    "    x,z,xdot,zdot = u\n",
    "    dx = xdot\n",
    "    dz = zdot\n",
    "    dxdot = -k * xdot * sqrt(xdot**2+zdot**2)\n",
    "    dzdot = -g -k * zdot * sqrt(xdot**2+zdot**2)\n",
    "    return array([dx,dz,dxdot,dzdot])\n",
    "\n",
    "def hit_target(t, u, k):\n",
    "    # We've hit the target if the z-coordinate is 0.\n",
    "    return u[1]\n",
    "\n",
    "hit_target.terminal = True # Stop the integration when we hit the target.\n",
    "hit_target.direction = -1 # We must be moving downwards (don't stop before we begin moving upwards!)\n",
    "\n",
    "def max_height(t, u, k):\n",
    "    # The maximum height is obtained when the z-velocity is zero.\n",
    "    return u[3]\n",
    "\n",
    "\n",
    "def odes(t0f,x0,k): # solve the ODE problem\n",
    "    sol = solve_ivp(dxn, t0f, x0, dense_output=True, args=(k,),\n",
    "                    events=(hit_target, max_height))\n",
    "    print(sol)\n",
    "    return sol.y_events[0][0,0]\n",
    "\n",
    "# choose an initial state\n",
    "v0 = 1000. # velocity magnitude in m/s\n",
    "x0 = [0, 0, v0*cos(pi/4), v0*sin(pi/4)] # initial velocity at 45 degrees\n",
    "t0f = (0,100)\n",
    "\n",
    "k0=ka.nominal_value\n",
    "k1=k0 + 0.2*ka.std_dev\n",
    "k2=k0 - 0.2*ka.std_dev\n",
    "print([k0,k1,k2])\n",
    "\n",
    "fk = odes(t0f,x0,k0)\n",
    "\n",
    "dfdk=(odes(t0f,x0,k1)-odes(t0f,x0,k2))/(k1-k2)\n",
    "\n",
    "print('Distance where projectile hits=', fk)\n",
    "print('Error of the distance=', abs(dfdk)*ka.std_dev)\n"
   ]
  },
  {
   "cell_type": "markdown",
   "id": "687c4b80",
   "metadata": {},
   "source": [
    "Clearly, this error is enormous. The distance is 11.5 km with a 3.3 km error. This is unacceptable even for WW1 ammunition. Hence, improving the aerodynamic shape such that the cross-sectional area is constant, and coefficient $c$ is reduced, was essential.\n",
    "\n",
    "If we eliminate the error of the cross-section, we get an error in distance of around 870 m, which is much more realistic for classical weaponry. Of course the decrease in $c$ could further decrease the error and increase the reach."
   ]
  },
  {
   "cell_type": "markdown",
   "id": "064dbbca",
   "metadata": {},
   "source": [
    "## Homework:\n"
   ]
  },
  {
   "cell_type": "markdown",
   "id": "90d9176b",
   "metadata": {},
   "source": [
    "In addition to uncertainty in drag coefficient $k$, imagine we also have some uncertainty in the velocity $v_0$ and its lunching angle $\\theta$. First let's eliminate the error in crossection area $A=\\pi r^2$. Next assume that $v_0$ has still average 1000 m/s, but its distribution is triangular between 999 m/s and 1001 m/s. The angle $\\theta$ is much harder to control on uneven surface under constant explosions. Assume that $\\theta$ is distrbuted normally with standard deviation of 2 degrees.\n",
    "\n",
    "How large is the error of projectile reach?"
   ]
  },
  {
   "cell_type": "code",
   "execution_count": null,
   "id": "fff68578",
   "metadata": {},
   "outputs": [],
   "source": []
  }
 ],
 "metadata": {
  "kernelspec": {
   "display_name": "Python 3 (ipykernel)",
   "language": "python",
   "name": "python3"
  },
  "language_info": {
   "codemirror_mode": {
    "name": "ipython",
    "version": 3
   },
   "file_extension": ".py",
   "mimetype": "text/x-python",
   "name": "python",
   "nbconvert_exporter": "python",
   "pygments_lexer": "ipython3",
   "version": "3.8.18"
  }
 },
 "nbformat": 4,
 "nbformat_minor": 5
}
