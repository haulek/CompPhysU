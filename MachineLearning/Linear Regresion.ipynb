{
 "cells": [
  {
   "cell_type": "markdown",
   "id": "ce8ae0bf",
   "metadata": {},
   "source": [
    "# Linear regresion\n",
    "\n",
    "This is modeled after **Morten Hjorth-Jensen** \n",
    "<https://compphysics.github.io/MachineLearning/doc/web/course.html>\n",
    "Please see his lecture notes and get deeper into Machine Learning."
   ]
  },
  {
   "cell_type": "markdown",
   "id": "afdac614",
   "metadata": {},
   "source": [
    "Linear regresion is a low level (or first step in) machine learning (ML), but all equations can be derived analytically and important concepts for ML can be introduced, such as, the choice of model, assumptions of error, cost function, regularizations, correlations, etc."
   ]
  },
  {
   "cell_type": "markdown",
   "id": "a7a6a140",
   "metadata": {},
   "source": [
    "Some of the important concepts are:\n",
    "\n",
    "* **Data input and output**, which we will denote by $D$:\n",
    "\\begin{equation}\n",
    "D=\\{ (x_0,y_0),(x_1,y_1),...(x_{n-1},y_{n-1})\\}\n",
    "\\end{equation}\n",
    "Here $x_i$ is the input and $y_i$ is the onput. $x_i$ can be scalar or large vector of data. Similarly, $y_i$ might be a number, or, classification. \n",
    "\n",
    "Examples: i) credit card information for customers: $x_i$ is the amount of loan, the income, the marriage status, etc. The ouput is the prediction that the customer will default, i.e., true/false. ii) handwriting recognition: The input $x_i$ are the pixels of the image, the output is a number or a letter. iii) cancer data: The input $x_i$ are characteristics of the tumor such as its size, radius, smoothness, symmetry, fractal dimension, etc., the output is $M$=malignant, $B$=benign.\n",
    "\n",
    "\n",
    "* **Model**:  basic assumption about the data to be fit. \n",
    "\n",
    "For linear regression we assume that the data can be fit with continuous function $\\widetilde{y}(x)$, which is deterministic, and the data has some extra random noise, normally distributed, i.e., \n",
    "\n",
    "$$y_i = \\widetilde{y}(x_i) + \\varepsilon_i$$\n",
    "\n",
    "where $\\widetilde{y}(x)$ can be expanded in terms of some continuous functions, and $\\varepsilon = \\eta N(0,\\sigma^2)$, where $\\eta$ is some small number, and $N$ is normal (gaussian) distribution with vanishing mean and width $\\sigma$.\n",
    "\n",
    "* **Cost function** (functional to be minimized):\n",
    "\n",
    "The simplest is the mean average error (MAE), which is equivalent to $\\chi^2$:\n",
    "\n",
    "$$C = \\frac{1}{n} \\sum_i (\\widetilde{y}(x_i)-y_i)^2$$\n",
    "\n",
    "but different cost functions, such as **Ridge** regression and **Lasso** regression are often used. \n",
    "\n",
    "The cross-entropy is used for binary models (discrete with two outcomes):\n",
    "\n",
    "$$C=\\sum_i y_i \\log(p(y_i=1|x_i))+(1-y_i) \\log(1-p(y_i=1|x_i))$$\n",
    "\n",
    "* **Covariance and Correlation matrix**:\n",
    "It meassures correlation between different features in data. It can be used to eliminate irrelevant parameters from the model or those that are almost linearly dependent.\n",
    "\n",
    "The **covariance** $cov(\\vec{x}_i,\\vec{x}_j)$ is defined for two vectors that have many components $\\vec{x}_i=x_{n,i}$ and $\\vec{x}_j=x_{n,j}$ and takes the form\n",
    "\\begin{eqnarray}\n",
    "&& cov(\\vec{x}_i,\\vec{x}_j)= \\frac{1}{n} \\sum_n (x_{n,i}-<x_i>)(x_{n,j}-<x_j>)\\\\\n",
    "&& <x_i>=\\frac{1}{n}\\sum_n x_{n,i}\\\\\n",
    "\\end{eqnarray}\n",
    "\n",
    "The diagonal parts of the covariance is the variance, i.e., \n",
    "\\begin{eqnarray}\n",
    "cov(\\vec{x}_i,\\vec{x}_i) \\equiv \\sigma^2_i = \\frac{1}{n} \\sum_n (x_{n,i}-<x_i>)^2,\n",
    "\\end{eqnarray}\n",
    "which can be \"taken out\" of covariance matrix to define correlation matrix. The matrix elements of the correlation matrix are simply given by\n",
    "\\begin{eqnarray}\n",
    "&& corr(\\vec{x}_i,\\vec{x}_j)= \\frac{cov(\\vec{x}_i,\\vec{x}_j)}{\\sqrt{cov(\\vec{x}_i,\\vec{x}_i)\\; cov(\\vec{x}_j,\\vec{x}_j)}}\\\\\n",
    "&& corr(\\vec{x}_i,\\vec{x}_j)=\\frac{1}{\\sigma_i \\sigma_j} \\frac{1}{n}\\sum_n (x_{n,i}-<x_i>)(x_{n,j}-<x_j>)\\\\\n",
    "\\end{eqnarray}"
   ]
  },
  {
   "cell_type": "markdown",
   "id": "b64533e2",
   "metadata": {},
   "source": [
    "### Linear regression details\n",
    "\n",
    "In linear regression we try to represent the continuous function $\\widetilde{y}(x)$ as a linear superposition of known functions $g_j(x)$ with $j\\in[0,...p-1]$. We want to find the coefficients $\\beta_j$ of the linear superposition, i.e., \n",
    "\n",
    "\\begin{eqnarray}\n",
    "\\widetilde{y}(x_i) = \\sum_{j=0}^{p-1} g_j(x_i) \\beta_j\n",
    "\\end{eqnarray}\n",
    "\n",
    "The functions $g_j(x)$ can be a polynomial $g_j(x)=x^j$ or the Fourier components $g_j(x)=e^{2\\pi j x}$ or Legendre, Chebyshev polynomials, or any other complete set of functions."
   ]
  },
  {
   "cell_type": "markdown",
   "id": "58401ff9",
   "metadata": {},
   "source": [
    "Next we define the **Design** matrix $\\mathbf{X}$, which is a rectangular matrix with $\\mathbb{R}^{n\\times p}$, where $n$ is the dimension of the input data components, and $p$ is the number of functions we will use in the expansion\n",
    "\n",
    "\\begin{equation}\n",
    "\\mathbf{X} =\n",
    "\\begin{bmatrix} g_0(x_0) & g_1(x_0) & \\cdots & g_{p-1}(x_0) \\\\\n",
    "                g_0(x_1) & g_1(x_1) & \\cdots & g_{p-1}(x_1) \\\\\n",
    "                \\cdots\\\\\n",
    "                g_0(x_{n-1}) & g_1(x_{n-1}) &\\cdots & g_{p-1}(x_{n-1})\n",
    "\\end{bmatrix}\n",
    "\\end{equation}\n",
    "Normaly we expect $n<p$ so that data is not overfitted.\n",
    "\n",
    "We also define the vector of unknown parameters $\\boldsymbol{\\beta}^T=[\\beta_0,\\beta_1,...\\beta_{p-1}]$ and in terms of the two, we can write a matrix equation\n",
    "\n",
    "\\begin{equation}\n",
    "\\widetilde{y} = \\mathbf{X} \\boldsymbol{\\beta}\n",
    "\\end{equation}\n",
    "\n",
    "The design matrix contains the complexity of the model, and is defined solely by the input data and the choice of the model.\n",
    "The model is linear in the unknown parameters $\\beta$, hence linear regression.\n",
    "\n",
    "The **cost function** $C$ for the model will gives us the quality of the fit. It is now a funcion of the unknown parameters\n",
    "\n",
    "\\begin{equation}\n",
    "C(\\boldsymbol{\\beta})=\\frac{1}{n}\\sum_{i=0}^{n-1} (y_i-\\widetilde{y}(x_i))^2 = \n",
    "\\frac{1}{n}\\sum_{i=0}^{n-1} (y_i-(\\mathbf{X}\\boldsymbol{\\beta})_i)^2 \n",
    "\\end{equation}\n",
    "and should be minimized, i.e., \n",
    "$\\frac{\\partial C(\\beta)}{\\partial \\beta}=0$. When the minimum is reached, we obtain the optimized parameters, which we will call $\\beta^*= \\min C(\\beta)$, $\\beta\\in \\mathbb{R}^p$.\n"
   ]
  },
  {
   "cell_type": "markdown",
   "id": "1b706725",
   "metadata": {},
   "source": [
    "The derivative $$\\frac{\\partial C(\\beta)}{\\partial \\beta}$$ can readily be obtained\n",
    "\n",
    "\\begin{eqnarray}\n",
    "\\frac{\\partial C(\\beta)}{\\partial \\beta_l}=\\frac{\\partial}{\\partial \\beta_l}\\frac{1}{n}\\sum_{i=0}^{n-1}(y_i - X_{ij}\\beta_j)^2\n",
    "\\end{eqnarray}\n",
    "Here we use Einstein notation in which the sum over the repeated indices is assumed.\n",
    "\\begin{eqnarray}\n",
    "\\frac{\\partial C(\\beta)}{\\partial \\beta_l}=\\frac{1}{n}\\sum_i 2(y_i-X_{ij}\\beta_j)(-1)X_{il}= -2 \\frac{1}{n} (\\mathbf{X}^T(\\boldsymbol{y}-\\mathbf{X} \\boldsymbol{\\beta}))_l\n",
    "\\end{eqnarray}\n",
    "\n",
    "The minimum is reached at $\\frac{\\partial C(\\beta)}{\\partial \\beta}=0$:\n",
    "\\begin{eqnarray}\n",
    "\\mathbf{X}^T \\boldsymbol{y}=\\mathbf{X}^T \\mathbf{X} \\boldsymbol{\\beta^*}\n",
    "\\end{eqnarray}\n",
    "or\n",
    "\\begin{eqnarray}\n",
    "\\boldsymbol{\\beta^*}= (\\mathbf{X}^T \\mathbf{X})^{-1} \\mathbf{X}^T \\boldsymbol{y}\n",
    "\\end{eqnarray}\n",
    "and therefore optimal $\\widetilde{y}$ is\n",
    "\\begin{eqnarray}\n",
    "\\widetilde{y} = \\mathbf{X}\\boldsymbol{\\beta^*}= \\mathbf{X}(\\mathbf{X}^T \\mathbf{X})^{-1} \\mathbf{X}^T \\boldsymbol{y}\n",
    "\\end{eqnarray}\n"
   ]
  },
  {
   "cell_type": "markdown",
   "id": "189733e6",
   "metadata": {},
   "source": [
    "The last equation says that the optimal model is given by the projection of data $y$ into a space spanned by functions $g_j(x_i)$ as encoded in design matrix $\\mathbf{X}$.\n",
    "\n",
    "One can readily check that $\\mathbf{X}(\\mathbf{X}^T \\mathbf{X})^{-1} \\mathbf{X}^T$ has the property of a projector $P^2=P$."
   ]
  },
  {
   "cell_type": "markdown",
   "id": "9e8a0a21",
   "metadata": {},
   "source": [
    "How do we know this is minimum? We compute the second derivative, and determine its sign. The second derivative is\n",
    "\\begin{eqnarray}\n",
    "\\frac{\\partial^2 C(\\beta)}{\\partial \\beta_j \\partial \\beta_l}=\n",
    "\\frac{\\partial}{\\partial \\beta_j }\n",
    "\\frac{1}{n}\\sum_i 2(y_i-X_{ij}\\beta_j)(-1)X_{il}= \\frac{2}{n}\\sum_i X_{ij}X_{il}=\n",
    "\\frac{2}{n} (\\mathbf{X}^T \\mathbf{X})_{jl}\n",
    "\\end{eqnarray}\n",
    "\n",
    "We will show thet $\\mathbf{X}^T \\mathbf{X}$ is positive definite matrix, hence, $C(\\beta^*)$ is a global minimum.\n",
    "\n",
    "If functions $g_j(x)$ are linearly dependent (or features in ML are linearly dependent) the design matrix $X$ can be singular, and $Det(\\mathbf{X}^T \\mathbf{X})=0$. In that case the inversion of this matrix is not possible, and we need to either \n",
    "* perform a pseudo-inverse, or,\n",
    "* regularize the cost function."
   ]
  },
  {
   "cell_type": "markdown",
   "id": "02897118",
   "metadata": {},
   "source": [
    "If $Det(\\mathbf{X}^T \\mathbf{X})=0$ we can still use SVD decomposion to inverse the matrix. This is called pseudo-inverse, as the real inverse does not exist.\n",
    "\n",
    "If matrix is singular or is non-quadratic matrix, we can still define pseudo-inverse $A^+$, such that $A A^+ A= A$ and $A^+ A A^+=A^+$, where $A A^+$ and $A^+ A$ is Hermitian, but is not identity matrix. This pseudoinverse is achieved by SVD.\n",
    "\n",
    "For any matrix (quadratic or non-quadratic), the following decomposition exists:\n",
    "\n",
    "$$\\mathbf{X} = U \\sigma V^\\dagger$$\n",
    "\n",
    "where $U$ and $V$ are unitary matrices ($U^\\dagger U=1$ and $V^\\dagger V=1$), and $\\sigma$ is diagonal matrix with real singular values on diagonal. If $\\mathbf{X}\\in \\mathbb{R}^{n\\times p}$ then $U\\in \\mathbb{R}^{n\\times n}$ and $V\\in \\mathbb{R}^{p\\times p}$ and $\\sigma$ is rectangular matrix with $\\min(n,p)$ values."
   ]
  },
  {
   "cell_type": "markdown",
   "id": "23827b66",
   "metadata": {},
   "source": [
    "Next we use SVD for Design matrix $\\mathbf{X}$ to obtain \n",
    "$$\\mathbf{X}=U\\sigma V^T, $$ and therefore \n",
    "$$\\mathbf{X}^T=V \\sigma U^T.$$\n",
    "Note that the number of singular values is $p<n$.\n",
    "We than have\n",
    "$$\\mathbf{X}^T \\mathbf{X}=V \\sigma U^T U\\sigma V^T = V \\sigma^2 V^T$$\n",
    "and now the pseudo-inverse of this matrix is\n",
    "$$(\\mathbf{X}^T \\mathbf{X})^{-1}= V \\frac{1}{\\sigma^2} V^T$$\n",
    "where the singular values that vanish are omitted.\n",
    "\n",
    "We also point out that\n",
    "$$\\mathbf{X}^T \\mathbf{X} V = V \\sigma^2 $$\n",
    "which shows that $V$ are eigenvectors of matrix $\\mathbf{X}^T \\mathbf{X}$ and $\\sigma^2$ are eigenvalues of the same matrix. Since $\\sigma\\in \\mathbb{R}$ therefore $\\sigma^2 \\ge 0$. We just proved previous claim that the second derivative of the cost function is positive and hence $\\beta^*$ is a global minimum. Namely $$\\frac{\\partial^2 C(\\beta)}{\\partial \\beta_j \\partial \\beta_l}=\\frac{2}{n} (\\mathbf{X}^T \\mathbf{X})_{jl}=\\frac{2}{n} (V \\sigma^2 V^T)_{jl}$$\n",
    "is positive definite matrix because all eigenvalues are positive.\n",
    "\n",
    "Finally, we also express $\\beta^*$ and $\\widetilde{y}$ in terms of singular values $\\sigma$,\n",
    "$$\\beta^*= (\\mathbf{X}^T \\mathbf{X})^{-1} \\mathbf{X}^T y = V \\frac{1}{\\sigma} U^T y$$\n",
    "and \n",
    "$$\\widetilde{\\mathbf{y}}_i= (\\mathbf{X} \\boldsymbol{\\beta})_i= \\sum_{l,\\sigma_l>0} U_{il} U^T_{lj} y_j.$$\n",
    "\n",
    "Note that $U U^T=1$, but the sum above runs only over components for which $\\sigma_l>0$, hence $\\sum'_l U_{il} U^T_{lj}$ above is a projection and not unity. Only if $X$ is a square non-singular matrix than   $\\sum'_l U_{il} U^T_{lj}$ is unity and $\\widetilde{y}=y$.\n",
    "\n"
   ]
  },
  {
   "cell_type": "markdown",
   "id": "22b41262",
   "metadata": {},
   "source": [
    "As mentioned above, different types of cost functions exist, which regularize the singularity of $\\mathbf{X}^T X$ in different ways. The most famous are **Ridge** regression and **Lasso** regression.\n",
    "\n",
    "In **Ridge** regression we add lagrange multiplayer $\\lambda$ such that $\\sum_j \\beta_j^2$ (or equivalently $||\\boldsymbol{\\beta}||_2^2$) does not explode. At the same time, it also regularizes the inverse, and hence allows one to avoid pseudo-inverse.\n",
    "\n",
    "The **Ridge** cost function is \n",
    "$$C(\\beta)=\\frac{1}{n} \\sum_{i=0}^{n-1} (y_i-\\widetilde{y}_i)^2 +\\lambda \\frac{1}{n}\\sum_{j=0}^{p-1}\\beta_j^2$$\n",
    "which is a constrained optimization that requires $||\\boldsymbol{\\beta}||_2^2$ to be as small as possible ($\\lambda>0$), hence the purpose of such regularization is to prohibit the parameters $\\beta$ to become too large. In ML we typically not optimize $C$ with respect to $\\lambda$, but we rather keep it is hyperparameter, which is another parameter of the model that allows one to tune the model to best describe the data.\n",
    "\n",
    "We can take the derivative of the cost function as before, to obtain\n",
    "\\begin{eqnarray}\n",
    "\\frac{\\partial C(\\beta)}{\\partial \\beta_l}=\\frac{1}{n}\\sum_i 2(y_i-X_{ij}\\beta_j)(-1)X_{il} +\\frac{2}{n}\\lambda \\beta_l= 2 \\frac{1}{n} (\\mathbf{X}^T(\\mathbf{X} \\boldsymbol{\\beta}-\\boldsymbol{y})+\\lambda \\boldsymbol{\\beta})_l\n",
    "\\end{eqnarray}\n",
    "which has a minimum at\n",
    "$$(\\mathbf{X}^T \\mathbf{X}+\\lambda) \\boldsymbol{\\beta}^*=\\mathbf{X}^T y$$\n",
    "or\n",
    "$$\\boldsymbol{\\beta}^*=(\\mathbf{X}^T \\mathbf{X}+\\lambda)^{-1}\\mathbf{X}^T y$$\n",
    "which clearly avoids singularity of the inverse $\\mathbf{X}^T \\mathbf{X}$ because $\\lambda>0$ and $\\mathbf{X}^T \\mathbf{X}$ is positive definite matrix.\n",
    "\n",
    "The parameter $\\lambda$ is also called shrinkage  parameter, because it removes singular values which are small, i.e., removes less important degrees of freeedom.\n",
    "\n",
    "To see that, we use SVD decomposition of $\\mathbf{X}=U \\sigma V^T$ as before, and we see that $\\mathbf{X}^T \\mathbf{X}+\\lambda=V (\\sigma^2+\\lambda) V^T$, hence \n",
    "$$\\beta^*_{Ridge}=(\\mathbf{X}^T \\mathbf{X}+\\lambda)^{-1} \\mathbf{X}^T y=V \\frac{1}{\\sigma^2+\\lambda} V^T V\\sigma U^T y = V \\frac{\\sigma}{\\sigma^2+\\lambda} U^T y$$\n",
    "hence when compared to regular linear regression, Ridge regression replaces $$\\frac{1}{\\sigma}\\rightarrow \\frac{\\sigma}{\\sigma^2+\\lambda}$$\n",
    "which essentially removes singular values which are much smaller than $\\lambda$, i.e., we keep only singular values which are comparable or larger than $\\lambda$ in the final result, shrinking the set of parameters $\\beta$."
   ]
  },
  {
   "cell_type": "markdown",
   "id": "298aeb2f",
   "metadata": {},
   "source": [
    "Another type of regression is called **Lasso** regression, which adds absolute values of parameters $\\beta$ to cost function, i.e., \n",
    "$$C(\\beta)=\\frac{1}{n} \\sum_{i=0}^{n-1} (y_i-\\widetilde{y}_i)^2 +\\lambda \\frac{1}{n}\\sum_{j=0}^{p-1}|\\beta_j|$$\n",
    "which gives derivative\n",
    "\\begin{eqnarray}\n",
    "\\frac{\\partial C(\\beta)}{\\partial \\beta_l}=\\frac{1}{n}\\sum_i 2(y_i-X_{ij}\\beta_j)(-1)X_{il} +\\frac{1}{n}\\lambda\\; \\mathrm{sign}(\\beta_l)= 2 \\frac{1}{n} (\\mathbf{X}^T(\\mathbf{X} \\boldsymbol{\\beta}-\\boldsymbol{y})+\\frac{\\lambda}{2} \\mathrm{sign}(\\boldsymbol{\\beta}))_l\n",
    "\\end{eqnarray}\n",
    "and requires one to solve\n",
    "\\begin{eqnarray}\n",
    "\\mathbf{X}^T \\mathbf{y}=\\mathbf{X}^T\\mathbf{X} \\boldsymbol{\\beta}^* + \\frac{\\lambda}{2} \\mathrm{sign}(\\boldsymbol{\\beta}^*)\n",
    "\\end{eqnarray}\n",
    "No close analytical solution for $\\beta^*$ exists for this equation, and only numerical solution can be found."
   ]
  },
  {
   "cell_type": "markdown",
   "id": "2328a9eb",
   "metadata": {},
   "source": [
    "### Simple linear regression model using **scikit-learn**\n",
    "\n",
    "We start with comparing our linear regression results with those of **Scikit-Learn** library. \n",
    "\n",
    "To demonstrate capabilities, we will solve the problem of nuclear binding energies.\n",
    "\n",
    "\n",
    "A popular and physically intuitive model which can be used to parametrize \n",
    "the experimental binding energies of all nucleai in periodic table is the so-called \n",
    "**liquid drop model**. The ansatz is based on the following expression\n",
    "$$BE(N,Z) = a_0 + a_1 A-a_2 A^{2/3}-a_3\\frac{Z^2}{A^{1/3}}-a_4\\frac{(N-Z)^2}{A},$$\n",
    "where $A$ stands for the number of nucleons and the $a_i$s are parameters which are determined by a fit to the experimental data.  \n",
    "\n",
    "To arrive at the above expression we have assumed that we can make the following assumptions:\n",
    "\n",
    " * There is a volume term $a_1A$ proportional with the number of nucleons (the energy is also an extensive quantity). When an assembly of nucleons of the same size is packed together into the smallest volume, each interior nucleon has a certain number of other nucleons in contact with it. This contribution is proportional to the volume.\n",
    "\n",
    " * There is a surface energy term $a_2A^{2/3}$. The assumption here is that a nucleon at the surface of a nucleus interacts with fewer other nucleons than one in the interior of the nucleus and hence its binding energy is less. This surface energy term takes that into account and is therefore negative and is proportional to the surface area.\n",
    "\n",
    " * There is a Coulomb energy term $a_3\\frac{Z^2}{A^{1/3}}$. The electric repulsion between each pair of protons in a nucleus yields less binding. \n",
    "\n",
    " * There is an asymmetry term $a_4\\frac{(N-Z)^2}{A}$. This term is associated with the Pauli exclusion principle and reflects the fact that the proton-neutron interaction is more attractive on the average than the neutron-neutron and proton-proton interactions.\n",
    "\n",
    "\n",
    "We will fit the binding energy $BE$ as a function of $A$ with functions \n",
    "$g_0(x)=1$, $g_1(x)=x$, $g_2(x)=x^{2/3}$, $g_3(x)=x^{-1/3}$, $g_4(x)=1/x$. \n",
    "\n",
    "The binding energies are in file \"NucleousEnergy.dat\".\n",
    "The Python code follows here."
   ]
  },
  {
   "cell_type": "code",
   "execution_count": 6,
   "id": "c5ddca15",
   "metadata": {},
   "outputs": [
    {
     "data": {
      "image/png": "[encoded data removed]",
      "text/plain": [
       "<Figure size 640x480 with 1 Axes>"
      ]
     },
     "metadata": {},
     "output_type": "display_data"
    }
   ],
   "source": [
    "# Binding energy in terms of nucleous weight A==x, is in this file\n",
    "from numpy import *\n",
    "from pylab import *\n",
    "\n",
    "na_data = loadtxt('NucleousEnergy.dat').T\n",
    "x,y = na_data\n",
    "plot(x,y)\n",
    "show()"
   ]
  },
  {
   "cell_type": "code",
   "execution_count": 7,
   "id": "f4f5f696",
   "metadata": {},
   "outputs": [],
   "source": [
    "# Seeting up the Design matrix\n",
    "X=zeros((len(x),5))\n",
    "X[:,0]=1        # all functions we need\n",
    "X[:,1]=x\n",
    "X[:,2]=x**(2/3)\n",
    "X[:,3]=x**(-1/3)\n",
    "X[:,4]=1./x"
   ]
  },
  {
   "cell_type": "code",
   "execution_count": 8,
   "id": "02e41e58",
   "metadata": {},
   "outputs": [],
   "source": [
    "from sklearn.linear_model import LinearRegression\n",
    "\n",
    "# Using scikit to get coefficients\n",
    "lg = LinearRegression()\n",
    "clf=lg.fit(X,y)\n",
    "yt=clf.predict(X)   # widetilde(y)"
   ]
  },
  {
   "cell_type": "markdown",
   "id": "e18116a7",
   "metadata": {},
   "source": [
    "This is an equivalent code, but using our own equations derived above."
   ]
  },
  {
   "cell_type": "code",
   "execution_count": 9,
   "id": "7b10dfe7",
   "metadata": {},
   "outputs": [],
   "source": [
    "# matrix inversion to find beta\n",
    "Beta = dot(linalg.inv(X.T @ X) @ X.T, y)\n",
    "# and then make the prediction\n",
    "ytilde = X @ Beta"
   ]
  },
  {
   "cell_type": "code",
   "execution_count": 10,
   "id": "a63e7159",
   "metadata": {},
   "outputs": [
    {
     "data": {
      "image/png": "[encoded data removed]",
      "text/plain": [
       "<Figure size 640x480 with 1 Axes>"
      ]
     },
     "metadata": {},
     "output_type": "display_data"
    }
   ],
   "source": [
    "# comparing the regression with data and our regression with those from the library \n",
    "\n",
    "plot(x,yt,label='Regression library')\n",
    "plot(x,y, label='Data')\n",
    "plot(x,ytilde,label='Regression ours')\n",
    "xlabel('A')\n",
    "ylabel('Binding Energy')\n",
    "legend(loc='best')\n",
    "show()"
   ]
  },
  {
   "cell_type": "code",
   "execution_count": 11,
   "id": "6786b653",
   "metadata": {},
   "outputs": [
    {
     "name": "stdout",
     "output_type": "stream",
     "text": [
      "The intercept alpha: \n",
      " 5.294399745619717\n",
      "Coefficient beta : \n",
      " [ 0.00000000e+00 -2.96611194e-02  2.01719003e-01  1.08078025e+01\n",
      " -4.03097597e+01]\n",
      "Our coefficients: \n",
      " [ 5.29439975e+00 -2.96611194e-02  2.01719003e-01  1.08078025e+01\n",
      " -4.03097597e+01]\n",
      "Mean squared error: 0.02\n",
      "Variance score: 0.95\n",
      "Mean squared log error: 0.00\n",
      "Mean absolute error: 0.05\n"
     ]
    }
   ],
   "source": [
    "from sklearn.metrics import mean_squared_error, r2_score, mean_squared_log_error, mean_absolute_error\n",
    "\n",
    "# more information from library\n",
    "print('The intercept alpha: \\n', lg.intercept_)\n",
    "print('Coefficient beta : \\n', lg.coef_)\n",
    "print('Our coefficients: \\n', Beta)\n",
    "# The mean squared error                               \n",
    "print(\"Mean squared error: %.2f\" % mean_squared_error(y, yt))\n",
    "# Explained variance score: 1 is perfect prediction                                 \n",
    "print('Variance score: %.2f' % r2_score(y, yt))\n",
    "# Mean squared log error                                                        \n",
    "print('Mean squared log error: %.2f' % mean_squared_log_error(y, yt) )\n",
    "# Mean absolute error                                                           \n",
    "print('Mean absolute error: %.2f' % mean_absolute_error(y, yt))"
   ]
  },
  {
   "cell_type": "markdown",
   "id": "01a28cfd",
   "metadata": {},
   "source": [
    "The function **meansquarederror** gives us the mean square error, a risk metric corresponding to the expected value of the squared (quadratic) error or loss defined as\n",
    "$$\n",
    "MSE(\\boldsymbol{y},\\boldsymbol{\\tilde{y}}) = \\frac{1}{n}\n",
    "\\sum_{i=0}^{n-1}(y_i-\\tilde{y}_i)^2,\n",
    "$$\n",
    "This function is equivalent to the $\\chi^2$ function defined above.\n",
    "\n",
    "Another quantity is the mean absolute error (MAE), a risk metric corresponding to the expected value of the absolute error loss using $l1$-norm. \n",
    "The MAE is defined as follows\n",
    "$$\n",
    "\\text{MAE}(\\boldsymbol{y}, \\boldsymbol{\\tilde{y}}) = \\frac{1}{n} \\sum_{i=0}^{n-1} \\left| y_i - \\tilde{y}_i \\right|.\n",
    "$$\n",
    "We present the \n",
    "squared logarithmic (quadratic) error\n",
    "$$\n",
    "\\text{MSLE}(\\boldsymbol{y}, \\boldsymbol{\\tilde{y}}) = \\frac{1}{n} \\sum_{i=0}^{n - 1} (\\log_e (1 + y_i) - \\log_e (1 + \\tilde{y}_i) )^2,\n",
    "$$\n",
    "where $\\log_e (x)$ stands for the natural logarithm of $x$. This error\n",
    "estimate is best to use when targets having exponential growth, such\n",
    "as population counts, average sales of a commodity over a span of\n",
    "years etc. \n",
    "\n",
    "Finally, another cost function is the Huber cost function used in robust regression.\n",
    "\n",
    "The rationale behind this possible cost function is its reduced\n",
    "sensitivity to outliers in the data set. In our discussions on\n",
    "dimensionality reduction and normalization of data we will meet other\n",
    "ways of dealing with outliers."
   ]
  },
  {
   "cell_type": "markdown",
   "id": "a30c6b20",
   "metadata": {},
   "source": [
    "### Libraries\n",
    "\n",
    "A useful Python package for data analysics is\n",
    "[pandas](https://pandas.pydata.org/), which is an open source library\n",
    "providing high-performance data structures and data\n",
    "analysis tools for Python. **pandas** stands for panel data, a term borrowed from econometrics.\n",
    "\n",
    "**pandas** has two major classes, the **DataFrame** class with two-dimensional data objects and the class **Series** with a focus on one-dimensional data objects. Both classes allow you to index data easily as we will see in the examples below. \n",
    "\n",
    "**pandas** allows you also to perform mathematical operations on the data, spanning from simple reshapings of vectors and matrices to statistical operations. \n",
    "\n",
    "The following simple example shows how we can make tables of our data. Here we define a data set which includes names, place of birth and date of birth, and displays the data in an easy to read way. "
   ]
  },
  {
   "cell_type": "code",
   "execution_count": 10,
   "id": "f3cd97da",
   "metadata": {},
   "outputs": [
    {
     "data": {
      "text/html": [
       "<div>\n",
       "<style scoped>\n",
       "    .dataframe tbody tr th:only-of-type {\n",
       "        vertical-align: middle;\n",
       "    }\n",
       "\n",
       "    .dataframe tbody tr th {\n",
       "        vertical-align: top;\n",
       "    }\n",
       "\n",
       "    .dataframe thead th {\n",
       "        text-align: right;\n",
       "    }\n",
       "</style>\n",
       "<table border=\"1\" class=\"dataframe\">\n",
       "  <thead>\n",
       "    <tr style=\"text-align: right;\">\n",
       "      <th></th>\n",
       "      <th>First Name</th>\n",
       "      <th>Last Name</th>\n",
       "      <th>Place of birth</th>\n",
       "      <th>Date of Birth T.A.</th>\n",
       "    </tr>\n",
       "  </thead>\n",
       "  <tbody>\n",
       "    <tr>\n",
       "      <th>0</th>\n",
       "      <td>Frodo</td>\n",
       "      <td>Baggins</td>\n",
       "      <td>Shire</td>\n",
       "      <td>2968</td>\n",
       "    </tr>\n",
       "    <tr>\n",
       "      <th>1</th>\n",
       "      <td>Bilbo</td>\n",
       "      <td>Baggins</td>\n",
       "      <td>Shire</td>\n",
       "      <td>2890</td>\n",
       "    </tr>\n",
       "    <tr>\n",
       "      <th>2</th>\n",
       "      <td>Aragorn II</td>\n",
       "      <td>Elessar</td>\n",
       "      <td>Eriador</td>\n",
       "      <td>2931</td>\n",
       "    </tr>\n",
       "    <tr>\n",
       "      <th>3</th>\n",
       "      <td>Samwise</td>\n",
       "      <td>Gamgee</td>\n",
       "      <td>Shire</td>\n",
       "      <td>2980</td>\n",
       "    </tr>\n",
       "  </tbody>\n",
       "</table>\n",
       "</div>"
      ],
      "text/plain": [
       "   First Name Last Name Place of birth  Date of Birth T.A.\n",
       "0       Frodo   Baggins          Shire                2968\n",
       "1       Bilbo   Baggins          Shire                2890\n",
       "2  Aragorn II   Elessar        Eriador                2931\n",
       "3     Samwise    Gamgee          Shire                2980"
      ]
     },
     "metadata": {},
     "output_type": "display_data"
    },
    {
     "name": "stdout",
     "output_type": "stream",
     "text": [
      "Standard Python print: {'First Name': ['Frodo', 'Bilbo', 'Aragorn II', 'Samwise'], 'Last Name': ['Baggins', 'Baggins', 'Elessar', 'Gamgee'], 'Place of birth': ['Shire', 'Shire', 'Eriador', 'Shire'], 'Date of Birth T.A.': [2968, 2890, 2931, 2980]}\n"
     ]
    }
   ],
   "source": [
    "import pandas as pd\n",
    "from IPython.display import display\n",
    "data = {'First Name': [\"Frodo\", \"Bilbo\", \"Aragorn II\", \"Samwise\"],\n",
    "        'Last Name': [\"Baggins\", \"Baggins\",\"Elessar\",\"Gamgee\"],\n",
    "        'Place of birth': [\"Shire\", \"Shire\", \"Eriador\", \"Shire\"],\n",
    "        'Date of Birth T.A.': [2968, 2890, 2931, 2980]\n",
    "        }\n",
    "data_pandas = pd.DataFrame(data)\n",
    "display(data_pandas)\n",
    "\n",
    "print('Standard Python print:', data)"
   ]
  },
  {
   "cell_type": "markdown",
   "id": "27e035e2",
   "metadata": {},
   "source": [
    "In the above we have imported **pandas** with the shorthand **pd**, the latter has become the standard way we import **pandas**. We make then a list of various variables\n",
    "and reorganize the aboves lists into a **DataFrame** and then print out  a neat table with specific column labels as *Name*, *place of birth* and *date of birth*.\n",
    "Displaying these results, we see that the indices are given by the default numbers from zero to three.\n",
    "**pandas** is extremely flexible and we can easily change the above indices by defining a new type of indexing as"
   ]
  },
  {
   "cell_type": "code",
   "execution_count": 11,
   "id": "a8d70b1f",
   "metadata": {},
   "outputs": [
    {
     "data": {
      "text/html": [
       "<div>\n",
       "<style scoped>\n",
       "    .dataframe tbody tr th:only-of-type {\n",
       "        vertical-align: middle;\n",
       "    }\n",
       "\n",
       "    .dataframe tbody tr th {\n",
       "        vertical-align: top;\n",
       "    }\n",
       "\n",
       "    .dataframe thead th {\n",
       "        text-align: right;\n",
       "    }\n",
       "</style>\n",
       "<table border=\"1\" class=\"dataframe\">\n",
       "  <thead>\n",
       "    <tr style=\"text-align: right;\">\n",
       "      <th></th>\n",
       "      <th>First Name</th>\n",
       "      <th>Last Name</th>\n",
       "      <th>Place of birth</th>\n",
       "      <th>Date of Birth T.A.</th>\n",
       "    </tr>\n",
       "  </thead>\n",
       "  <tbody>\n",
       "    <tr>\n",
       "      <th>Frodo</th>\n",
       "      <td>Frodo</td>\n",
       "      <td>Baggins</td>\n",
       "      <td>Shire</td>\n",
       "      <td>2968</td>\n",
       "    </tr>\n",
       "    <tr>\n",
       "      <th>Bilbo</th>\n",
       "      <td>Bilbo</td>\n",
       "      <td>Baggins</td>\n",
       "      <td>Shire</td>\n",
       "      <td>2890</td>\n",
       "    </tr>\n",
       "    <tr>\n",
       "      <th>Aragorn</th>\n",
       "      <td>Aragorn II</td>\n",
       "      <td>Elessar</td>\n",
       "      <td>Eriador</td>\n",
       "      <td>2931</td>\n",
       "    </tr>\n",
       "    <tr>\n",
       "      <th>Sam</th>\n",
       "      <td>Samwise</td>\n",
       "      <td>Gamgee</td>\n",
       "      <td>Shire</td>\n",
       "      <td>2980</td>\n",
       "    </tr>\n",
       "  </tbody>\n",
       "</table>\n",
       "</div>"
      ],
      "text/plain": [
       "         First Name Last Name Place of birth  Date of Birth T.A.\n",
       "Frodo         Frodo   Baggins          Shire                2968\n",
       "Bilbo         Bilbo   Baggins          Shire                2890\n",
       "Aragorn  Aragorn II   Elessar        Eriador                2931\n",
       "Sam         Samwise    Gamgee          Shire                2980"
      ]
     },
     "metadata": {},
     "output_type": "display_data"
    }
   ],
   "source": [
    "data_pandas = pd.DataFrame(data,index=['Frodo','Bilbo','Aragorn','Sam'])\n",
    "display(data_pandas)"
   ]
  },
  {
   "cell_type": "markdown",
   "id": "f7cdb130",
   "metadata": {},
   "source": [
    "Thereafter we display the content of the row which begins with the index **Aragorn**"
   ]
  },
  {
   "cell_type": "code",
   "execution_count": 12,
   "id": "cbaffca2",
   "metadata": {},
   "outputs": [
    {
     "data": {
      "text/plain": [
       "First Name            Aragorn II\n",
       "Last Name                Elessar\n",
       "Place of birth           Eriador\n",
       "Date of Birth T.A.          2931\n",
       "Name: Aragorn, dtype: object"
      ]
     },
     "metadata": {},
     "output_type": "display_data"
    }
   ],
   "source": [
    "display(data_pandas.loc['Aragorn'])"
   ]
  },
  {
   "cell_type": "markdown",
   "id": "fcb03cf4",
   "metadata": {},
   "source": [
    "We can easily append data to this, for example"
   ]
  },
  {
   "cell_type": "code",
   "execution_count": 13,
   "id": "1c562ef3",
   "metadata": {},
   "outputs": [
    {
     "data": {
      "text/html": [
       "<div>\n",
       "<style scoped>\n",
       "    .dataframe tbody tr th:only-of-type {\n",
       "        vertical-align: middle;\n",
       "    }\n",
       "\n",
       "    .dataframe tbody tr th {\n",
       "        vertical-align: top;\n",
       "    }\n",
       "\n",
       "    .dataframe thead th {\n",
       "        text-align: right;\n",
       "    }\n",
       "</style>\n",
       "<table border=\"1\" class=\"dataframe\">\n",
       "  <thead>\n",
       "    <tr style=\"text-align: right;\">\n",
       "      <th></th>\n",
       "      <th>First Name</th>\n",
       "      <th>Last Name</th>\n",
       "      <th>Place of birth</th>\n",
       "      <th>Date of Birth T.A.</th>\n",
       "    </tr>\n",
       "  </thead>\n",
       "  <tbody>\n",
       "    <tr>\n",
       "      <th>Frodo</th>\n",
       "      <td>Frodo</td>\n",
       "      <td>Baggins</td>\n",
       "      <td>Shire</td>\n",
       "      <td>2968</td>\n",
       "    </tr>\n",
       "    <tr>\n",
       "      <th>Bilbo</th>\n",
       "      <td>Bilbo</td>\n",
       "      <td>Baggins</td>\n",
       "      <td>Shire</td>\n",
       "      <td>2890</td>\n",
       "    </tr>\n",
       "    <tr>\n",
       "      <th>Aragorn</th>\n",
       "      <td>Aragorn II</td>\n",
       "      <td>Elessar</td>\n",
       "      <td>Eriador</td>\n",
       "      <td>2931</td>\n",
       "    </tr>\n",
       "    <tr>\n",
       "      <th>Sam</th>\n",
       "      <td>Samwise</td>\n",
       "      <td>Gamgee</td>\n",
       "      <td>Shire</td>\n",
       "      <td>2980</td>\n",
       "    </tr>\n",
       "    <tr>\n",
       "      <th>Pippin</th>\n",
       "      <td>Peregrin</td>\n",
       "      <td>Took</td>\n",
       "      <td>Shire</td>\n",
       "      <td>2990</td>\n",
       "    </tr>\n",
       "  </tbody>\n",
       "</table>\n",
       "</div>"
      ],
      "text/plain": [
       "         First Name Last Name Place of birth  Date of Birth T.A.\n",
       "Frodo         Frodo   Baggins          Shire                2968\n",
       "Bilbo         Bilbo   Baggins          Shire                2890\n",
       "Aragorn  Aragorn II   Elessar        Eriador                2931\n",
       "Sam         Samwise    Gamgee          Shire                2980\n",
       "Pippin     Peregrin      Took          Shire                2990"
      ]
     },
     "metadata": {},
     "output_type": "display_data"
    }
   ],
   "source": [
    "new_hobbit = {'First Name': [\"Peregrin\"],\n",
    "              'Last Name': [\"Took\"],\n",
    "              'Place of birth': [\"Shire\"],\n",
    "              'Date of Birth T.A.': [2990]\n",
    "              }\n",
    "#data_pandas=data_pandas.append(pd.DataFrame(new_hobbit, index=['Pippin']))\n",
    "\n",
    "data_pandas=pd.concat([data_pandas,pd.DataFrame(new_hobbit, index=['Pippin'])])\n",
    "display(data_pandas)"
   ]
  },
  {
   "cell_type": "markdown",
   "id": "9b213af1",
   "metadata": {},
   "source": [
    "Here are other examples where we use the **DataFrame** functionality to handle arrays, now with more interesting features for us, namely numbers. We set up a matrix \n",
    "of dimensionality $10\\times 5$ and compute the mean value and standard deviation of each column. Similarly, we can perform mathematical operations like squaring the matrix elements and many other operations."
   ]
  },
  {
   "cell_type": "code",
   "execution_count": 14,
   "id": "5f3c1a2a",
   "metadata": {},
   "outputs": [
    {
     "data": {
      "text/html": [
       "<div>\n",
       "<style scoped>\n",
       "    .dataframe tbody tr th:only-of-type {\n",
       "        vertical-align: middle;\n",
       "    }\n",
       "\n",
       "    .dataframe tbody tr th {\n",
       "        vertical-align: top;\n",
       "    }\n",
       "\n",
       "    .dataframe thead th {\n",
       "        text-align: right;\n",
       "    }\n",
       "</style>\n",
       "<table border=\"1\" class=\"dataframe\">\n",
       "  <thead>\n",
       "    <tr style=\"text-align: right;\">\n",
       "      <th></th>\n",
       "      <th>0</th>\n",
       "      <th>1</th>\n",
       "      <th>2</th>\n",
       "      <th>3</th>\n",
       "      <th>4</th>\n",
       "    </tr>\n",
       "  </thead>\n",
       "  <tbody>\n",
       "    <tr>\n",
       "      <th>0</th>\n",
       "      <td>-1.749765</td>\n",
       "      <td>0.342680</td>\n",
       "      <td>1.153036</td>\n",
       "      <td>-0.252436</td>\n",
       "      <td>0.981321</td>\n",
       "    </tr>\n",
       "    <tr>\n",
       "      <th>1</th>\n",
       "      <td>0.514219</td>\n",
       "      <td>0.221180</td>\n",
       "      <td>-1.070043</td>\n",
       "      <td>-0.189496</td>\n",
       "      <td>0.255001</td>\n",
       "    </tr>\n",
       "    <tr>\n",
       "      <th>2</th>\n",
       "      <td>-0.458027</td>\n",
       "      <td>0.435163</td>\n",
       "      <td>-0.583595</td>\n",
       "      <td>0.816847</td>\n",
       "      <td>0.672721</td>\n",
       "    </tr>\n",
       "    <tr>\n",
       "      <th>3</th>\n",
       "      <td>-0.104411</td>\n",
       "      <td>-0.531280</td>\n",
       "      <td>1.029733</td>\n",
       "      <td>-0.438136</td>\n",
       "      <td>-1.118318</td>\n",
       "    </tr>\n",
       "    <tr>\n",
       "      <th>4</th>\n",
       "      <td>1.618982</td>\n",
       "      <td>1.541605</td>\n",
       "      <td>-0.251879</td>\n",
       "      <td>-0.842436</td>\n",
       "      <td>0.184519</td>\n",
       "    </tr>\n",
       "    <tr>\n",
       "      <th>5</th>\n",
       "      <td>0.937082</td>\n",
       "      <td>0.731000</td>\n",
       "      <td>1.361556</td>\n",
       "      <td>-0.326238</td>\n",
       "      <td>0.055676</td>\n",
       "    </tr>\n",
       "    <tr>\n",
       "      <th>6</th>\n",
       "      <td>0.222400</td>\n",
       "      <td>-1.443217</td>\n",
       "      <td>-0.756352</td>\n",
       "      <td>0.816454</td>\n",
       "      <td>0.750445</td>\n",
       "    </tr>\n",
       "    <tr>\n",
       "      <th>7</th>\n",
       "      <td>-0.455947</td>\n",
       "      <td>1.189622</td>\n",
       "      <td>-1.690617</td>\n",
       "      <td>-1.356399</td>\n",
       "      <td>-1.232435</td>\n",
       "    </tr>\n",
       "    <tr>\n",
       "      <th>8</th>\n",
       "      <td>-0.544439</td>\n",
       "      <td>-0.668172</td>\n",
       "      <td>0.007315</td>\n",
       "      <td>-0.612939</td>\n",
       "      <td>1.299748</td>\n",
       "    </tr>\n",
       "    <tr>\n",
       "      <th>9</th>\n",
       "      <td>-1.733096</td>\n",
       "      <td>-0.983310</td>\n",
       "      <td>0.357508</td>\n",
       "      <td>-1.613579</td>\n",
       "      <td>1.470714</td>\n",
       "    </tr>\n",
       "  </tbody>\n",
       "</table>\n",
       "</div>"
      ],
      "text/plain": [
       "          0         1         2         3         4\n",
       "0 -1.749765  0.342680  1.153036 -0.252436  0.981321\n",
       "1  0.514219  0.221180 -1.070043 -0.189496  0.255001\n",
       "2 -0.458027  0.435163 -0.583595  0.816847  0.672721\n",
       "3 -0.104411 -0.531280  1.029733 -0.438136 -1.118318\n",
       "4  1.618982  1.541605 -0.251879 -0.842436  0.184519\n",
       "5  0.937082  0.731000  1.361556 -0.326238  0.055676\n",
       "6  0.222400 -1.443217 -0.756352  0.816454  0.750445\n",
       "7 -0.455947  1.189622 -1.690617 -1.356399 -1.232435\n",
       "8 -0.544439 -0.668172  0.007315 -0.612939  1.299748\n",
       "9 -1.733096 -0.983310  0.357508 -1.613579  1.470714"
      ]
     },
     "metadata": {},
     "output_type": "display_data"
    },
    {
     "name": "stdout",
     "output_type": "stream",
     "text": [
      "0   -0.175300\n",
      "1    0.083527\n",
      "2   -0.044334\n",
      "3   -0.399836\n",
      "4    0.331939\n",
      "dtype: float64\n",
      "our mean= [-0.1753003003007798, 0.08352721390288316, -0.044333972284362075, -0.39983564919591685, 0.33193916850842475]\n",
      "0    1.069584\n",
      "1    0.965548\n",
      "2    1.018232\n",
      "3    0.793167\n",
      "4    0.918992\n",
      "dtype: float64\n",
      "our sigma= [1.069584393754908, 0.9655479229776867, 1.0182315502230195, 0.7931668855918225, 0.918992356527374]\n"
     ]
    }
   ],
   "source": [
    "import numpy as np\n",
    "import pandas as pd\n",
    "from IPython.display import display\n",
    "np.random.seed(100)              # some arbitrary random seed to always start the same\n",
    "# setting up a 10 x 5 matrix\n",
    "rows = 10\n",
    "cols = 5\n",
    "a = np.random.randn(rows,cols)  # normal distributed random numbers (10x5)\n",
    "df = pd.DataFrame(a)            # df is now panda DataFrame\n",
    "display(df)\n",
    "print(df.mean())   # easy to get mean of each column\n",
    "\n",
    "our_mean = [sum(a[:,i])/rows for i in range(cols)]\n",
    "print('our mean=', our_mean)\n",
    "\n",
    "print(df.std())    # easy to get standard deviation\n",
    "# Note that we have to use 1/(rows-1), which is more precise than 1/rows!\n",
    "our_s = [ np.sqrt(sum((a[:,i]-our_mean[i])**2)/(rows-1)) for i in range(cols)]\n",
    "print('our sigma=', our_s)\n"
   ]
  },
  {
   "cell_type": "markdown",
   "id": "79ad31db",
   "metadata": {},
   "source": [
    "Thereafter we can select specific columns only and plot final results"
   ]
  },
  {
   "cell_type": "code",
   "execution_count": 15,
   "id": "6017207f",
   "metadata": {},
   "outputs": [
    {
     "data": {
      "text/html": [
       "<div>\n",
       "<style scoped>\n",
       "    .dataframe tbody tr th:only-of-type {\n",
       "        vertical-align: middle;\n",
       "    }\n",
       "\n",
       "    .dataframe tbody tr th {\n",
       "        vertical-align: top;\n",
       "    }\n",
       "\n",
       "    .dataframe thead th {\n",
       "        text-align: right;\n",
       "    }\n",
       "</style>\n",
       "<table border=\"1\" class=\"dataframe\">\n",
       "  <thead>\n",
       "    <tr style=\"text-align: right;\">\n",
       "      <th></th>\n",
       "      <th>First</th>\n",
       "      <th>Second</th>\n",
       "      <th>Third</th>\n",
       "      <th>Fourth</th>\n",
       "      <th>Fifth</th>\n",
       "    </tr>\n",
       "  </thead>\n",
       "  <tbody>\n",
       "    <tr>\n",
       "      <th>1</th>\n",
       "      <td>-1.749765</td>\n",
       "      <td>0.342680</td>\n",
       "      <td>1.153036</td>\n",
       "      <td>-0.252436</td>\n",
       "      <td>0.981321</td>\n",
       "    </tr>\n",
       "    <tr>\n",
       "      <th>2</th>\n",
       "      <td>0.514219</td>\n",
       "      <td>0.221180</td>\n",
       "      <td>-1.070043</td>\n",
       "      <td>-0.189496</td>\n",
       "      <td>0.255001</td>\n",
       "    </tr>\n",
       "    <tr>\n",
       "      <th>3</th>\n",
       "      <td>-0.458027</td>\n",
       "      <td>0.435163</td>\n",
       "      <td>-0.583595</td>\n",
       "      <td>0.816847</td>\n",
       "      <td>0.672721</td>\n",
       "    </tr>\n",
       "    <tr>\n",
       "      <th>4</th>\n",
       "      <td>-0.104411</td>\n",
       "      <td>-0.531280</td>\n",
       "      <td>1.029733</td>\n",
       "      <td>-0.438136</td>\n",
       "      <td>-1.118318</td>\n",
       "    </tr>\n",
       "    <tr>\n",
       "      <th>5</th>\n",
       "      <td>1.618982</td>\n",
       "      <td>1.541605</td>\n",
       "      <td>-0.251879</td>\n",
       "      <td>-0.842436</td>\n",
       "      <td>0.184519</td>\n",
       "    </tr>\n",
       "    <tr>\n",
       "      <th>6</th>\n",
       "      <td>0.937082</td>\n",
       "      <td>0.731000</td>\n",
       "      <td>1.361556</td>\n",
       "      <td>-0.326238</td>\n",
       "      <td>0.055676</td>\n",
       "    </tr>\n",
       "    <tr>\n",
       "      <th>7</th>\n",
       "      <td>0.222400</td>\n",
       "      <td>-1.443217</td>\n",
       "      <td>-0.756352</td>\n",
       "      <td>0.816454</td>\n",
       "      <td>0.750445</td>\n",
       "    </tr>\n",
       "    <tr>\n",
       "      <th>8</th>\n",
       "      <td>-0.455947</td>\n",
       "      <td>1.189622</td>\n",
       "      <td>-1.690617</td>\n",
       "      <td>-1.356399</td>\n",
       "      <td>-1.232435</td>\n",
       "    </tr>\n",
       "    <tr>\n",
       "      <th>9</th>\n",
       "      <td>-0.544439</td>\n",
       "      <td>-0.668172</td>\n",
       "      <td>0.007315</td>\n",
       "      <td>-0.612939</td>\n",
       "      <td>1.299748</td>\n",
       "    </tr>\n",
       "    <tr>\n",
       "      <th>10</th>\n",
       "      <td>-1.733096</td>\n",
       "      <td>-0.983310</td>\n",
       "      <td>0.357508</td>\n",
       "      <td>-1.613579</td>\n",
       "      <td>1.470714</td>\n",
       "    </tr>\n",
       "  </tbody>\n",
       "</table>\n",
       "</div>"
      ],
      "text/plain": [
       "       First    Second     Third    Fourth     Fifth\n",
       "1  -1.749765  0.342680  1.153036 -0.252436  0.981321\n",
       "2   0.514219  0.221180 -1.070043 -0.189496  0.255001\n",
       "3  -0.458027  0.435163 -0.583595  0.816847  0.672721\n",
       "4  -0.104411 -0.531280  1.029733 -0.438136 -1.118318\n",
       "5   1.618982  1.541605 -0.251879 -0.842436  0.184519\n",
       "6   0.937082  0.731000  1.361556 -0.326238  0.055676\n",
       "7   0.222400 -1.443217 -0.756352  0.816454  0.750445\n",
       "8  -0.455947  1.189622 -1.690617 -1.356399 -1.232435\n",
       "9  -0.544439 -0.668172  0.007315 -0.612939  1.299748\n",
       "10 -1.733096 -0.983310  0.357508 -1.613579  1.470714"
      ]
     },
     "metadata": {},
     "output_type": "display_data"
    },
    {
     "name": "stdout",
     "output_type": "stream",
     "text": [
      "<Second>= 0.08352721390288316\n",
      "<class 'pandas.core.frame.DataFrame'>\n",
      "Int64Index: 10 entries, 1 to 10\n",
      "Data columns (total 5 columns):\n",
      " #   Column  Non-Null Count  Dtype  \n",
      "---  ------  --------------  -----  \n",
      " 0   First   10 non-null     float64\n",
      " 1   Second  10 non-null     float64\n",
      " 2   Third   10 non-null     float64\n",
      " 3   Fourth  10 non-null     float64\n",
      " 4   Fifth   10 non-null     float64\n",
      "dtypes: float64(5)\n",
      "memory usage: 480.0 bytes\n",
      "Info of DataFrame= None\n",
      "           First     Second      Third     Fourth      Fifth\n",
      "count  10.000000  10.000000  10.000000  10.000000  10.000000\n",
      "mean   -0.175300   0.083527  -0.044334  -0.399836   0.331939\n",
      "std     1.069584   0.965548   1.018232   0.793167   0.918992\n",
      "min    -1.749765  -1.443217  -1.690617  -1.613579  -1.232435\n",
      "25%    -0.522836  -0.633949  -0.713163  -0.785061   0.087887\n",
      "50%    -0.280179   0.281930  -0.122282  -0.382187   0.463861\n",
      "75%     0.441264   0.657041   0.861676  -0.205231   0.923602\n",
      "max     1.618982   1.541605   1.361556   0.816847   1.470714\n"
     ]
    }
   ],
   "source": [
    "df.columns = ['First', 'Second', 'Third', 'Fourth', 'Fifth']\n",
    "df.index = np.arange(1,11)\n",
    "\n",
    "display(df)\n",
    "print('<Second>=', df['Second'].mean() )\n",
    "print('Info of DataFrame=', df.info())\n",
    "print(df.describe())"
   ]
  },
  {
   "cell_type": "code",
   "execution_count": 16,
   "id": "f7613111",
   "metadata": {},
   "outputs": [
    {
     "data": {
      "image/png": "[encoded data removed]",
      "text/plain": [
       "<Figure size 640x480 with 1 Axes>"
      ]
     },
     "metadata": {},
     "output_type": "display_data"
    },
    {
     "data": {
      "image/png": "[encoded data removed]",
      "text/plain": [
       "<Figure size 1000x600 with 1 Axes>"
      ]
     },
     "metadata": {},
     "output_type": "display_data"
    },
    {
     "data": {
      "image/png": "[encoded data removed]",
      "text/plain": [
       "<Figure size 1000x600 with 1 Axes>"
      ]
     },
     "metadata": {},
     "output_type": "display_data"
    }
   ],
   "source": [
    "from pylab import plt, mpl\n",
    "mpl.rcParams['font.family'] = 'serif'\n",
    "\n",
    "#usual type plotting \n",
    "plt.plot(df.cumsum(), lw=2.0)\n",
    "\n",
    "#using pandas makes it easier\n",
    "df.cumsum().plot(lw=2.0, figsize=(10,6))\n",
    "plt.show()\n",
    "\n",
    "#using bars\n",
    "df.plot.bar(figsize=(10,6), rot=15)\n",
    "plt.show()"
   ]
  },
  {
   "cell_type": "markdown",
   "id": "74aa2423",
   "metadata": {},
   "source": [
    "Example of a nice print of $4\\times 4$ matrix"
   ]
  },
  {
   "cell_type": "code",
   "execution_count": 17,
   "id": "d4eebb54",
   "metadata": {},
   "outputs": [
    {
     "name": "stdout",
     "output_type": "stream",
     "text": [
      "[[ 0  1  2  3]\n",
      " [ 4  5  6  7]\n",
      " [ 8  9 10 11]\n",
      " [12 13 14 15]]\n",
      "    0   1   2   3\n",
      "0   0   1   2   3\n",
      "1   4   5   6   7\n",
      "2   8   9  10  11\n",
      "3  12  13  14  15\n"
     ]
    }
   ],
   "source": [
    "b = np.arange(16).reshape((4,4))\n",
    "print(b)\n",
    "df1 = pd.DataFrame(b)\n",
    "print(df1)"
   ]
  },
  {
   "cell_type": "markdown",
   "id": "4373d4e0",
   "metadata": {},
   "source": [
    "and many other operations. \n",
    "\n",
    "The **Series** class is another important class included in\n",
    "**pandas**. You can view it as a specialization of **DataFrame** but where\n",
    "we have just a single column of data. It shares many of the same features as _DataFrame. As with **DataFrame**,\n",
    "most operations are vectorized, achieving thereby a high performance when dealing with computations of arrays, in particular labeled arrays.\n",
    "As we will see below it leads also to a very concice code close to the mathematical operations we may be interested in.\n",
    "For multidimensional arrays, we recommend strongly [xarray](http://xarray.pydata.org/en/stable/). **xarray** has much of the same flexibility as **pandas**, but allows for the extension to higher dimensions than two. "
   ]
  },
  {
   "cell_type": "code",
   "execution_count": null,
   "id": "least-remedy",
   "metadata": {},
   "outputs": [],
   "source": []
  }
 ],
 "metadata": {
  "kernelspec": {
   "display_name": "Python 3 (ipykernel)",
   "language": "python",
   "name": "python3"
  },
  "language_info": {
   "codemirror_mode": {
    "name": "ipython",
    "version": 3
   },
   "file_extension": ".py",
   "mimetype": "text/x-python",
   "name": "python",
   "nbconvert_exporter": "python",
   "pygments_lexer": "ipython3",
   "version": "3.8.5"
  }
 },
 "nbformat": 4,
 "nbformat_minor": 5
}
