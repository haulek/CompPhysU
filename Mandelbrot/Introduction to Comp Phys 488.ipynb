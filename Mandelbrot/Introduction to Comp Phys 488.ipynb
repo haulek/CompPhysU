{
 "cells": [
  {
   "cell_type": "markdown",
   "id": "261d10af",
   "metadata": {},
   "source": [
    "# Installation"
   ]
  },
  {
   "cell_type": "markdown",
   "id": "71b45751",
   "metadata": {},
   "source": [
    "To set up the python environment, we will use Anaconda (<a href=\"https://www.anaconda.com\"> www.anaconda.com</a>). Click the link and follow the instructions.\n",
    "\n",
    "\n",
    "Once installed, search for the installed app, which should be called something like **Anaconda-Navigator**. Once *Navigator* starts,  go to *Environments*, and *Search Packages*. Please check for the following packages:\n",
    "- numpy\n",
    "- scipy\n",
    "- matplotlib\n",
    "- notebook (jupyter notebook)\n",
    "- numba\n",
    "- uncertainties\n",
    "- pybind11"
   ]
  },
  {
   "cell_type": "markdown",
   "id": "cbe261a4",
   "metadata": {},
   "source": [
    "We will also need a text editor for python codes (in addition to jupyter notebooks). **Spyder** is part of Anaconda, and is very powerful editor. You can find it inside *Anaconda-Navigator*.\n",
    "\n",
    "But other editors of your choice are equally good (for example *emacs* or *Aquamacs* or *vim* or *vi*)"
   ]
  },
  {
   "cell_type": "markdown",
   "id": "f556e632",
   "metadata": {},
   "source": [
    "Some examples to speed up the code will be given in C++. It is not essential to have it, but you will learn more if you can set up the environment with a C++ compiler (such as gcc), which can be combined with Python. For installation instructions, see the `Optional installation of C++` below. We will also show examples below."
   ]
  },
  {
   "cell_type": "markdown",
   "id": "bec6c2f1",
   "metadata": {},
   "source": [
    "We will test the installation with an excercise of plotting **Mandelbrot set.**"
   ]
  },
  {
   "cell_type": "markdown",
   "id": "22f41c3b",
   "metadata": {},
   "source": [
    "## Mandelbrot set"
   ]
  },
  {
   "cell_type": "markdown",
   "id": "ab9d4c3d",
   "metadata": {},
   "source": [
    "Wikipedia: The Mandelbrot set $M$ is defined by a family of complex quadratic polynomials $f(z) = z^2 + z_0$ where $z_0$ is a complex parameter. For each $z_0$, one considers the behavior of the sequence $(f(0), f(f(0)), f(f(f(0))), · · ·)$ obtained by iterating $f(z)$ starting at $z=0$, which either escapes to infinity or stays\n",
    "within a disk of som finite radius. The *Mandelbrot set* is defined as the set of points $z_0$, such that the above sequence does not escape to infinity."
   ]
  },
  {
   "cell_type": "markdown",
   "id": "f6cadfbb",
   "metadata": {},
   "source": [
    "More concretely, the sequence is : $(z_0,z_0^2+z_0,z_0^4+2 z_0^3+z_0^2+z_0,...)$.\n",
    "\n",
    "For large $z_0$ it behaves as $z_0^{2n}$ and clearly diverges at large $n$. Consequently, large $z_0$ is not part of the set. \n",
    "\n",
    "For small $z_0$, it is of the order of $z_0+O(z_0^2)$, and is small when $z_0$ is small. Such $z_0$ are part of the set.\n",
    "\n",
    "To determine that certain $z_0$ is not part of the *Mandelbrot set*, we check if $|f(f(f(....)))|>2$. \n",
    "This treshold is sufficient, because the point with the largest magnitude that is still in the set is -2. Indeed, if we set $z_0=-2$, we see that $f(f(0))=(-2)^2-2=2$ and $f(f(f(0)))=2^2-2=2$, and for any number of itterations the sequence remains equal to $2$. Such sequence remains finite, and by definition $z_0=-2$ is part of the set, and $f(f(f(...)))=2$ might lead to finite sequence. \n",
    "\n",
    "For any other point $z_0\\ne -2$, we can show that once $f(f(f(...)))$ becomes $2$, it will lead to diverging sequence. For example, for $z_0=1$ we have $f(f(0))=2$ and $f(f(f(0)))=5$, and clearly grows.\n",
    "\n",
    "We will make density plot, with $Re(z_0)$ on $x$-axis, and $Im(z_0)$ on $y$-axis, and color will denote how long it took for the sequence to have absolute value equal to 2. The mandelbrot set will have one color, and all other colors \n",
    "\n"
   ]
  },
  {
   "cell_type": "code",
   "execution_count": 1,
   "id": "1338f8ce",
   "metadata": {},
   "outputs": [],
   "source": [
    "from numpy import * # because arrays are defined in numpy\n",
    "\n",
    "def Mand(z0, max_steps):\n",
    "    z = 0j  # no need to specify type. \n",
    "    # To initialize to complex number, just assign 0j==i*0\n",
    "    for itr in range(max_steps):\n",
    "        if abs(z)>2:\n",
    "            return itr\n",
    "        z = z*z + z0\n",
    "    return max_steps\n",
    "\n",
    "\n",
    "def Mandelbrot(ext, Nxy, max_steps):\n",
    "    \"\"\"\n",
    "    ext[4]    -- array of 4 values [min_x,max_x,min_y,max_y]\n",
    "    Nxy       -- int number of points in x and y direction\n",
    "    max_steps -- how many steps we will try at most before we conclude the point is in the set\n",
    "    \"\"\"\n",
    "    data = zeros((Nxy,Nxy)) # initialize a 2D dynamic array\n",
    "    for i in range(Nxy):\n",
    "        for j in range(Nxy):\n",
    "            x = ext[0] + (ext[1]-ext[0])*i/(Nxy-1.)\n",
    "            y = ext[2] + (ext[3]-ext[2])*j/(Nxy-1.)\n",
    "            # creating complex number of the fly\n",
    "            data[i,j] = Mand(x + y*1j, max_steps)  \n",
    "    return data\n",
    "# data now contains integers. \n",
    "# MandelbrotSet has value 1000, and points not in the set have value <1000."
   ]
  },
  {
   "cell_type": "code",
   "execution_count": 2,
   "id": "07e8719a",
   "metadata": {},
   "outputs": [],
   "source": [
    "data = Mandelbrot([-2,1,-1,1], 500, 1000)"
   ]
  },
  {
   "cell_type": "code",
   "execution_count": 3,
   "id": "17549e0a",
   "metadata": {},
   "outputs": [
    {
     "data": {
      "text/plain": [
       "<matplotlib.image.AxesImage at 0x7fc688cce310>"
      ]
     },
     "execution_count": 3,
     "metadata": {},
     "output_type": "execute_result"
    },
    {
     "data": {
      "image/png": "[encoded data removed]",
      "text/plain": [
       "<Figure size 432x288 with 1 Axes>"
      ]
     },
     "metadata": {
      "needs_background": "light"
     },
     "output_type": "display_data"
    }
   ],
   "source": [
    "from pylab import *    # plotting library\n",
    "%matplotlib inline\n",
    "\n",
    "ext=[-2,1,-1,1]\n",
    "# pylab's function for displaying 2D image\n",
    "imshow(transpose(data), extent=ext)  "
   ]
  },
  {
   "cell_type": "markdown",
   "id": "91fc0a63",
   "metadata": {},
   "source": [
    "This resolution is somewhat low, and we would like to increase $N_{xy}$ to 1000. But this would make the code 4-times slower. The code is already time consuming.\n",
    "Let's time it. \n",
    "\n",
    "For that we need to include *time* and use *time.time()* routine."
   ]
  },
  {
   "cell_type": "code",
   "execution_count": 4,
   "id": "b3ada506",
   "metadata": {},
   "outputs": [
    {
     "name": "stdout",
     "output_type": "stream",
     "text": [
      "clock time:  21.987634897232056 s\n"
     ]
    }
   ],
   "source": [
    "import time            # timeing\n",
    "t0 = time.time()\n",
    "data = Mandelbrot([-2,1,-1,1], 1000, 1000)\n",
    "t1 = time.time()\n",
    "print ('clock time: ',t1-t0,'s')"
   ]
  },
  {
   "cell_type": "markdown",
   "id": "7e8bada7",
   "metadata": {},
   "source": [
    "We can speed up the code with package **numba**: <a href=\"https://numba.pydata.org\">https://numba.pydata.org</a>.\n",
    "\n",
    "In the simplest case, we just add two lines of code: \n",
    "\n",
    "`from numba import njit`\n",
    "\n",
    "`@njit`\n",
    "\n",
    "\n",
    "Limitations of Numba:\n",
    "- Numba only accelerates code that uses scalars or (N-dimensional) arrays. You can’t use built-in types like `list` or `dict` or your own custom classes.\n",
    "- You can’t allocate new arrays in accelerated code.\n",
    "- You can’t use recursion.\n",
    "Most of those limitations are removed if using Cython.\n",
    "\n",
    "Numba has been getting a lot better, even just over the past few months (e.g., they recently added support for generating random numbers).\n"
   ]
  },
  {
   "cell_type": "code",
   "execution_count": 5,
   "id": "23b6e039",
   "metadata": {},
   "outputs": [],
   "source": [
    "from numpy import * # because arrays are defined in numpy\n",
    "from numba import njit  # This is the new line with numba\n",
    "\n",
    "@njit   # this is an alias for @jit(nopython=True)\n",
    "def Mand(z0, max_steps):\n",
    "    z = 0j  # no need to specify type. \n",
    "    # To initialize to complex number, just assign 0j==i*0\n",
    "    for itr in range(max_steps):\n",
    "        if abs(z)>2:\n",
    "            return itr\n",
    "        z = z*z + z0\n",
    "    return max_steps\n",
    "\n",
    "@njit\n",
    "def Mandelbrot2(ext, Nxy, max_steps):\n",
    "    \"\"\"\n",
    "    ext[4]    -- array of 4 values [min_x,max_x,min_y,max_y]\n",
    "    Nxy       -- int number of points in x and y direction\n",
    "    max_steps -- how many steps we will try at most before we conclude the point is in the set\n",
    "    \"\"\"\n",
    "    data = zeros((Nxy,Nxy)) # initialize a 2D dynamic array\n",
    "    for i in range(Nxy):\n",
    "        for j in range(Nxy):\n",
    "            x = ext[0] + (ext[1]-ext[0])*i/(Nxy-1.)\n",
    "            y = ext[2] + (ext[3]-ext[2])*j/(Nxy-1.)\n",
    "            # creating complex number of the fly\n",
    "            data[i,j] = Mand(x + y*1j, max_steps)  \n",
    "    return data\n",
    "# data now contains integers. \n",
    "# MandelbrotSet has value 1000, and points not in the set have value <1000."
   ]
  },
  {
   "cell_type": "code",
   "execution_count": 8,
   "id": "177c553b",
   "metadata": {},
   "outputs": [
    {
     "name": "stdout",
     "output_type": "stream",
     "text": [
      "clock time:  1.300595998764038 s\n"
     ]
    }
   ],
   "source": [
    "import time            # timeing\n",
    "t0 = time.time()\n",
    "data = Mandelbrot2(array([-2,1,-1,1]), 1000, 1000)\n",
    "t1 = time.time()\n",
    "print ('clock time: ',t1-t0,'s')"
   ]
  },
  {
   "cell_type": "markdown",
   "id": "b1a649b8",
   "metadata": {},
   "source": [
    "This is substantial speedup of order of 20, considering a small modification required.\n",
    "\n",
    "We can slightly improve the code by making the outer loop over i parallel, and by allocating array for data outside the optimized routine.\n",
    "\n",
    "- We will allocate array data outside `Mandelbrot` function\n",
    "- We will change `@njit` to `@njit(parallel=True)` and use `prange` instead of `range` for loop over j. Namely, if we don't change `range` to `prange` both loops will be attempted to be parallelized, which leads to nested parallelization, which either fails or is very innefficient.\n",
    "\n",
    "\n",
    "The example code is:"
   ]
  },
  {
   "cell_type": "code",
   "execution_count": 9,
   "id": "48285424",
   "metadata": {},
   "outputs": [],
   "source": [
    "from numpy import * # because arrays are defined in numpy\n",
    "from numba import njit  # This is the new line with numba\n",
    "from numba import prange\n",
    "\n",
    "@njit   # this is an alias for @jit(nopython=True)\n",
    "def Mand(z0, max_steps):\n",
    "    z = 0j  # no need to specify type. \n",
    "    # To initialize to complex number, just assign 0j==i*0\n",
    "    for itr in range(max_steps):\n",
    "        if abs(z)>2:\n",
    "            return itr\n",
    "        z = z*z + z0\n",
    "    return max_steps\n",
    "\n",
    "@njit(parallel=True)\n",
    "def Mandelbrot3(data, ext, max_steps):\n",
    "    \"\"\"\n",
    "    ext[4]    -- array of 4 values [min_x,max_x,min_y,max_y]\n",
    "    Nxy       -- int number of points in x and y direction\n",
    "    max_steps -- how many steps we will try at most before we conclude the point is in the set\n",
    "    \"\"\"\n",
    "    Nx,Ny = shape(data) # 2D array should be already allocated we get its size\n",
    "    for i in range(Nx):\n",
    "        for j in prange(Ny):    # note that we used prange instead of range.\n",
    "                                # this switches off parallelization of this loop, so that\n",
    "                                # only the outside loop over i is parallelized.\n",
    "            x = ext[0] + (ext[1]-ext[0])*i/(Nx-1.)\n",
    "            y = ext[2] + (ext[3]-ext[2])*j/(Ny-1.)\n",
    "            # creating complex number of the fly\n",
    "            data[i,j] = Mand(x + y*1j, max_steps)  \n",
    "# data now contains integers. \n",
    "# MandelbrotSet has value 1000, and points not in the set have value <1000."
   ]
  },
  {
   "cell_type": "code",
   "execution_count": 12,
   "id": "514a077b",
   "metadata": {},
   "outputs": [
    {
     "name": "stdout",
     "output_type": "stream",
     "text": [
      "clock time:  0.3214530944824219 s\n"
     ]
    }
   ],
   "source": [
    "import time            # timeing\n",
    "data = zeros((1000,1000))\n",
    "t0 = time.time()\n",
    "Mandelbrot3(data, array([-2,1,-1,1]), 1000)\n",
    "t1 = time.time()\n",
    "print ('clock time: ',t1-t0,'s')"
   ]
  },
  {
   "cell_type": "markdown",
   "id": "afa8299f",
   "metadata": {},
   "source": [
    "With this modification, we get speedup of the order of 50.\n",
    "Note that pure C++ code with OpenMP could gives us speedup of the order of 200, i.e., extra factor of 4 on MAC with 8 cores.\n"
   ]
  },
  {
   "cell_type": "markdown",
   "id": "28442589",
   "metadata": {},
   "source": [
    "Finally, let us improve the plot a bit. We will transform the data to plot `-logarithm` of the data (density logplot), so that *Mandelbrot Set* has the smallest value (appears black), and borders are more apparent.\n",
    "\n",
    "We will use different color scheme, for example `hot` color scheme from `matplotlib.cm`."
   ]
  },
  {
   "cell_type": "code",
   "execution_count": 13,
   "id": "fb9d9862",
   "metadata": {},
   "outputs": [
    {
     "data": {
      "text/plain": [
       "<matplotlib.image.AxesImage at 0x7fc698541340>"
      ]
     },
     "execution_count": 13,
     "metadata": {},
     "output_type": "execute_result"
    },
    {
     "data": {
      "image/png": "[encoded data removed]",
      "text/plain": [
       "<Figure size 432x288 with 1 Axes>"
      ]
     },
     "metadata": {
      "needs_background": "light"
     },
     "output_type": "display_data"
    }
   ],
   "source": [
    "import matplotlib.cm as cm\n",
    "\n",
    "imshow(-log(data.T), extent=[-2,1,-1,1], cmap=cm.hot)  "
   ]
  },
  {
   "cell_type": "markdown",
   "id": "c7553894-b15c-42f5-9a2b-655fd8f7bd6a",
   "metadata": {},
   "source": [
    "## Optional: Using C++ with `pybind11` to speed up the code \n",
    "\n",
    "To make the code as fast as in compiler languages (C++ or fortran), we can rewrite the slow part directly in C++, and use pybind11 to produce a python module from C++ code.\n",
    "\n",
    "### Optional installation of C++. These instructions are MAC specific\n",
    "\n",
    "- Install `Xcode` package from `App Store`\n",
    "- Install \"Command Line Tools\" parts of `Xcode`. You can check if \"Command Line Tools\" are already installed by issuing the following in the`terminal`:\n",
    "\n",
    "  `xcode-select --print-path`.\n",
    "\n",
    "  If you get no output, then issue the following command in your `terminal`:\n",
    "\n",
    "  `xcode-select —-install`\n",
    "\n",
    "  Xcode contains `C/C++` compiler (`gcc/g++`). Check if installation was successful by issuing in `terminal`:\n",
    "\n",
    "  `gcc --version`\n",
    "  \n",
    "  It is just a link to apples native Clang. It contains `make` utility.\n",
    "  Xcode also contains many libraries, for example, BLAS and LAPACK libraries, which can be linked by adding linker option: `-framework Accelerate`.\n"
   ]
  },
  {
   "cell_type": "markdown",
   "id": "94deb9c3",
   "metadata": {},
   "source": [
    "### Return to `pybind11` to speed up the code \n",
    "\n",
    "The function `mand` is written in conventional C++ language. For storage, we use type `py::array_t<double>`, which can convert any numpy arrays to a simple C++ container, that can be accessed conventionally.\n",
    "\n",
    "We do that in the very top of the function, where we extract proper type from `py::array_t<double>`\n",
    "\n",
    "`auto dat = data.mutable_unchecked<2>();`\n",
    "\n",
    "\n",
    "The `dat` object behaves as normal 2D array, which can be accessed via `dat(j,i)=...`. \n",
    "\n",
    "To have access to these Python types, we need to include a few `pybind11` header files:\n",
    "\n",
    "`#include \"pybind11/pybind11.h\"`<br>\n",
    "`#include \"pybind11/numpy.h\"`<br>\n",
    "`#include \"pybind11/stl.h\"`\n",
    "\n",
    "The crucial difference between normal C++ code or Python module is that the `main()` function is replaced by `PYBIND11_MODULE(imanc,m)`, which creates shared library that Python recognizes as module, rather than executable. Here, the first argument has to match the name of the file compiled file (`imanc.cc` and `imanc`). The second argument creates object with name `m`, which can than be filled with functions or classes that are exposed to Python. We just add our function `mand` to it : `m.def(\"mand\", &mand);`. The string `\"mand\"` gives name to this function in Python, which could in general be different, and `&mand` takes the pointer to existing C++ routine and binds it to Python module. The line `m.doc() = \"...\"` adds some documentation to the module as seen from Python.\n",
    "\n",
    "\n",
    "The entire C++ code below is just a long string (because jupyter has very limited support for C++). The last three lines in the cell open new file `imanc.cc`, write the code to this file, and close it, so that all content is safely written to this file.\n"
   ]
  },
  {
   "cell_type": "code",
   "execution_count": 14,
   "id": "149367bd",
   "metadata": {},
   "outputs": [],
   "source": [
    "CPP_code=\"\"\"\n",
    "#include \"pybind11/pybind11.h\"\n",
    "#include \"pybind11/numpy.h\"\n",
    "#include \"pybind11/stl.h\"\n",
    "#include <cstdint>\n",
    "\n",
    "namespace py = pybind11;\n",
    "using namespace std;\n",
    "\n",
    "void mand(py::array_t<double>& data, int Nx, int Ny, int max_steps, const vector<int>& ext)\n",
    "{\n",
    "  auto dat = data.mutable_unchecked<2>();\n",
    "  #pragma omp parallel for\n",
    "  for (int i=0; i<Nx; i++){\n",
    "    for (int j=0; j<Ny; j++){\n",
    "      dat(j,i) = max_steps;\n",
    "      double x = ext[0] + (ext[1]-ext[0])*i/(Nx-1.);\n",
    "      double y = ext[2] + (ext[3]-ext[2])*j/(Ny-1.);\n",
    "      complex<double> z0(x,y);\n",
    "      complex<double> z=0;\n",
    "      for (int itr=0; itr<max_steps; itr++){\n",
    "        if (norm(z)>4.){\n",
    "          dat(j,i) = itr;\n",
    "          break;\n",
    "        }\n",
    "        z = z*z + z0;\n",
    "      }\n",
    "    }\n",
    "  }\n",
    "}\n",
    "\n",
    "PYBIND11_MODULE(imanc,m){\n",
    "  m.doc() = \"pybind11 wrap for mandelbrot\";\n",
    "  m.def(\"mand\", &mand);\n",
    "}\n",
    "\"\"\"\n",
    "file = open('imanc.cc', mode='w')\n",
    "file.write(CPP_code)\n",
    "file.close()"
   ]
  },
  {
   "cell_type": "markdown",
   "id": "e42c41e0",
   "metadata": {},
   "source": [
    "Next we check that the file now exists in the working directory, where our jupyter notebook is located."
   ]
  },
  {
   "cell_type": "code",
   "execution_count": 15,
   "id": "a69a3d20",
   "metadata": {},
   "outputs": [
    {
     "name": "stdout",
     "output_type": "stream",
     "text": [
      "total 3464\r\n",
      "-rw-r--r--@ 1 haule  staff  588532 Jan  2 22:19 Interactive MandelbrotSet.html\r\n",
      "-rw-r--r--  1 haule  staff    4500 Jan  2 22:15 Interactive MandelbrotSet.ipynb\r\n",
      "-rw-r--r--@ 1 haule  staff  850412 Jan  2 22:18 Introduction to Comp Phys 488.html\r\n",
      "-rw-r--r--  1 haule  staff  141677 Jan  6 15:06 Introduction to Comp Phys 488.ipynb\r\n",
      "-rw-r--r--  1 haule  staff     828 Jan  6 15:06 imanc.cc\r\n",
      "-rwxr-xr-x  1 haule  staff  174152 Jan  6 13:35 \u001b[1m\u001b[31mimanc.so\u001b[m\u001b[m\r\n",
      "drwxr-xr-x  6 haule  staff     192 Jan  6 13:29 \u001b[1m\u001b[34mpybind11\u001b[m\u001b[m\r\n"
     ]
    }
   ],
   "source": [
    "cmd = 'ls -l'\n",
    "!{cmd}"
   ]
  },
  {
   "cell_type": "markdown",
   "id": "b168c682",
   "metadata": {},
   "source": [
    "Next we need to compile C++ code to create proper shared libray, which Python recognizes. This string is platform dependent, and in its current form is most appropriate for MAC. It needs some modification on other platforms. Please read the <a href=\"https://pybind11.readthedocs.io/en/stable/basics.html#compiling-the-test-cases\"> documentation</a> and <a href=\"https://pybind11.readthedocs.io/en/stable/compiling.html\">instructions</a> to modify the compile line.\n",
    "\n",
    "We will again create a long string, which is a line that is normally written in comand line, and we will than execute it on the system.\n",
    "\n",
    "As said, the complile line is system dependend, and will most likely need modification. Here is the explanation of the command:\n",
    "\n",
    "- `g++-12` is tha name of the C++ compiler on the sytstem. Most likely needs to be changed to your existsing C++ compiler.\n",
    "\n",
    "- `python3 -m pybind11 --includes` is line that can be executed in command line (try it) and should give the location of `pybind11` include files. Each computer will have these files at slightly different location, but this command should work in most systems.\n",
    "\n",
    "- `-undefined dynamic_lookup` is something MAC specific. Withouth this flag, the compiler will issue errors of missing symbols in the module. In other operating systems should not be needed.\n",
    "\n",
    "- `-O3` switches on agrresive optimization.\n",
    "\n",
    "- `-fopenmp` allows the code to be parallelized by openMP. Namely the code above has a line `#pragma omp parallel for`, which parallelizes the first loop over i, provided that we also add this flag during compilation.\n",
    "\n",
    "- `shared` tells the compiler that we are producing shared library\n",
    "\n",
    "- `-std=c++11` forces compiler to use C++ 2011 standard. We could use later standard, but not earlier.\n",
    "\n",
    "- `-fPIC` makes code position independent, which is required for shared library\n",
    "\n",
    "- `imanc.cc` is the name of our file that is being compiled.\n",
    "\n",
    "- `-o imanc.so` says that the output file will be called `imanc.so`. The Python module is thus named `imanc`.\n"
   ]
  },
  {
   "cell_type": "code",
   "execution_count": 16,
   "id": "57ca239f",
   "metadata": {},
   "outputs": [],
   "source": [
    "#cmd=\"g++ `python -m pybind11 --includes` -undefined dynamic_lookup -O3 -shared -std=c++11 -fPIC imanc.cc -o imanc.so\"\n",
    "cmd=\"g++ `python -m pybind11 --includes` -undefined dynamic_lookup -O3  -shared -std=c++11 -fPIC imanc.cc -o imanc.so\"\n",
    "\n",
    "!{cmd}"
   ]
  },
  {
   "cell_type": "markdown",
   "id": "911b1ab0",
   "metadata": {},
   "source": [
    "Finally, we import this generated module `imanc` and use the exposed function `mand` as `imanc.mand()`, which requires several arguments (see C++ code `mand` to understand the arguments). The arguments are `data, Nx, Ny, max_steps, ext`."
   ]
  },
  {
   "cell_type": "code",
   "execution_count": 17,
   "id": "0ba2fbae",
   "metadata": {},
   "outputs": [
    {
     "name": "stdout",
     "output_type": "stream",
     "text": [
      "pybind11: walltime:  1.0743510723114014\n"
     ]
    }
   ],
   "source": [
    "import imanc  # We now import pybind11 module, produced with C++ code\n",
    "\n",
    "data3 = ones((1000,1000))\n",
    "\n",
    "t0 = time.time()\n",
    "imanc.mand(data3, 1000, 1000, 1000, [-2,1,-1,1])\n",
    "t1 = time.time()\n",
    "\n",
    "print('pybind11: walltime: ', t1-t0)"
   ]
  },
  {
   "cell_type": "markdown",
   "id": "ddf0922c",
   "metadata": {},
   "source": [
    "The walltime should be around 150 - 200 times shorter than pure python code above. This close to the optimal performance of modern computers. \n",
    "\n",
    "Unfortunately, my current computer has `silicon` architecure, and anaconda seems to not yet properly take advantage of its speed. I can only demonstrate the speed in terminal running different `python` version from `homebrew`.\n",
    "\n",
    "Finally we replot the data."
   ]
  },
  {
   "cell_type": "code",
   "execution_count": 18,
   "id": "7acda3b9",
   "metadata": {},
   "outputs": [
    {
     "data": {
      "text/plain": [
       "<matplotlib.image.AxesImage at 0x7fc69877fe80>"
      ]
     },
     "execution_count": 18,
     "metadata": {},
     "output_type": "execute_result"
    },
    {
     "data": {
      "image/png": "[encoded data removed]",
      "text/plain": [
       "<Figure size 432x288 with 1 Axes>"
      ]
     },
     "metadata": {
      "needs_background": "light"
     },
     "output_type": "display_data"
    }
   ],
   "source": [
    "import matplotlib.cm as cm\n",
    "\n",
    "imshow(-log(data3), extent=ext, cmap=cm.hot)  "
   ]
  },
  {
   "cell_type": "markdown",
   "id": "6e1ee084-4d0f-4f22-a8df-0ae71c101ae2",
   "metadata": {},
   "source": [
    "## Popularity of programing languages\n",
    "\n",
    "https://www.tiobe.com/tiobe-index/\n"
   ]
  },
  {
   "cell_type": "code",
   "execution_count": null,
   "id": "a77157de-5f46-4cc1-99db-216dafa14fd2",
   "metadata": {},
   "outputs": [],
   "source": []
  }
 ],
 "metadata": {
  "kernelspec": {
   "display_name": "Python 3 (ipykernel)",
   "language": "python",
   "name": "python3"
  },
  "language_info": {
   "codemirror_mode": {
    "name": "ipython",
    "version": 3
   },
   "file_extension": ".py",
   "mimetype": "text/x-python",
   "name": "python",
   "nbconvert_exporter": "python",
   "pygments_lexer": "ipython3",
   "version": "3.8.18"
  }
 },
 "nbformat": 4,
 "nbformat_minor": 5
}
