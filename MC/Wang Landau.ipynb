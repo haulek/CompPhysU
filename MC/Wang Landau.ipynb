{
 "cells": [
  {
   "cell_type": "markdown",
   "metadata": {},
   "source": [
    "# Wang Landau algorithm\n",
    "\n",
    "\n",
    "<img src=\"wang-landau.png\">\n",
    "\n",
    "\n",
    "The algorithm is very useful for studing the phase transition phenomena because it does not suffer from the critical slowing down and gives direct access to thermodynamic potential and its derivatives\n",
    "\n",
    "\n",
    "\n",
    "Consider the 4-site Ising model.\n",
    "\n",
    "<img src=\"wnlan.xfig.png\" width=\"60%\">\n",
    "\n",
    "\n",
    "Many energy levels are highly degenerate.\n",
    "\n",
    "In case of periodic boundary conditions, the allowed energy levels of\n",
    "the ising model are: $-2J N$, $-2J (N-4)$, $-2J(N-6)$,$-2J(N-8)$\n",
    "... $2J N$. The number of\n",
    "energy levels is of the order of $N$ while the number of all possible\n",
    "states is $2^N$. Therefore many states have to be heavily\n",
    "degenerate. In Markov-chain simulation at certain low temperature $T$, most of\n",
    "states visited have the same energy close to $\\langle E \\rangle$ ( the\n",
    "probability for a state is $e^{-E/T}$).\n",
    "\n",
    "\n",
    "The classical MC simulation generates canonical distribution at a\n",
    "given temperature $P(E) \\propto g(E)e^{-E/T}$. The idea of Wang-Landau is\n",
    "to estimate the many-body density of states $g(E)$ directly. The\n",
    "temperature is not required for the simulation and by analyzing $g(E)$\n",
    "one can study thermodynamics at *any* temperature.\n",
    "\n",
    "\n",
    "If the density of state $g(E)$ is known, the free energy is simply given by \n",
    "\\begin{equation}\n",
    "  F(T) = -k_B T \\log (Z) = -k_B T\n",
    "  \\log{\\sum_E g(E) e^{-E/T}}\n",
    "\\end{equation}\n",
    "\n",
    "In the Wang-Landau algorithm the random walk in energy space is\n",
    "performed and the probability to visit a state with energy $E$ is\n",
    "taken to be $P\\propto \\frac{1}{g(E)}$. The resulting histogram \n",
    "$H(E) \\propto g(E)P(E) \\propto const$ is therefore flat in the\n",
    "simulation.\n",
    "\n",
    "In our example above, a simple random walk would visit a state with $E=0$\n",
    "six-times more often than the other two states since there are\n",
    "six-times more states at $E=0$. If we assign probability for the state\n",
    "at $E=-4J$ to be proportional to $1/2$, at $E=0$ to $1/12$ and at\n",
    "$E=4J$ to be $1/2$, we will visit all three states on average the same\n",
    "number of times. Hence the histogram of visits is flat.\n",
    "\n",
    "\n",
    "Let us sketch of the algorithm which generates the density of states\n",
    "$g(E)$.\n",
    "\n",
    "The transition probability is taken to be\n",
    "\\begin{equation}\n",
    "  P(E_1\\rightarrow E_2) = min\\left[\\frac{g(E_1)}{g(E_2)},1\\right].\n",
    "\\label{Ptr}\n",
    "\\end{equation}\n",
    "We always accept moves with smaller density of states but we often\n",
    "reject moves that would bring us to the state with high density of states.\n",
    "\n",
    "\n",
    "\n",
    "\n",
    "- Start with $g(E)=1$ for all energies of the model.\n",
    "- Try to flip a random spin and accept the move according to\n",
    "  probability $P(E_1\\rightarrow E_2)$.\n",
    "- Every time we accept a move, the density of states for the\n",
    "  current energy is updated by multiplying the existing value $g(E)$\n",
    "  by a modification factor $f>1$, i.e., $g(E)\\rightarrow g(E) f$. \n",
    "  \n",
    "  This modification factor serves like a temperature in the simulated\n",
    "  annealing algorithm. At the beginning it is taken to be relatively\n",
    "  large $f\\sim e^1 =2.71828$ and later it is reduced to unity. Because\n",
    "  of this large factor, the density of states will grow very fast for\n",
    "  highly degenerate states and we will quickly visit all possible\n",
    "  energies. However, the density of states obtained by large $f$ is\n",
    "  not very accurate. The error is equal to $\\log(f)$.\n",
    "\n",
    "- The simulation at certain modification factor $f$ is running for\n",
    "  so long that the histogram becomes flat, i.e., each energy level was\n",
    "  visited equal number of times. Here equal means that the deviation\n",
    "  is within certain bound, like 80-90\\%.\n",
    "  \n",
    "- At that point, the histogram is reset to zero $H(E)=0$ and a new\n",
    "  random walk is started with finer modification factor (like $f_1\n",
    "  =\\sqrt{f_0}$).\n",
    "  \n",
    "- The simulation is again running so long that the histogram\n",
    "  becomes flat. After that, the histogram is again reset and\n",
    "  modification factor is reduced.\n",
    "\n",
    "- When the modification factor $f$ becomes sufficiently close to\n",
    "  unity, the density of states does not change anymore.  \n",
    "  **If we are able to obtain a flat histogram using converged $g(E)$ in\n",
    "  $P(E_1\\rightarrow E_2)$, the density of states $g(E)$ is obviously the true\n",
    "  density of states of the model.**\n",
    "  \n",
    "\n",
    "<img src=\"wang-landau3.png\" width=\"50%\">\n",
    "<img src=\"wang-landau4.png\" width=\"50%\">"
   ]
  },
  {
   "cell_type": "markdown",
   "metadata": {},
   "source": [
    "## Wang-Landau simulation"
   ]
  },
  {
   "cell_type": "code",
   "execution_count": 1,
   "metadata": {},
   "outputs": [],
   "source": [
    "from numpy import *\n",
    "from numpy import random\n",
    "from numba import jit\n",
    "\n",
    "@jit(nopython=True)\n",
    "def CEnergy(latt):\n",
    "    \"Energy of configuration for the 2D Ising model\"\n",
    "    N = shape(latt)[0]\n",
    "    Ene = 0\n",
    "    for i in range(len(latt)):\n",
    "        for j in range(len(latt)):\n",
    "            S = latt[i,j]   # Spin, can be either +1 or -1\n",
    "            WF = latt[(i+1)%N,j]+latt[i,(j+1)%N]+latt[(i-1)%N,j]+latt[i,(j-1)%N]\n",
    "            Ene += -S * WF\n",
    "    return Ene/2.\n",
    "\n",
    "def RandomL(N):\n",
    "    \"Random lattice corresponding to infinite temperature\"\n",
    "    return array(sign(2*random.random((N,N))-1),dtype=int) "
   ]
  },
  {
   "cell_type": "code",
   "execution_count": 2,
   "metadata": {},
   "outputs": [],
   "source": [
    "def PrepareEnergies(N):\n",
    "    Energies = (array(4*arange(-int(N*N/2),int(N*N/2)+1),dtype=int)).tolist() # -2 N^2...2N^2 in steps of 4\n",
    "    #Energies = range(-2*N*N,2*N*N,4)\n",
    "    Energies.pop(1)  # take out E[1]\n",
    "    Energies.pop(-2) # take out E[-2]\n",
    "    Energies = array(Energies) # make array of energies again\n",
    "    Emin, Emax = Energies[0],Energies[-1]\n",
    "    #index array to energies\n",
    "    indE = -ones(Emax+1-Emin, dtype=int) # index table to get index to particular energy g(E)~g[indE[E]]\n",
    "    for i,E in enumerate(Energies):\n",
    "        indE[E-Emin]=i\n",
    "    # Ising lattice at infinite T\n",
    "    ## g(E) we know E = -2*N^2,2*N^2 in steps of 4...\n",
    "    return (Energies, indE, Emin)"
   ]
  },
  {
   "cell_type": "code",
   "execution_count": 32,
   "metadata": {},
   "outputs": [
    {
     "name": "stdout",
     "output_type": "stream",
     "text": [
      "Emin= -200\n",
      "[-200 -192 -188 -184 -180 -176 -172 -168 -164 -160 -156 -152 -148 -144\n",
      " -140 -136 -132 -128 -124 -120 -116 -112 -108 -104 -100  -96  -92  -88\n",
      "  -84  -80  -76  -72  -68  -64  -60  -56  -52  -48  -44  -40  -36  -32\n",
      "  -28  -24  -20  -16  -12   -8   -4    0    4    8   12   16   20   24\n",
      "   28   32   36   40   44   48   52   56   60   64   68   72   76   80\n",
      "   84   88   92   96  100  104  108  112  116  120  124  128  132  136\n",
      "  140  144  148  152  156  160  164  168  172  176  180  184  188  192\n",
      "  200]\n",
      "[ 0 -1 -1 -1 -1 -1 -1 -1  1 -1 -1 -1  2 -1 -1 -1  3 -1 -1 -1  4 -1 -1 -1\n",
      "  5 -1 -1 -1  6 -1 -1 -1  7 -1 -1 -1  8 -1 -1 -1  9 -1 -1 -1 10 -1 -1 -1\n",
      " 11 -1 -1 -1 12 -1 -1 -1 13 -1 -1 -1 14 -1 -1 -1 15 -1 -1 -1 16 -1 -1 -1\n",
      " 17 -1 -1 -1 18 -1 -1 -1 19 -1 -1 -1 20 -1 -1 -1 21 -1 -1 -1 22 -1 -1 -1\n",
      " 23 -1 -1 -1 24 -1 -1 -1 25 -1 -1 -1 26 -1 -1 -1 27 -1 -1 -1 28 -1 -1 -1\n",
      " 29 -1 -1 -1 30 -1 -1 -1 31 -1 -1 -1 32 -1 -1 -1 33 -1 -1 -1 34 -1 -1 -1\n",
      " 35 -1 -1 -1 36 -1 -1 -1 37 -1 -1 -1 38 -1 -1 -1 39 -1 -1 -1 40 -1 -1 -1\n",
      " 41 -1 -1 -1 42 -1 -1 -1 43 -1 -1 -1 44 -1 -1 -1 45 -1 -1 -1 46 -1 -1 -1\n",
      " 47 -1 -1 -1 48 -1 -1 -1 49 -1 -1 -1 50 -1 -1 -1 51 -1 -1 -1 52 -1 -1 -1\n",
      " 53 -1 -1 -1 54 -1 -1 -1 55 -1 -1 -1 56 -1 -1 -1 57 -1 -1 -1 58 -1 -1 -1\n",
      " 59 -1 -1 -1 60 -1 -1 -1 61 -1 -1 -1 62 -1 -1 -1 63 -1 -1 -1 64 -1 -1 -1\n",
      " 65 -1 -1 -1 66 -1 -1 -1 67 -1 -1 -1 68 -1 -1 -1 69 -1 -1 -1 70 -1 -1 -1\n",
      " 71 -1 -1 -1 72 -1 -1 -1 73 -1 -1 -1 74 -1 -1 -1 75 -1 -1 -1 76 -1 -1 -1\n",
      " 77 -1 -1 -1 78 -1 -1 -1 79 -1 -1 -1 80 -1 -1 -1 81 -1 -1 -1 82 -1 -1 -1\n",
      " 83 -1 -1 -1 84 -1 -1 -1 85 -1 -1 -1 86 -1 -1 -1 87 -1 -1 -1 88 -1 -1 -1\n",
      " 89 -1 -1 -1 90 -1 -1 -1 91 -1 -1 -1 92 -1 -1 -1 93 -1 -1 -1 94 -1 -1 -1\n",
      " 95 -1 -1 -1 96 -1 -1 -1 97 -1 -1 -1 -1 -1 -1 -1 98]\n"
     ]
    }
   ],
   "source": [
    "Ene,indE,Emin = PrepareEnergies(10)\n",
    "print('Emin=',Emin)\n",
    "print(Ene)\n",
    "print(indE)"
   ]
  },
  {
   "cell_type": "code",
   "execution_count": 4,
   "metadata": {},
   "outputs": [],
   "source": [
    "from numpy import random\n",
    "def WangLandau(Nitt, N, flatness):\n",
    "    \"Wang Landau in Python\"\n",
    "    (Energies, indE, Emin) = PrepareEnergies(N)\n",
    "    latt = RandomL(N)\n",
    "    return RunWangLandau(Nitt,Energies,latt,indE)"
   ]
  },
  {
   "cell_type": "code",
   "execution_count": 33,
   "metadata": {},
   "outputs": [],
   "source": [
    "@jit(nopython=True)\n",
    "def RunWangLandau(Nitt,Energies,latt,indE):\n",
    "    N   = len(latt)\n",
    "    Ene = int(CEnergy(latt))\n",
    "    #min,maximum energy\n",
    "    Emin, Emax = Energies[0],Energies[-1]\n",
    "    # Logarithm of the density of states\n",
    "    lngE = zeros(len(Energies))\n",
    "    # Histogram\n",
    "    Hist = zeros(len(Energies))\n",
    "    # modification factor\n",
    "    lnf = 1.0   # f = exp(lnf)=e\n",
    "    N2 = N*N\n",
    "    for itt in range(Nitt):\n",
    "        t = int(random.rand()*N2)\n",
    "        (i, j) = (int(t/N), t%N)\n",
    "        S = latt[i,j]\n",
    "        WF = latt[(i+1)%N,j]+latt[i,(j+1)%N]+latt[(i-1)%N,j]+latt[i,(j-1)%N]\n",
    "        Enew = Ene + int(2*S*WF) # the energy change if we flip the spin\n",
    "        # P = g(E)/g(Enew) = exp(log(g(E))-log(g(Enew)))\n",
    "        # P = exp(lngE(E)-lngE(Enew))\n",
    "        lgnew = lngE[indE[Enew-Emin]] # log(g(Enew))\n",
    "        lgold = lngE[indE[Ene-Emin]]  # log(g(Eold))\n",
    "        P = 1.0\n",
    "        if lgold-lgnew < 0 : P=exp(lgold-lgnew) # P = g_old/g_new = exp(log(g_old)-log(g_new))\n",
    "        if P > random.rand():\n",
    "            # accept the step\n",
    "            latt[i,j] = -S\n",
    "            Ene = Enew\n",
    "        Hist[indE[Ene-Emin]] += 1\n",
    "        lngE[indE[Ene-Emin]] += lnf   # g(E) -> g(E)*f hence log(g(E)) -> log(g(E))+log(f)\n",
    "        \n",
    "        if (itt+1) % 1000 == 0: # checking for flatness of the histogram\n",
    "            aH = sum(Hist)/N2 # average\n",
    "            mH = min(Hist)\n",
    "            if mH > aH*flatness:  # histogram is flat\n",
    "                Hist[:] = 0\n",
    "                lnf /= 2.\n",
    "                print(itt, 'histogram is flat', mH, aH, 'f=', exp(lnf))\n",
    "    return (lngE, Hist)"
   ]
  },
  {
   "cell_type": "code",
   "execution_count": 34,
   "metadata": {},
   "outputs": [
    {
     "name": "stdout",
     "output_type": "stream",
     "text": [
      "68173999 histogram is flat 60078.0 66576.171875 f= 1.6487212707001282\n",
      "79598999 histogram is flat 10059.0 11157.2265625 f= 1.2840254166877414\n",
      "99577999 histogram is flat 17561.0 19510.7421875 f= 1.1331484530668263\n",
      "114655999 histogram is flat 13267.0 14724.609375 f= 1.0644944589178593\n",
      "130326999 histogram is flat 13789.0 15303.7109375 f= 1.0317434074991028\n",
      "143994999 histogram is flat 12019.0 13347.65625 f= 1.0157477085866857\n",
      "160480999 histogram is flat 14495.0 16099.609375 f= 1.007843097206448\n",
      "181231999 histogram is flat 18260.0 20264.6484375 f= 1.0039138893383475\n",
      "198768999 histogram is flat 15433.0 17125.9765625 f= 1.0019550335910028\n",
      "229439999 histogram is flat 26985.0 29952.1484375 f= 1.0009770394924165\n",
      "254823999 histogram is flat 22318.0 24789.0625 f= 1.0004884004786945\n",
      "295870999 histogram is flat 36091.0 40084.9609375 f= 1.0002441704297478\n",
      "349000999 histogram is flat 46699.0 51884.765625 f= 1.0001220777633837\n",
      "489810999 histogram is flat 123760.0 137509.765625 f= 1.0000610370189331\n",
      "712426999 histogram is flat 195665.0 217398.4375 f= 1.000030518043791\n",
      "910861999 histogram is flat 174411.0 193784.1796875 f= 1.0000152589054785\n",
      "Done\n"
     ]
    }
   ],
   "source": [
    "from numpy import random\n",
    "\n",
    "flatness = 0.9\n",
    "N = 32\n",
    "Nitt = int(10e8)\n",
    "\n",
    "#N=10\n",
    "#Nitt = int(10e6)\n",
    "\n",
    "(lngE, Hist) = WangLandau(Nitt, N, flatness)\n",
    "print('Done')"
   ]
  },
  {
   "cell_type": "code",
   "execution_count": 35,
   "metadata": {},
   "outputs": [
    {
     "data": {
      "text/plain": [
       "(80508.46934509277, 80507.8903503418)"
      ]
     },
     "execution_count": 35,
     "metadata": {},
     "output_type": "execute_result"
    }
   ],
   "source": [
    "lngE[0],lngE[-1]"
   ]
  },
  {
   "cell_type": "code",
   "execution_count": 36,
   "metadata": {},
   "outputs": [],
   "source": [
    "# Proper normalization of the Density of states\n",
    "# g *= 4/(g[0]+g[-1]) = 4/(g[-1]*(1+g[0]/g[-1]))\n",
    "# g = g * 4/(g[-1]*(1+g[0]/g[-1]))\n",
    "# log(g) = log(g) + log(4)-log(g[-1]) - log(1+g[0]/g[-1])\n",
    "# log(g) += log(4)-log(g[-1])-log(1+exp(log(g[0])-log(g[-1])))\n",
    "# \n",
    "if lngE[-1]>lngE[0]:\n",
    "    lgC = log(4)-lngE[-1]-log(1+exp(lngE[0]-lngE[-1]))\n",
    "else:\n",
    "    lgC = log(4)-lngE[0]-log(1+exp(lngE[-1]-lngE[0]))\n",
    "\n",
    "lngE += lgC"
   ]
  },
  {
   "cell_type": "code",
   "execution_count": 37,
   "metadata": {},
   "outputs": [
    {
     "data": {
      "text/plain": [
       "(3.999999999984037, 2.5633442630349297, 1.4366557369491075)"
      ]
     },
     "execution_count": 37,
     "metadata": {},
     "output_type": "execute_result"
    }
   ],
   "source": [
    "exp(lngE[0])+exp(lngE[-1]), exp(lngE[0]), exp(lngE[-1])  # g[0]+g[-1]"
   ]
  },
  {
   "cell_type": "code",
   "execution_count": 38,
   "metadata": {},
   "outputs": [
    {
     "data": {
      "text/plain": [
       "[<matplotlib.lines.Line2D at 0x7fa070164670>]"
      ]
     },
     "execution_count": 38,
     "metadata": {},
     "output_type": "execute_result"
    },
    {
     "data": {
      "image/png": "[encoded data removed]",
      "text/plain": [
       "<Figure size 432x288 with 1 Axes>"
      ]
     },
     "metadata": {
      "needs_background": "light"
     },
     "output_type": "display_data"
    }
   ],
   "source": [
    "from pylab import *\n",
    "%matplotlib inline\n",
    "\n",
    "plot(lngE)"
   ]
  },
  {
   "cell_type": "markdown",
   "metadata": {},
   "source": [
    "The thermodynamics can be calculated in the following way:\n",
    "\n",
    "\\begin{eqnarray}\n",
    "Z &=& \\sum_E g[E] e^{-E/T}\\\\\n",
    "<E^n> &=& \\frac{1}{Z} \\sum_E g[E] E^n e^{-E/T}\\\\\n",
    "c_v &=& \\frac{<E^2>-<E>^2}{T^2}\\\\\n",
    "F &=& -T \\log(Z)\\\\   \n",
    "S &=& -\\frac{dF}{dT}=log(Z)+\\frac{<E>}{T}\n",
    "\\end{eqnarray}\n",
    "we introduce \n",
    "\\begin{equation}\n",
    "Z_0=g[0] e^{-E_0/T}  \n",
    "\\end{equation}    \n",
    "so that\n",
    "\\begin{eqnarray}    \n",
    "Z_w &\\equiv& \\frac{Z_E}{Z_0} = \\frac{g[E]}{g[0]} e^{-(E-E_0)/T}\\\\\n",
    "Z &=& Z_0 \\sum_E Z_w(E) \\\\\n",
    "<E^n> &=& \\frac{\\sum_E Z_w(E) E^n}{\\sum_E Z_w(E)}\\\\\n",
    "log(Z) &=& log(\\sum_E Z_w) +log(Z_0) =  log(\\sum_E Z_w)+log(g[0])-E_0/T \n",
    "\\end{eqnarray}    "
   ]
  },
  {
   "cell_type": "code",
   "execution_count": 39,
   "metadata": {},
   "outputs": [],
   "source": [
    "(Energies, indE, Emin) = PrepareEnergies(N)\n",
    "\n",
    "def Thermod(T, lngE, Energies, N):\n",
    "    Z = 0.\n",
    "    Ev = 0.  # <E>\n",
    "    E2v = 0. # <E^2>\n",
    "    # <E^n> = sum_E e^(-E/T)*g[E] E^n /Z\n",
    "    # Zw = Z/Z_0\n",
    "    # <E^n> = Z0/Z sum_E e^(-(E-Emin)/T) g[E]/g[0] E^N\n",
    "    for i,E in enumerate(Energies):\n",
    "        # Z += exp(log(g)) * exp(-E/T)\n",
    "        # Z/Z_0 = w where Z_0 = g[0] exp(-Energies[0]/T)\n",
    "        w = exp(lngE[i]-lngE[0]-(E-Energies[0])/T) # g(E)/g0 Exp(-(E-E0)/T)\n",
    "        Z += w\n",
    "        Ev += w*E\n",
    "        E2v += w*E**2\n",
    "    Ev *= 1./Z\n",
    "    E2v *= 1./Z\n",
    "    cv = (E2v-Ev**2)/T**2\n",
    "    # Z_correct = Z * exp(lngE[0]-Energies[0]/T)\n",
    "    # Entropy = log(Z_correct) + <E>/T = log(Z) + lngE[0]-Energies[0]/T + Ev/T\n",
    "    Entropy = log(Z)+lngE[0]+Ev/T-Energies[0]/T\n",
    "    return (Ev/(N**2), cv/(N**2), Entropy/(N**2))"
   ]
  },
  {
   "cell_type": "code",
   "execution_count": 41,
   "metadata": {},
   "outputs": [],
   "source": [
    "Te = linspace(0.5,4.,300)\n",
    "\n",
    "Thm=[]\n",
    "for T in Te:\n",
    "    Thm.append(Thermod(T, lngE, Energies, N))\n",
    "Thm = array(Thm)"
   ]
  },
  {
   "cell_type": "code",
   "execution_count": 42,
   "metadata": {},
   "outputs": [
    {
     "data": {
      "image/png": "[encoded data removed]",
      "text/plain": [
       "<Figure size 432x288 with 1 Axes>"
      ]
     },
     "metadata": {
      "needs_background": "light"
     },
     "output_type": "display_data"
    }
   ],
   "source": [
    "from pylab import *\n",
    "%matplotlib inline\n",
    "\n",
    "plot(Te, Thm[:,0], label='E(T)')\n",
    "plot(Te, Thm[:,1], label='cv(T)')\n",
    "plot(Te, Thm[:,2], label='Entropy(T)')\n",
    "xlabel('T')\n",
    "legend(loc='best')\n",
    "show()"
   ]
  },
  {
   "cell_type": "code",
   "execution_count": 31,
   "metadata": {},
   "outputs": [
    {
     "name": "stdout",
     "output_type": "stream",
     "text": [
      "Entropy(T=0.500)=0.000932 Entropy(T=4.000)=0.894 * log(2)\n"
     ]
    }
   ],
   "source": [
    "print('Entropy(T=%5.3f)=%8.6f Entropy(T=%5.3f)=%5.3f * log(2)' % (Te[0],Thm[0,2],Te[-1],Thm[-1,2]/log(2)))"
   ]
  },
  {
   "cell_type": "markdown",
   "metadata": {},
   "source": [
    "## Homework\n",
    "\n",
    "* Estimate the error of the density of states $log(g(E))==S(E)$ for 32x32 Ising model. \n",
    "\n",
    "To do that, you can use five independent runs of WL agorithm, which will produce $S_i(E)$ for i=1..5. \n",
    "In each WL run use $10^9$ Monte Carlo steps. From the series of $S_i(E)$ you can calculate \n",
    "\\begin{eqnarray}\n",
    "&& <S(E)> = \\frac{1}{n} \\sum_{i=1}^n S_i(E) \\\\\n",
    "&& \\sigma_E = \\sqrt{\\frac{<S^2(E)>-<S(E)>^2}{n}} = \\sqrt{\\frac{1}{n^2} \\sum_{i=1}^n (S_i(E)-<S(E)>)^2}\n",
    "\\end{eqnarray}\n",
    "\n",
    "Plot $S_i(E)-<S(E)>$ and $\\sigma_E$. \n",
    "\n",
    "* According to the publication \"Exact Distribution of Energies in the Two-Dimensional Ising Model\", PRL 76, 78 (1995), the first 10 values for the density of states in 32x32 Ising model is:\n",
    "$g_{Exact}=[2,2048,4096,1057792,4218880,371621888,2191790080,100903637504,768629792768,22748079183872]$\n",
    "\n",
    "Plot $<S(E)>$ and $log(g_{exact})$ for the first 10 coefficients, as well as their difference.\n",
    "\n",
    "Verify if your estimated $<S(E)>$ is approximately $\\sigma_E$ from exact result. To do that, plot $<S(E)>-S_{exact}$ and $\\sigma_E$ for the first 10 energies.\n",
    "\n",
    "* Calculate thermodynamics from your best estimation of $g(E)$."
   ]
  },
  {
   "cell_type": "code",
   "execution_count": null,
   "metadata": {},
   "outputs": [],
   "source": []
  }
 ],
 "metadata": {
  "kernelspec": {
   "display_name": "Python 3 (ipykernel)",
   "language": "python",
   "name": "python3"
  },
  "language_info": {
   "codemirror_mode": {
    "name": "ipython",
    "version": 3
   },
   "file_extension": ".py",
   "mimetype": "text/x-python",
   "name": "python",
   "nbconvert_exporter": "python",
   "pygments_lexer": "ipython3",
   "version": "3.8.5"
  }
 },
 "nbformat": 4,
 "nbformat_minor": 2
}
