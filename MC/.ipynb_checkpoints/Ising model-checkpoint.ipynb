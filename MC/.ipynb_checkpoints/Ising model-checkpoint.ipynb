{
 "cells": [
  {
   "cell_type": "markdown",
   "metadata": {},
   "source": [
    "# Ising Model\n",
    "\n",
    "\n",
    "Below we sketch algorithm for the two dimensional Ising model\n",
    "\\begin{equation}\n",
    "H = -\\frac{1}{2}\\sum_{ij} J_{ij} S_i S_j.\n",
    "\\end{equation}\n",
    "We will take $J_{ij}=1$ for the nearest neighbors and $0$\n",
    "otherwise. $S_i$ can take the values $\\pm 1$.\n",
    "\n",
    "On an $L\\times L$ lattice, we can choose\n",
    "$$\\omega_{XX'}=1/L^2 $$ if $X$ and $X'$ differ by one spin flip, and\n",
    "$\\omega_{XX'}=0$ otherwise.  This can be realized by selecting a spin\n",
    "at random and try to flip it.\n",
    "\n",
    "The energy diference $\\Delta E = E(X')-E(X)$ in this case is cheap to\n",
    "calculate because it depends only on the nearest neighbour bonds. If\n",
    "$\\Delta E <0$ the trial state is accepted and if $\\Delta E>0$, the\n",
    "trial step is accepted with probability $\\exp(-\\beta \\Delta E)$. \n",
    "\n",
    "\n",
    "Keep in mind\n",
    "- One can keep track of total energy and total magnetization at\n",
    "  every step. The total energy and magnetization needs to be computed\n",
    "  from the scratch only at the beginning. After that they can be\n",
    "  updated (add difference due to spin flip).\n",
    "- the quantity $\\exp(-\\beta\\Delta E)$ takes only 5 different values\n",
    "  at fixed temperature. It is advisable to store those five numbers\n",
    "  and not recompute them at every step.\n",
    "- Simulation can be started with random configuration\n",
    "  corresponding to infinite temperature. The temperature can be slowly\n",
    "  decreased through transition which is around $\\beta J\\approx 0.44$.\n",
    "\n"
   ]
  },
  {
   "cell_type": "markdown",
   "metadata": {},
   "source": [
    "### Algorithm\n",
    "\n",
    "- Choose temperature $T$ and precompute the exponents $[\\exp(-8J/T),\\exp(-4J/T),1,\\exp(4J/T),\\exp(8J/T)]$.\n",
    "\n",
    "- Generate a random configuration $X_0$ (this is equivalent to infinite temperature).\n",
    "\n",
    "- Compute the energy and magnetization of the configuration $X_0$.\n",
    "  \n",
    "- Iterate the following steps many times\n",
    "  \n",
    "   - Select randomly a spin and compute the Weiss-field felt by\n",
    "     that spin, i.e., $W_i = \\sum_{j\\; neighbor\\; i} J_{ij} S_j$.\n",
    "     The energy cost to flip the spin is $\\Delta E = 2 S_i W_i$. Use\n",
    "     the precomputed exponents to evaluate acceptance probability\n",
    "     $P = min(1,\\exp(-\\Delta E/T))$.\n",
    "   - Accept the trial step with probability $P$. If accepted,\n",
    "     update spin lattice configuration, update the current energy ($E = E\n",
    "     + \\Delta E$), and the current magnetization $M = M - 2 S_i$.\n",
    "   - Ones the Markow chain equilibrates, meassure the total\n",
    "     energy and magnetization (also $E^2$, and $M^2$) every few Monte Carlo\n",
    "     steps. {\\textit{\\textbf{Be carefull:} Do not meassure only the\n",
    "         accepted steps. Every step counts. Meassure outside the\n",
    "         acceptance loop. }}\n",
    "  \n",
    "- Print the following quantities:\n",
    "    - $\\langle E\\rangle$, $\\langle M\\rangle$\n",
    "    - $c_V = (\\langle E^2\\rangle -\\langle E\\rangle^2)/T^2$\n",
    "    - $\\chi = (\\langle M^2\\rangle -\\langle M\\rangle^2)/T$\n",
    "\n",
    "\n",
    "The relation for specific heat can be derived from the following\n",
    "identity\n",
    "\\begin{equation}\n",
    "C_v = \\frac{\\partial \\langle E\\rangle}{\\partial T} =\n",
    "\\frac{\\partial}{\\partial T}\\left( \\frac{\\textrm{Tr}(e^{-E/T}E)}{\\textrm{Tr}(e^{-E/T})} \\right)\n",
    "\\end{equation}\n",
    "and similar equation exists for $\\chi$.\n",
    "\n",
    "<img src=\"scan0002.jpg\">\n",
    "<img src=\"scan0003.jpg\">\n",
    "<img src=\"scan0004.jpg\">\n",
    "<img src=\"scan0005.jpg\">\n",
    "<img src=\"scan0006.jpg\">\n",
    "\n"
   ]
  },
  {
   "cell_type": "markdown",
   "metadata": {},
   "source": [
    "# Simulation of the Ising model"
   ]
  },
  {
   "cell_type": "code",
   "execution_count": 12,
   "metadata": {},
   "outputs": [],
   "source": [
    "from numba import jit\n",
    "from numpy import *\n",
    "from numpy import random\n",
    "\n",
    "N = 20 # size of the Ising system N x N\n",
    "\n",
    "@jit(nopython=True)\n",
    "def CEnergy(latt):\n",
    "    \"Energy of a 2D Ising lattice at particular configuration\"\n",
    "    Ene = 0\n",
    "    N = len(latt)\n",
    "    for i in range(N):\n",
    "        for j in range(N):\n",
    "            S = latt[i,j]\n",
    "            #      right                 above             left                below\n",
    "            WF = latt[(i+1)%N, j] + latt[i,(j+1)%N] + latt[(i-1)%N,j] + latt[i,(j-1)%N]\n",
    "            Ene += -WF*S # Each neighbor gives energy -J==-1\n",
    "    return Ene/2. # Each pair counted twice\n",
    "\n",
    "\n",
    "def RandomL(N):\n",
    "    \"Radom lattice, corresponding to infinite temerature\"\n",
    "    #random.randint\n",
    "    return array(sign(2*random.random((N,N))-1),dtype=int)\n",
    "\n",
    "def Exponents(T):\n",
    "    PW = zeros(9, dtype=float)\n",
    "    # Precomputed exponents : PW[4+x]=exp(-x*2/T)\n",
    "    PW[4+4] = exp(-4.*2/T)\n",
    "    PW[4+2] = exp(-2.*2/T)\n",
    "    PW[4+0] = 1.0\n",
    "    PW[4-2] = exp( 2.*2/T)\n",
    "    PW[4-4] = exp( 4.*2/T)\n",
    "    return PW"
   ]
  },
  {
   "cell_type": "code",
   "execution_count": 15,
   "metadata": {},
   "outputs": [
    {
     "name": "stdout",
     "output_type": "stream",
     "text": [
      "[[ 1 -1 -1 -1 -1 -1  1  1  1  1  1 -1  1 -1  1 -1  1  1  1  1]\n",
      " [ 1 -1  1  1  1  1 -1  1  1  1 -1 -1 -1 -1  1 -1  1 -1  1  1]\n",
      " [-1  1  1 -1  1 -1 -1  1 -1  1 -1 -1 -1  1 -1  1 -1  1 -1  1]\n",
      " [-1 -1  1  1  1  1  1  1 -1 -1 -1  1 -1 -1 -1 -1 -1  1 -1 -1]\n",
      " [-1  1  1 -1  1  1 -1  1 -1  1 -1 -1 -1  1 -1  1  1  1  1 -1]\n",
      " [ 1  1  1 -1 -1  1  1 -1  1 -1  1  1  1 -1  1 -1 -1  1  1  1]\n",
      " [-1 -1  1 -1 -1 -1 -1  1  1  1  1  1 -1  1  1 -1  1  1 -1 -1]\n",
      " [-1 -1 -1  1 -1  1 -1 -1  1  1  1  1 -1 -1 -1  1 -1 -1 -1  1]\n",
      " [-1 -1 -1 -1  1  1 -1 -1 -1 -1 -1  1  1  1  1 -1 -1  1 -1  1]\n",
      " [-1 -1  1  1 -1  1 -1 -1  1 -1  1 -1 -1  1  1 -1  1 -1  1 -1]\n",
      " [ 1 -1  1  1 -1  1 -1  1  1 -1  1  1 -1 -1 -1  1 -1 -1 -1 -1]\n",
      " [ 1 -1 -1 -1  1 -1  1 -1  1  1  1  1 -1 -1 -1  1  1 -1 -1 -1]\n",
      " [ 1 -1  1  1  1 -1  1 -1  1 -1  1  1  1  1  1 -1  1 -1 -1  1]\n",
      " [ 1 -1  1 -1 -1 -1 -1 -1  1  1  1 -1 -1 -1  1  1 -1 -1  1  1]\n",
      " [-1 -1  1 -1  1 -1  1 -1  1  1 -1 -1 -1  1  1 -1 -1  1  1 -1]\n",
      " [ 1 -1 -1  1  1  1  1 -1 -1 -1  1  1 -1  1 -1 -1 -1  1 -1  1]\n",
      " [ 1  1  1 -1 -1 -1  1 -1 -1 -1  1  1  1  1 -1  1  1  1  1  1]\n",
      " [-1  1  1 -1  1  1  1 -1  1  1  1  1 -1  1 -1  1  1 -1  1 -1]\n",
      " [ 1  1 -1  1  1  1  1  1 -1  1  1  1  1 -1 -1  1 -1  1  1  1]\n",
      " [ 1 -1  1  1 -1  1  1 -1 -1  1  1 -1  1  1 -1  1 -1 -1 -1  1]]\n",
      "Energy= -8.0\n",
      "Exponents= [3.39803455e+01 0.00000000e+00 5.82926629e+00 0.00000000e+00\n",
      " 1.00000000e+00 0.00000000e+00 1.71548176e-01 0.00000000e+00\n",
      " 2.94287767e-02]\n"
     ]
    }
   ],
   "source": [
    "latt = RandomL(N)\n",
    "print(latt)\n",
    "print('Energy=', CEnergy(latt))\n",
    "T=2.269\n",
    "PW = Exponents(T)\n",
    "\n",
    "print('Exponents=', PW)"
   ]
  },
  {
   "cell_type": "code",
   "execution_count": 16,
   "metadata": {},
   "outputs": [],
   "source": [
    "@jit(nopython=True)\n",
    "def SamplePython(Nitt, latt, PW, warm, measure):\n",
    "    \"Monte Carlo sampling for the Ising model in Pythons\"\n",
    "    Ene = CEnergy(latt)    # Starting energy\n",
    "    Mn  = sum(latt)         # Starting magnetization\n",
    "    N   = len(latt)\n",
    "    n_accept = 0  # how often we accept\n",
    "    N1=0          # Measurements\n",
    "    E1,M1,E2,M2=0.0,0.0,0.0,0.0\n",
    "    \n",
    "    N2 = N*N\n",
    "    for itt in range(Nitt):\n",
    "        t1,t2 = random.rand(2)  # one random number for random spin, the other for accepting the step with probability.\n",
    "        t = int(t1*N2)\n",
    "        (i,j) = (t % N, int(t/N))\n",
    "        S = latt[i,j]\n",
    "        WF = latt[(i+1)%N, j] + latt[i,(j+1)%N] + latt[(i-1)%N,j] + latt[i,(j-1)%N]\n",
    "        # new configuration -S, old configuration S => magnetization change -2*S\n",
    "        # energy change = (-J)*WF*(-S) - (-J)*WF*(S) = 2*J*WF*S\n",
    "        # We will prepare : PW[4+x]=exp(-x*2/T)\n",
    "        # P = exp(-2*WF*S/T) = exp(-(WF*S)*2/T) == PW[4+WF*S],\n",
    "        # because PW[4+x]=exp(-x*2/T)\n",
    "        P = PW[4+S*WF] # exp(-dE/T)\n",
    "        if P>t2: #random.rand(): # flip the spin\n",
    "            latt[i,j] = -S\n",
    "            Ene += 2*S*WF\n",
    "            Mn -= 2*S\n",
    "            n_accept += 1\n",
    "            \n",
    "        if itt>warm and itt%measure==0:\n",
    "            N1 += 1\n",
    "            E1 += Ene\n",
    "            M1 += Mn\n",
    "            E2 += Ene*Ene\n",
    "            M2 += Mn*Mn\n",
    "       \n",
    "    E,M, E2a, M2a = E1/N1, M1/N1, E2/N1, M2/N1    # <E>, <M>\n",
    "    cv = (E2a-E**2)/T**2   #   cv =(<E^2>-<E>^2)/T^2\n",
    "    chi = (M2a-M**2)/T     #   chi=(<M^2>-<M>^2)/T\n",
    "    return (M/N2, E/N2, cv/N2, chi/N2, n_accept/Nitt)"
   ]
  },
  {
   "cell_type": "code",
   "execution_count": 18,
   "metadata": {},
   "outputs": [
    {
     "name": "stdout",
     "output_type": "stream",
     "text": [
      "<M>= 0.0008137585279641207 <E>= -0.0036002430488528193 cv= 1.6069034702218936 chi= 70.65938686079888 p_accept= 0.1902246\n"
     ]
    }
   ],
   "source": [
    "from numpy import random\n",
    "\n",
    "Nitt = 5000000  # total number of Monte Carlo steps\n",
    "warm = 1000      # Number of warmup steps\n",
    "measure=5        # How often to take a measurement\n",
    "\n",
    "\n",
    "(M, E, cv, chi, p_accept) = SamplePython(Nitt, latt, PW, warm, measure)\n",
    "print('<M>=', M/(N*N), '<E>=', E/(N*N) , 'cv=', cv, 'chi=',chi, 'p_accept=', p_accept)"
   ]
  },
  {
   "cell_type": "code",
   "execution_count": 27,
   "metadata": {},
   "outputs": [
    {
     "name": "stdout",
     "output_type": "stream",
     "text": [
      "T= 3.5000 M=-0.0018 E=-0.6596 cv= 0.5910 chi= 2.7307 p_accept= 0.5481\n",
      "T= 3.3966 M= 0.0025 E=-0.6864 cv= 0.5970 chi= 2.9004 p_accept= 0.5323\n",
      "T= 3.2931 M= 0.0070 E=-0.7172 cv= 0.6254 chi= 3.3216 p_accept= 0.5152\n",
      "T= 3.1897 M= 0.0074 E=-0.7508 cv= 0.6493 chi= 3.8418 p_accept= 0.4966\n",
      "T= 3.0862 M=-0.0015 E=-0.7855 cv= 0.6732 chi= 4.3061 p_accept= 0.4781\n",
      "T= 2.9828 M=-0.0073 E=-0.8224 cv= 0.6893 chi= 5.4311 p_accept= 0.4580\n",
      "T= 2.8793 M=-0.0034 E=-0.8692 cv= 0.7298 chi= 6.8063 p_accept= 0.4341\n",
      "T= 2.7759 M=-0.0174 E=-0.9269 cv= 0.8122 chi= 8.4824 p_accept= 0.4066\n",
      "T= 2.6724 M=-0.0333 E=-0.9819 cv= 0.8767 chi=11.4143 p_accept= 0.3791\n",
      "T= 2.5690 M= 0.0659 E=-1.0650 cv= 1.0584 chi=19.0296 p_accept= 0.3420\n",
      "T= 2.4655 M= 0.1172 E=-1.1532 cv= 1.2916 chi=28.2185 p_accept= 0.3032\n",
      "T= 2.3621 M=-0.1289 E=-1.2784 cv= 1.6454 chi=50.3603 p_accept= 0.2524\n",
      "T= 2.2586 M= 0.1942 E=-1.4665 cv= 1.5967 chi=89.8242 p_accept= 0.1803\n",
      "T= 2.1552 M= 0.8302 E=-1.6086 cv= 1.0273 chi= 2.4898 p_accept= 0.1278\n",
      "T= 2.0517 M= 0.8836 E=-1.6972 cv= 0.7395 chi= 0.9042 p_accept= 0.0960\n",
      "T= 1.9483 M= 0.9278 E=-1.7829 cv= 0.4728 chi= 0.2107 p_accept= 0.0664\n",
      "T= 1.8448 M= 0.9490 E=-1.8378 cv= 0.3305 chi= 0.1187 p_accept= 0.0482\n",
      "T= 1.7414 M= 0.9652 E=-1.8836 cv= 0.2252 chi= 0.0640 p_accept= 0.0337\n",
      "T= 1.6379 M= 0.9766 E=-1.9189 cv= 0.1504 chi= 0.0402 p_accept= 0.0230\n",
      "T= 1.5345 M= 0.9842 E=-1.9436 cv= 0.1034 chi= 0.0227 p_accept= 0.0155\n",
      "T= 1.4310 M= 0.9901 E=-1.9634 cv= 0.0624 chi= 0.0122 p_accept= 0.0098\n",
      "T= 1.3276 M= 0.9941 E=-1.9779 cv= 0.0364 chi= 0.0064 p_accept= 0.0059\n",
      "T= 1.2241 M= 0.9966 E=-1.9869 cv= 0.0217 chi= 0.0036 p_accept= 0.0034\n",
      "T= 1.1207 M= 0.9982 E=-1.9931 cv= 0.0113 chi= 0.0018 p_accept= 0.0018\n",
      "T= 1.0172 M= 0.9992 E=-1.9968 cv= 0.0052 chi= 0.0008 p_accept= 0.0008\n",
      "T= 0.9138 M= 0.9997 E=-1.9987 cv= 0.0021 chi= 0.0003 p_accept= 0.0003\n",
      "T= 0.8103 M= 0.9999 E=-1.9996 cv= 0.0006 chi= 0.0001 p_accept= 0.0001\n",
      "T= 0.7069 M= 1.0000 E=-1.9999 cv= 0.0001 chi= 0.0000 p_accept= 0.0000\n",
      "T= 0.6034 M= 1.0000 E=-2.0000 cv= 0.0000 chi= 0.0000 p_accept= 0.0000\n",
      "T= 0.5000 M= 1.0000 E=-2.0000 cv= 0.0000 chi= 0.0000 p_accept= 0.0000\n"
     ]
    }
   ],
   "source": [
    "from numpy import random\n",
    "wT = linspace(3.5,0.5,30)\n",
    "wMag=[]\n",
    "wEne=[]\n",
    "wCv=[]\n",
    "wChi=[]\n",
    "N=20\n",
    "latt = RandomL(N)\n",
    "Nitt = 5000000   # total number of Monte Carlo steps at each temperature\n",
    "warm = 1000      # Number of warmup steps\n",
    "measure=5        # How often to take a measurement\n",
    "\n",
    "for T in wT:\n",
    "    # Precomputed exponents : PW[4+x]=exp(-x*2/T)\n",
    "    PW = Exponents(T)\n",
    "    (M, E, cv, chi, p_accept) = SamplePython(Nitt, latt, PW, warm, measure)\n",
    "    wMag.append( M )\n",
    "    wEne.append( E )\n",
    "    wCv.append(  cv )\n",
    "    wChi.append( chi )\n",
    "    print('T=%7.4f M=%7.4f E=%7.4f cv=%7.4f chi=%7.4f p_accept=%7.4f' % (T,M,E,cv,chi,p_accept))"
   ]
  },
  {
   "cell_type": "code",
   "execution_count": 28,
   "metadata": {},
   "outputs": [
    {
     "data": {
      "image/png": "[encoded data removed]",
      "text/plain": [
       "<Figure size 432x288 with 1 Axes>"
      ]
     },
     "metadata": {
      "needs_background": "light"
     },
     "output_type": "display_data"
    },
    {
     "data": {
      "image/png": "[encoded data removed]",
      "text/plain": [
       "<Figure size 432x288 with 1 Axes>"
      ]
     },
     "metadata": {
      "needs_background": "light"
     },
     "output_type": "display_data"
    }
   ],
   "source": [
    "from pylab import *\n",
    "%matplotlib inline\n",
    "\n",
    "plot(wT, wEne, label='E(T)')\n",
    "plot(wT, wCv, label='cv(T)')\n",
    "plot(wT, wMag, label='M(T)')\n",
    "xlabel('T')\n",
    "legend(loc='best')\n",
    "show()\n",
    "plot(wT, wChi, label='chi(T)')\n",
    "xlabel('T')\n",
    "legend(loc='best')\n",
    "show() "
   ]
  },
  {
   "cell_type": "code",
   "execution_count": null,
   "metadata": {},
   "outputs": [],
   "source": []
  }
 ],
 "metadata": {
  "kernelspec": {
   "display_name": "Python 3 (ipykernel)",
   "language": "python",
   "name": "python3"
  },
  "language_info": {
   "codemirror_mode": {
    "name": "ipython",
    "version": 3
   },
   "file_extension": ".py",
   "mimetype": "text/x-python",
   "name": "python",
   "nbconvert_exporter": "python",
   "pygments_lexer": "ipython3",
   "version": "3.8.5"
  }
 },
 "nbformat": 4,
 "nbformat_minor": 2
}
