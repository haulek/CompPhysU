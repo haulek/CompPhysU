{
 "cells": [
  {
   "cell_type": "markdown",
   "metadata": {},
   "source": [
    "# Numpy - multidimensional data arrays\n",
    "\n",
    "Based on lectures from http://github.com/jrjohansson/scientific-python-lectures\n"
   ]
  },
  {
   "cell_type": "markdown",
   "metadata": {},
   "source": [
    "The `numpy` package (module) is used in almost all numerical computation using Python. It is a package that provide high-performance vector, matrix and higher-dimensional data structures for Python. It is implemented in C and Fortran so when calculations are vectorized (formulated with vectors and matrices), performance is very good."
   ]
  },
  {
   "cell_type": "code",
   "execution_count": 1,
   "metadata": {},
   "outputs": [],
   "source": [
    "from numpy import *"
   ]
  },
  {
   "cell_type": "markdown",
   "metadata": {},
   "source": [
    "## Creating `numpy` arrays"
   ]
  },
  {
   "cell_type": "markdown",
   "metadata": {},
   "source": [
    "There are a number of ways to initialize new numpy arrays, for example from\n",
    "\n",
    "* a Python list or tuples\n",
    "* using functions that are dedicated to generating numpy arrays, such as `arange`, `linspace`, `zeros`, `ones`, etc.\n",
    "* reading data from files"
   ]
  },
  {
   "cell_type": "code",
   "execution_count": 2,
   "metadata": {},
   "outputs": [
    {
     "data": {
      "text/plain": [
       "((2, 2), 4, dtype('int64'))"
      ]
     },
     "execution_count": 2,
     "metadata": {},
     "output_type": "execute_result"
    }
   ],
   "source": [
    "M = array([[1,2],[3,4]])  # from list\n",
    "M.shape, M.size, M.dtype"
   ]
  },
  {
   "cell_type": "code",
   "execution_count": 3,
   "metadata": {},
   "outputs": [
    {
     "data": {
      "text/plain": [
       "array([[1.+0.j, 2.+0.j],\n",
       "       [3.+0.j, 5.+0.j]])"
      ]
     },
     "execution_count": 3,
     "metadata": {},
     "output_type": "execute_result"
    }
   ],
   "source": [
    "array(((1,2),(3,5.0+0j)))"
   ]
  },
  {
   "cell_type": "code",
   "execution_count": 4,
   "metadata": {},
   "outputs": [
    {
     "name": "stdout",
     "output_type": "stream",
     "text": [
      "[[1.+0.j 2.+0.j]\n",
      " [3.+0.j 4.+0.j]]\n"
     ]
    },
    {
     "data": {
      "text/plain": [
       "((2, 2), 4, dtype('complex128'))"
      ]
     },
     "execution_count": 4,
     "metadata": {},
     "output_type": "execute_result"
    }
   ],
   "source": [
    "M = array([[1,2],[3,4]], dtype=complex)  # from list\n",
    "print(M)\n",
    "M.shape, M.size, M.dtype"
   ]
  },
  {
   "cell_type": "code",
   "execution_count": 5,
   "metadata": {},
   "outputs": [
    {
     "data": {
      "text/plain": [
       "array([1. , 1.1, 1.2, 1.3, 1.4, 1.5, 1.6, 1.7, 1.8, 1.9, 2. , 2.1, 2.2,\n",
       "       2.3, 2.4, 2.5, 2.6, 2.7, 2.8, 2.9, 3. , 3.1, 3.2, 3.3, 3.4, 3.5,\n",
       "       3.6, 3.7, 3.8, 3.9, 4. , 4.1, 4.2, 4.3, 4.4, 4.5, 4.6, 4.7, 4.8,\n",
       "       4.9, 5. , 5.1, 5.2, 5.3, 5.4, 5.5, 5.6, 5.7, 5.8, 5.9, 6. , 6.1,\n",
       "       6.2, 6.3, 6.4, 6.5, 6.6, 6.7, 6.8, 6.9, 7. , 7.1, 7.2, 7.3, 7.4,\n",
       "       7.5, 7.6, 7.7, 7.8, 7.9, 8. , 8.1, 8.2, 8.3, 8.4, 8.5, 8.6, 8.7,\n",
       "       8.8, 8.9, 9. , 9.1, 9.2, 9.3, 9.4, 9.5, 9.6, 9.7, 9.8, 9.9])"
      ]
     },
     "execution_count": 5,
     "metadata": {},
     "output_type": "execute_result"
    }
   ],
   "source": [
    "arange(1,10,0.1)"
   ]
  },
  {
   "cell_type": "code",
   "execution_count": 6,
   "metadata": {},
   "outputs": [
    {
     "data": {
      "text/plain": [
       "array([1. , 1.1, 1.2, 1.3, 1.4, 1.5, 1.6, 1.7, 1.8, 1.9, 2. , 2.1, 2.2,\n",
       "       2.3, 2.4, 2.5, 2.6, 2.7, 2.8, 2.9, 3. , 3.1, 3.2, 3.3, 3.4, 3.5,\n",
       "       3.6, 3.7, 3.8, 3.9, 4. , 4.1, 4.2, 4.3, 4.4, 4.5, 4.6, 4.7, 4.8,\n",
       "       4.9, 5. , 5.1, 5.2, 5.3, 5.4, 5.5, 5.6, 5.7, 5.8, 5.9, 6. , 6.1,\n",
       "       6.2, 6.3, 6.4, 6.5, 6.6, 6.7, 6.8, 6.9, 7. , 7.1, 7.2, 7.3, 7.4,\n",
       "       7.5, 7.6, 7.7, 7.8, 7.9, 8. , 8.1, 8.2, 8.3, 8.4, 8.5, 8.6, 8.7,\n",
       "       8.8, 8.9, 9. , 9.1, 9.2, 9.3, 9.4, 9.5, 9.6, 9.7, 9.8, 9.9])"
      ]
     },
     "execution_count": 6,
     "metadata": {},
     "output_type": "execute_result"
    }
   ],
   "source": [
    "array(range(10,100,1))/10."
   ]
  },
  {
   "cell_type": "code",
   "execution_count": 7,
   "metadata": {},
   "outputs": [
    {
     "data": {
      "text/plain": [
       "array([ 1. ,  1.1,  1.2,  1.3,  1.4,  1.5,  1.6,  1.7,  1.8,  1.9,  2. ,\n",
       "        2.1,  2.2,  2.3,  2.4,  2.5,  2.6,  2.7,  2.8,  2.9,  3. ,  3.1,\n",
       "        3.2,  3.3,  3.4,  3.5,  3.6,  3.7,  3.8,  3.9,  4. ,  4.1,  4.2,\n",
       "        4.3,  4.4,  4.5,  4.6,  4.7,  4.8,  4.9,  5. ,  5.1,  5.2,  5.3,\n",
       "        5.4,  5.5,  5.6,  5.7,  5.8,  5.9,  6. ,  6.1,  6.2,  6.3,  6.4,\n",
       "        6.5,  6.6,  6.7,  6.8,  6.9,  7. ,  7.1,  7.2,  7.3,  7.4,  7.5,\n",
       "        7.6,  7.7,  7.8,  7.9,  8. ,  8.1,  8.2,  8.3,  8.4,  8.5,  8.6,\n",
       "        8.7,  8.8,  8.9,  9. ,  9.1,  9.2,  9.3,  9.4,  9.5,  9.6,  9.7,\n",
       "        9.8,  9.9, 10. ])"
      ]
     },
     "execution_count": 7,
     "metadata": {},
     "output_type": "execute_result"
    }
   ],
   "source": [
    "linspace(1,10,91)"
   ]
  },
  {
   "cell_type": "code",
   "execution_count": 8,
   "metadata": {},
   "outputs": [
    {
     "data": {
      "text/plain": [
       "array([1.00000000e-03, 1.83298071e-03, 3.35981829e-03, 6.15848211e-03,\n",
       "       1.12883789e-02, 2.06913808e-02, 3.79269019e-02, 6.95192796e-02,\n",
       "       1.27427499e-01, 2.33572147e-01, 4.28133240e-01, 7.84759970e-01,\n",
       "       1.43844989e+00, 2.63665090e+00, 4.83293024e+00, 8.85866790e+00,\n",
       "       1.62377674e+01, 2.97635144e+01, 5.45559478e+01, 1.00000000e+02])"
      ]
     },
     "execution_count": 8,
     "metadata": {},
     "output_type": "execute_result"
    }
   ],
   "source": [
    "logspace(-3,2,20)"
   ]
  },
  {
   "cell_type": "code",
   "execution_count": 9,
   "metadata": {},
   "outputs": [
    {
     "name": "stdout",
     "output_type": "stream",
     "text": [
      "[0.  0.5 1.  1.5 2.  2.5 3.  3.5 4.  4.5 5.  5.5 6.  6.5 7.  7.5 8.  8.5\n",
      " 9.  9.5]\n",
      "[ 0.   0.5  1.   1.5  2.   2.5  3.   3.5  4.   4.5  5.   5.5  6.   6.5\n",
      "  7.   7.5  8.   8.5  9.   9.5 10. ]\n",
      "[1.00000000e-03 3.59381366e-03 1.29154967e-02 4.64158883e-02\n",
      " 1.66810054e-01 5.99484250e-01 2.15443469e+00 7.74263683e+00\n",
      " 2.78255940e+01 1.00000000e+02]\n"
     ]
    }
   ],
   "source": [
    "x = arange(0,10,0.5)  # linear mesh start:stop:increment\n",
    "print(x)\n",
    "y = linspace(0,10,21) # linear mesh start,stop,number of points\n",
    "print(y)\n",
    "z = logspace(-3,2,10) # log mesh, 10^start, 10^stop, number of points\n",
    "print(z)"
   ]
  },
  {
   "cell_type": "code",
   "execution_count": 10,
   "metadata": {},
   "outputs": [
    {
     "data": {
      "text/plain": [
       "((3, 3, 2), 18, dtype('complex128'))"
      ]
     },
     "execution_count": 10,
     "metadata": {},
     "output_type": "execute_result"
    }
   ],
   "source": [
    "Z=zeros((3,3,2),dtype=complex)\n",
    "\n",
    "Z.shape, Z.size, Z.dtype"
   ]
  },
  {
   "cell_type": "code",
   "execution_count": 11,
   "metadata": {},
   "outputs": [
    {
     "data": {
      "text/plain": [
       "((3, 3), 9, dtype('complex128'))"
      ]
     },
     "execution_count": 11,
     "metadata": {},
     "output_type": "execute_result"
    }
   ],
   "source": [
    "Z=ones((3,3),dtype=float)*1j\n",
    "\n",
    "Z.shape, Z.size, Z.dtype"
   ]
  },
  {
   "cell_type": "code",
   "execution_count": 12,
   "metadata": {},
   "outputs": [
    {
     "data": {
      "text/plain": [
       "((3, 3), 9, dtype('complex128'))"
      ]
     },
     "execution_count": 12,
     "metadata": {},
     "output_type": "execute_result"
    }
   ],
   "source": [
    "Z=ones((3,3))\n",
    "# Z *= 1j   # issues an error, but would not work\n",
    "Z = Z*1j\n",
    "Z.shape, Z.size, Z.dtype"
   ]
  },
  {
   "cell_type": "markdown",
   "metadata": {},
   "source": [
    "### Random number generators"
   ]
  },
  {
   "cell_type": "code",
   "execution_count": 13,
   "metadata": {},
   "outputs": [
    {
     "name": "stdout",
     "output_type": "stream",
     "text": [
      "0.17129319280423427\n",
      "[[0.68136812 0.48474291 0.19586362 0.05304944 0.13935424]\n",
      " [0.61944048 0.73399677 0.5378894  0.63996137 0.18797896]\n",
      " [0.30404113 0.98573661 0.46519993 0.86791191 0.85096155]\n",
      " [0.16435511 0.31602604 0.96019131 0.06160088 0.21851716]\n",
      " [0.02242947 0.50900989 0.79989502 0.42830787 0.23565606]]\n",
      "[[ 0.50124616 -0.18421149 -0.94434126 -0.09408017 -0.76212889]\n",
      " [-1.25422183 -0.48305494  1.91924483 -0.72006581 -1.12775672]\n",
      " [-0.83642159  0.12483796 -0.06792395 -0.87661959 -1.00020029]\n",
      " [-1.69659347  1.58098831  0.24925687 -1.34600216 -0.09466769]\n",
      " [-0.90416851  0.41066708 -0.77173271 -0.22797163  0.96824553]]\n"
     ]
    }
   ],
   "source": [
    "from numpy import random\n",
    "\n",
    "print( random.rand() )  # uniformly distributed random number between [0,1]\n",
    "\n",
    "print( random.rand(5,5) ) # uniform distributed (5x5) matrix\n",
    "\n",
    "\n",
    "print( random.randn(5,5) ) # standard normal distribution random matrix"
   ]
  },
  {
   "cell_type": "markdown",
   "metadata": {},
   "source": [
    "## File I/O\n",
    "\n",
    "Very common form is comma-separated values (CSV) or tab-separated values (TSV). To read data from such files into Numpy arrays we can use the `numpy.loadtxt` or `numpy.genfromtxt`\n",
    "\n",
    "File `stockholm_td_adj.dat.txt` contains Stockholm temperature over the years. The columns are [$year$,$month$,$day$,$T_{average}$,$T_{min}$,$T_{max}$]"
   ]
  },
  {
   "cell_type": "code",
   "execution_count": 14,
   "metadata": {},
   "outputs": [
    {
     "name": "stdout",
     "output_type": "stream",
     "text": [
      "2011 12 22    -0.4    -1.0    -1.0 1\r\n",
      "2011 12 23     3.7     3.1     3.1 1\r\n",
      "2011 12 24     3.2     2.6     2.6 1\r\n",
      "2011 12 25     4.2     3.5     3.5 1\r\n",
      "2011 12 26     8.2     7.5     7.5 1\r\n",
      "2011 12 27     8.3     7.6     7.6 1\r\n",
      "2011 12 28     2.6     1.9     1.9 1\r\n",
      "2011 12 29     4.9     4.2     4.2 1\r\n",
      "2011 12 30     0.6    -0.1    -0.1 1\r\n",
      "2011 12 31    -2.6    -3.3    -3.3 1\r\n"
     ]
    }
   ],
   "source": [
    "## Check if file exists\n",
    "!tail stockholm_td_adj.dat.txt"
   ]
  },
  {
   "cell_type": "code",
   "execution_count": 15,
   "metadata": {},
   "outputs": [
    {
     "data": {
      "text/plain": [
       "(77431, 7)"
      ]
     },
     "execution_count": 15,
     "metadata": {},
     "output_type": "execute_result"
    }
   ],
   "source": [
    "data = loadtxt('stockholm_td_adj.dat.txt')\n",
    "data.shape"
   ]
  },
  {
   "cell_type": "code",
   "execution_count": 16,
   "metadata": {},
   "outputs": [],
   "source": [
    "# inline figures from matplotlib\n",
    "%matplotlib inline\n",
    "import matplotlib.pyplot as plt"
   ]
  },
  {
   "cell_type": "code",
   "execution_count": 17,
   "metadata": {},
   "outputs": [],
   "source": [
    "import pylab as plt"
   ]
  },
  {
   "cell_type": "code",
   "execution_count": 18,
   "metadata": {},
   "outputs": [],
   "source": [
    "# time in years when we have year/month/day\n",
    "t = data[:,0]+data[:,1]/12.+data[:,2]/365"
   ]
  },
  {
   "cell_type": "code",
   "execution_count": 19,
   "metadata": {},
   "outputs": [
    {
     "data": {
      "text/plain": [
       "array([1800.08607306, 1800.08881279, 1800.09155251, 1800.09429224,\n",
       "       1800.09703196, 1800.09977169, 1800.10251142, 1800.10525114,\n",
       "       1800.10799087, 1800.11073059])"
      ]
     },
     "execution_count": 19,
     "metadata": {},
     "output_type": "execute_result"
    }
   ],
   "source": [
    "t[:10]"
   ]
  },
  {
   "cell_type": "code",
   "execution_count": 20,
   "metadata": {},
   "outputs": [
    {
     "data": {
      "text/plain": [
       "[<matplotlib.lines.Line2D at 0x7fe0a8dde4f0>]"
      ]
     },
     "execution_count": 20,
     "metadata": {},
     "output_type": "execute_result"
    },
    {
     "data": {
      "image/png": "[encoded data removed]",
      "text/plain": [
       "<Figure size 640x480 with 1 Axes>"
      ]
     },
     "metadata": {},
     "output_type": "display_data"
    }
   ],
   "source": [
    "plt.plot(t, data[:,3])"
   ]
  },
  {
   "cell_type": "code",
   "execution_count": 21,
   "metadata": {},
   "outputs": [
    {
     "data": {
      "image/png": "[encoded data removed]",
      "text/plain": [
       "<Figure size 1400x400 with 1 Axes>"
      ]
     },
     "metadata": {},
     "output_type": "display_data"
    }
   ],
   "source": [
    "# a bit more extended in x-direction\n",
    "plt.figure(figsize=(14,4))\n",
    "plt.plot(t, data[:,3])\n",
    "plt.title('temperature in Stockholm')\n",
    "plt.xlabel('year')\n",
    "plt.ylabel('temperature $[\\degree C]$');"
   ]
  },
  {
   "cell_type": "markdown",
   "metadata": {},
   "source": [
    "Lets save the data in the form [t,$T_{average}$]"
   ]
  },
  {
   "cell_type": "code",
   "execution_count": 22,
   "metadata": {},
   "outputs": [
    {
     "data": {
      "text/plain": [
       "array([[1, 2, 3],\n",
       "       [4, 5, 6]])"
      ]
     },
     "execution_count": 22,
     "metadata": {},
     "output_type": "execute_result"
    }
   ],
   "source": [
    "a=[1,2,3]\n",
    "b=[4,5,6]\n",
    "vstack((a,b))"
   ]
  },
  {
   "cell_type": "code",
   "execution_count": 23,
   "metadata": {
    "scrolled": true
   },
   "outputs": [
    {
     "data": {
      "text/plain": [
       "(77431, 2)"
      ]
     },
     "execution_count": 23,
     "metadata": {},
     "output_type": "execute_result"
    }
   ],
   "source": [
    "vstack((t,data[:,3])).T.shape"
   ]
  },
  {
   "cell_type": "code",
   "execution_count": 24,
   "metadata": {},
   "outputs": [
    {
     "data": {
      "text/plain": [
       "(77431, 7)"
      ]
     },
     "execution_count": 24,
     "metadata": {},
     "output_type": "execute_result"
    }
   ],
   "source": [
    "data.shape"
   ]
  },
  {
   "cell_type": "code",
   "execution_count": 25,
   "metadata": {},
   "outputs": [],
   "source": [
    "savetxt('StockholmT.dat', vstack((t,data[:,3])).T)"
   ]
  },
  {
   "cell_type": "code",
   "execution_count": 26,
   "metadata": {},
   "outputs": [
    {
     "name": "stdout",
     "output_type": "stream",
     "text": [
      "2.012060273972602772e+03 -4.000000000000000222e-01\r\n",
      "2.012063013698630130e+03 3.700000000000000178e+00\r\n",
      "2.012065753424657487e+03 3.200000000000000178e+00\r\n",
      "2.012068493150684844e+03 4.200000000000000178e+00\r\n",
      "2.012071232876712429e+03 8.199999999999999289e+00\r\n",
      "2.012073972602739786e+03 8.300000000000000711e+00\r\n",
      "2.012076712328767144e+03 2.600000000000000089e+00\r\n",
      "2.012079452054794501e+03 4.900000000000000355e+00\r\n",
      "2.012082191780821859e+03 5.999999999999999778e-01\r\n",
      "2.012084931506849216e+03 -2.600000000000000089e+00\r\n"
     ]
    }
   ],
   "source": [
    "!tail StockholmT.dat"
   ]
  },
  {
   "cell_type": "markdown",
   "metadata": {},
   "source": [
    "### More efficient binary storage of data to the disc"
   ]
  },
  {
   "cell_type": "code",
   "execution_count": 27,
   "metadata": {},
   "outputs": [
    {
     "name": "stdout",
     "output_type": "stream",
     "text": [
      "total 38048\r\n",
      "-rw-r--r--@ 1 haule  staff  1756407 Dec 18  2020 Scientific-Computing-with-Python.pdf\r\n",
      "-rw-r--r--@ 1 haule  staff   611082 Jan 20  2021 00_Introduction.html\r\n",
      "-rw-r--r--@ 1 haule  staff   615891 Jan 20  2021 01_Basic_Python.html\r\n",
      "-rw-r--r--@ 1 haule  staff   627779 Jan 20  2021 02_Numpy.html\r\n",
      "-rw-r--r--@ 1 haule  staff  1303621 Mar  4  2021 03_Scipy.html\r\n",
      "-rw-r--r--@ 1 haule  staff  1040661 Mar  4  2021 04_Scipy_example_Hydrogen_atom.html\r\n",
      "-rw-r--r--  1 haule  staff   210051 Jan  3 17:57 02_Numpy.ipynb\r\n",
      "-rw-r--r--  1 haule  staff   826208 Jan  3 17:57 03_Scipy.ipynb\r\n",
      "-rw-r--r--  1 haule  staff   533268 Jan  3 17:57 04_Scipy_example_Hydrogen_atom.ipynb\r\n",
      "-rw-r--r--@ 1 haule  staff   430767 Jan  3 17:57 double_pendulum.mp4\r\n",
      "-rw-r--r--  1 haule  staff     2038 Jan  3 17:57 pendulum.py\r\n",
      "-rw-r--r--  1 haule  staff  2864984 Jan  3 17:57 stockholm_td_adj.dat.txt\r\n",
      "-rw-r--r--  1 haule  staff      264 Jan  3 17:57 ttt.cc\r\n",
      "-rw-r--r--  1 haule  staff    24263 Jan  6 16:06 00_Introduction.ipynb\r\n",
      "-rw-r--r--  1 haule  staff      752 Jan  6 16:06 mymodule.py\r\n",
      "drwxr-xr-x  3 haule  staff       96 Jan  6 16:06 \u001b[1m\u001b[34m__pycache__\u001b[m\u001b[m\r\n",
      "-rw-r--r--  1 haule  staff    52785 Jan  6 16:07 01_Basic_Python.ipynb\r\n",
      "-rw-r--r--  1 haule  staff  3889864 Jan  6 16:07 StockholmT.dat\r\n",
      "-rw-r--r--  1 haule  staff  4336264 Jan  6 16:07 ST_data.npy\r\n"
     ]
    }
   ],
   "source": [
    "save('ST_data',data)\n",
    "!ls -ltr"
   ]
  },
  {
   "cell_type": "code",
   "execution_count": 28,
   "metadata": {},
   "outputs": [],
   "source": [
    "data2=load('ST_data.npy')"
   ]
  },
  {
   "cell_type": "code",
   "execution_count": 29,
   "metadata": {},
   "outputs": [
    {
     "data": {
      "text/plain": [
       "True"
      ]
     },
     "execution_count": 29,
     "metadata": {},
     "output_type": "execute_result"
    }
   ],
   "source": [
    "allclose(data,data2)  # how close are the two sets of data"
   ]
  },
  {
   "cell_type": "code",
   "execution_count": 30,
   "metadata": {},
   "outputs": [
    {
     "data": {
      "text/plain": [
       "0.0"
      ]
     },
     "execution_count": 30,
     "metadata": {},
     "output_type": "execute_result"
    }
   ],
   "source": [
    "max(abs(data-data2).ravel())"
   ]
  },
  {
   "cell_type": "code",
   "execution_count": 31,
   "metadata": {},
   "outputs": [
    {
     "data": {
      "text/plain": [
       "0.0"
      ]
     },
     "execution_count": 31,
     "metadata": {},
     "output_type": "execute_result"
    }
   ],
   "source": [
    "amax(abs(data-data2))"
   ]
  },
  {
   "cell_type": "markdown",
   "metadata": {},
   "source": [
    "## Manipulating data\n",
    "\n",
    "### Indexing and slicing\n",
    "\n",
    "data[lower:upper:step, lower:upper:step]"
   ]
  },
  {
   "cell_type": "code",
   "execution_count": 32,
   "metadata": {},
   "outputs": [
    {
     "name": "stdout",
     "output_type": "stream",
     "text": [
      "[1800. 1800. 1800. ... 2011. 2011. 2011.]\n"
     ]
    },
    {
     "data": {
      "text/plain": [
       "array([1800, 1801, 1802, 1803, 1804, 1804, 1805, 1806, 1807, 1808, 1809,\n",
       "       1810, 1811, 1812, 1813, 1814, 1815, 1816, 1817, 1818, 1819, 1820,\n",
       "       1821, 1822, 1823, 1824, 1825, 1826, 1827, 1828, 1829, 1830, 1831,\n",
       "       1832, 1833, 1834, 1835, 1836, 1837, 1838, 1839, 1840, 1841, 1842,\n",
       "       1843, 1844, 1845, 1846, 1847, 1848, 1849, 1850, 1851, 1852, 1853,\n",
       "       1854, 1855, 1856, 1857, 1858, 1859, 1860, 1861, 1862, 1863, 1864,\n",
       "       1865, 1866, 1867, 1868, 1869, 1870, 1871, 1872, 1873, 1874, 1875,\n",
       "       1876, 1877, 1878, 1879, 1880, 1881, 1882, 1883, 1884, 1885, 1886,\n",
       "       1887, 1888, 1889, 1890, 1891, 1892, 1893, 1894, 1895, 1896, 1897,\n",
       "       1898, 1899, 1900, 1901, 1902, 1903, 1904, 1905, 1906, 1907, 1908,\n",
       "       1909, 1910, 1911, 1912, 1913, 1914, 1915, 1916, 1917, 1918, 1919,\n",
       "       1920, 1921, 1922, 1923, 1924, 1925, 1926, 1927, 1928, 1929, 1930,\n",
       "       1931, 1932, 1933, 1934, 1935, 1936, 1937, 1938, 1939, 1940, 1941,\n",
       "       1942, 1943, 1944, 1945, 1946, 1947, 1948, 1949, 1950, 1951, 1952,\n",
       "       1953, 1954, 1955, 1956, 1957, 1958, 1959, 1960, 1961, 1962, 1963,\n",
       "       1964, 1965, 1966, 1967, 1968, 1969, 1970, 1971, 1972, 1973, 1974,\n",
       "       1975, 1976, 1977, 1978, 1979, 1980, 1981, 1982, 1983, 1984, 1985,\n",
       "       1986, 1987, 1988, 1989, 1990, 1991, 1992, 1993, 1994, 1995, 1996,\n",
       "       1997, 1998, 1999, 2000, 2001, 2002, 2003, 2004, 2005, 2006, 2007,\n",
       "       2008, 2009, 2010, 2011])"
      ]
     },
     "execution_count": 32,
     "metadata": {},
     "output_type": "execute_result"
    }
   ],
   "source": [
    "print(data[:,0])  # display year for all datapoints\n",
    "array(data[::365,0],dtype=int) # the years with 365 spacings, and then last years"
   ]
  },
  {
   "cell_type": "markdown",
   "metadata": {},
   "source": [
    "**Fancy indexing**\n",
    "Index is itself an array of integer numbers, i.e, which rows or columns?\n"
   ]
  },
  {
   "cell_type": "code",
   "execution_count": 33,
   "metadata": {},
   "outputs": [
    {
     "name": "stdout",
     "output_type": "stream",
     "text": [
      "[0 2 4 6 8]\n",
      "[0 2 4 6 8]\n"
     ]
    }
   ],
   "source": [
    "x=arange(100)\n",
    "print(x[:10:2])\n",
    "print(x[ [0,2,4,6,8] ])  # fancy indexing. Does not exists in C++"
   ]
  },
  {
   "cell_type": "code",
   "execution_count": 34,
   "metadata": {},
   "outputs": [
    {
     "data": {
      "text/plain": [
       "array([1800., 1801., 1802., 1803., 1804., 1805.])"
      ]
     },
     "execution_count": 34,
     "metadata": {},
     "output_type": "execute_result"
    }
   ],
   "source": [
    "data[[0,365,2*365,3*365,4*365,5*365+1],0] # fancy indexing for multidimensional array"
   ]
  },
  {
   "cell_type": "code",
   "execution_count": 35,
   "metadata": {},
   "outputs": [
    {
     "data": {
      "text/plain": [
       "array([1800., 1801., 1802., 1803., 1804., 1804., 1805., 1806., 1807.,\n",
       "       1808., 1809., 1810., 1811., 1812., 1813., 1814., 1815., 1816.,\n",
       "       1817., 1818.])"
      ]
     },
     "execution_count": 35,
     "metadata": {},
     "output_type": "execute_result"
    }
   ],
   "source": [
    "data[range(0,365*20,365),0]"
   ]
  },
  {
   "cell_type": "code",
   "execution_count": 36,
   "metadata": {},
   "outputs": [
    {
     "data": {
      "text/plain": [
       "array([1800., 1801., 1802., 1803., 1804., 1805., 1806., 1807., 1808.,\n",
       "       1809.])"
      ]
     },
     "execution_count": 36,
     "metadata": {},
     "output_type": "execute_result"
    }
   ],
   "source": [
    "data[range(3,3+365*10,365),0]"
   ]
  },
  {
   "cell_type": "markdown",
   "metadata": {},
   "source": [
    "**Using mask to pick data***\n",
    "\n",
    "In addition to fancy indexing, Python allows yet another way to pick the data.\n",
    "Create a mask of `[True,....False....]` values, and pick from the array only columns/rows where `True`. \n",
    "\n",
    "How to compute average temperature in the year of 1973?"
   ]
  },
  {
   "cell_type": "code",
   "execution_count": 37,
   "metadata": {},
   "outputs": [
    {
     "data": {
      "text/plain": [
       "array([ True,  True,  True, ..., False, False, False])"
      ]
     },
     "execution_count": 37,
     "metadata": {},
     "output_type": "execute_result"
    }
   ],
   "source": [
    "data[:,0] >= 1973\n",
    "data[:,0] < 1974"
   ]
  },
  {
   "cell_type": "code",
   "execution_count": 38,
   "metadata": {},
   "outputs": [],
   "source": [
    "# Create mask for the year 1973\n",
    "mask = logical_and(data[:,0] >= 1973, data[:,0] < 1974)"
   ]
  },
  {
   "cell_type": "code",
   "execution_count": 39,
   "metadata": {},
   "outputs": [
    {
     "data": {
      "text/plain": [
       "array([False, False, False, ..., False, False, False])"
      ]
     },
     "execution_count": 39,
     "metadata": {},
     "output_type": "execute_result"
    }
   ],
   "source": [
    "mask"
   ]
  },
  {
   "cell_type": "code",
   "execution_count": 40,
   "metadata": {},
   "outputs": [
    {
     "data": {
      "text/plain": [
       "array([1973., 1973., 1973., 1973., 1973., 1973., 1973., 1973., 1973.,\n",
       "       1973., 1973., 1973., 1973., 1973., 1973., 1973., 1973., 1973.,\n",
       "       1973., 1973., 1973., 1973., 1973., 1973., 1973., 1973., 1973.,\n",
       "       1973., 1973., 1973., 1973., 1973., 1973., 1973., 1973., 1973.,\n",
       "       1973., 1973., 1973., 1973., 1973., 1973., 1973., 1973., 1973.,\n",
       "       1973., 1973., 1973., 1973., 1973., 1973., 1973., 1973., 1973.,\n",
       "       1973., 1973., 1973., 1973., 1973., 1973., 1973., 1973., 1973.,\n",
       "       1973., 1973., 1973., 1973., 1973., 1973., 1973., 1973., 1973.,\n",
       "       1973., 1973., 1973., 1973., 1973., 1973., 1973., 1973., 1973.,\n",
       "       1973., 1973., 1973., 1973., 1973., 1973., 1973., 1973., 1973.,\n",
       "       1973., 1973., 1973., 1973., 1973., 1973., 1973., 1973., 1973.,\n",
       "       1973., 1973., 1973., 1973., 1973., 1973., 1973., 1973., 1973.,\n",
       "       1973., 1973., 1973., 1973., 1973., 1973., 1973., 1973., 1973.,\n",
       "       1973., 1973., 1973., 1973., 1973., 1973., 1973., 1973., 1973.,\n",
       "       1973., 1973., 1973., 1973., 1973., 1973., 1973., 1973., 1973.,\n",
       "       1973., 1973., 1973., 1973., 1973., 1973., 1973., 1973., 1973.,\n",
       "       1973., 1973., 1973., 1973., 1973., 1973., 1973., 1973., 1973.,\n",
       "       1973., 1973., 1973., 1973., 1973., 1973., 1973., 1973., 1973.,\n",
       "       1973., 1973., 1973., 1973., 1973., 1973., 1973., 1973., 1973.,\n",
       "       1973., 1973., 1973., 1973., 1973., 1973., 1973., 1973., 1973.,\n",
       "       1973., 1973., 1973., 1973., 1973., 1973., 1973., 1973., 1973.,\n",
       "       1973., 1973., 1973., 1973., 1973., 1973., 1973., 1973., 1973.,\n",
       "       1973., 1973., 1973., 1973., 1973., 1973., 1973., 1973., 1973.,\n",
       "       1973., 1973., 1973., 1973., 1973., 1973., 1973., 1973., 1973.,\n",
       "       1973., 1973., 1973., 1973., 1973., 1973., 1973., 1973., 1973.,\n",
       "       1973., 1973., 1973., 1973., 1973., 1973., 1973., 1973., 1973.,\n",
       "       1973., 1973., 1973., 1973., 1973., 1973., 1973., 1973., 1973.,\n",
       "       1973., 1973., 1973., 1973., 1973., 1973., 1973., 1973., 1973.,\n",
       "       1973., 1973., 1973., 1973., 1973., 1973., 1973., 1973., 1973.,\n",
       "       1973., 1973., 1973., 1973., 1973., 1973., 1973., 1973., 1973.,\n",
       "       1973., 1973., 1973., 1973., 1973., 1973., 1973., 1973., 1973.,\n",
       "       1973., 1973., 1973., 1973., 1973., 1973., 1973., 1973., 1973.,\n",
       "       1973., 1973., 1973., 1973., 1973., 1973., 1973., 1973., 1973.,\n",
       "       1973., 1973., 1973., 1973., 1973., 1973., 1973., 1973., 1973.,\n",
       "       1973., 1973., 1973., 1973., 1973., 1973., 1973., 1973., 1973.,\n",
       "       1973., 1973., 1973., 1973., 1973., 1973., 1973., 1973., 1973.,\n",
       "       1973., 1973., 1973., 1973., 1973., 1973., 1973., 1973., 1973.,\n",
       "       1973., 1973., 1973., 1973., 1973., 1973., 1973., 1973., 1973.,\n",
       "       1973., 1973., 1973., 1973., 1973., 1973., 1973., 1973., 1973.,\n",
       "       1973., 1973., 1973., 1973., 1973., 1973., 1973., 1973., 1973.,\n",
       "       1973., 1973., 1973., 1973., 1973.])"
      ]
     },
     "execution_count": 40,
     "metadata": {},
     "output_type": "execute_result"
    }
   ],
   "source": [
    "data[mask,0]  # All should have 1973"
   ]
  },
  {
   "cell_type": "code",
   "execution_count": 41,
   "metadata": {},
   "outputs": [
    {
     "name": "stdout",
     "output_type": "stream",
     "text": [
      "Average temperature in 1973= 7.414794520547944\n"
     ]
    }
   ],
   "source": [
    "T1973 = data[mask,3]\n",
    "print('Average temperature in 1973=', sum(T1973)/len(T1973))"
   ]
  },
  {
   "cell_type": "code",
   "execution_count": 42,
   "metadata": {},
   "outputs": [
    {
     "data": {
      "text/plain": [
       "(array([63187, 63188, 63189, 63190, 63191, 63192, 63193, 63194, 63195,\n",
       "        63196, 63197, 63198, 63199, 63200, 63201, 63202, 63203, 63204,\n",
       "        63205, 63206, 63207, 63208, 63209, 63210, 63211, 63212, 63213,\n",
       "        63214, 63215, 63216, 63217, 63218, 63219, 63220, 63221, 63222,\n",
       "        63223, 63224, 63225, 63226, 63227, 63228, 63229, 63230, 63231,\n",
       "        63232, 63233, 63234, 63235, 63236, 63237, 63238, 63239, 63240,\n",
       "        63241, 63242, 63243, 63244, 63245, 63246, 63247, 63248, 63249,\n",
       "        63250, 63251, 63252, 63253, 63254, 63255, 63256, 63257, 63258,\n",
       "        63259, 63260, 63261, 63262, 63263, 63264, 63265, 63266, 63267,\n",
       "        63268, 63269, 63270, 63271, 63272, 63273, 63274, 63275, 63276,\n",
       "        63277, 63278, 63279, 63280, 63281, 63282, 63283, 63284, 63285,\n",
       "        63286, 63287, 63288, 63289, 63290, 63291, 63292, 63293, 63294,\n",
       "        63295, 63296, 63297, 63298, 63299, 63300, 63301, 63302, 63303,\n",
       "        63304, 63305, 63306, 63307, 63308, 63309, 63310, 63311, 63312,\n",
       "        63313, 63314, 63315, 63316, 63317, 63318, 63319, 63320, 63321,\n",
       "        63322, 63323, 63324, 63325, 63326, 63327, 63328, 63329, 63330,\n",
       "        63331, 63332, 63333, 63334, 63335, 63336, 63337, 63338, 63339,\n",
       "        63340, 63341, 63342, 63343, 63344, 63345, 63346, 63347, 63348,\n",
       "        63349, 63350, 63351, 63352, 63353, 63354, 63355, 63356, 63357,\n",
       "        63358, 63359, 63360, 63361, 63362, 63363, 63364, 63365, 63366,\n",
       "        63367, 63368, 63369, 63370, 63371, 63372, 63373, 63374, 63375,\n",
       "        63376, 63377, 63378, 63379, 63380, 63381, 63382, 63383, 63384,\n",
       "        63385, 63386, 63387, 63388, 63389, 63390, 63391, 63392, 63393,\n",
       "        63394, 63395, 63396, 63397, 63398, 63399, 63400, 63401, 63402,\n",
       "        63403, 63404, 63405, 63406, 63407, 63408, 63409, 63410, 63411,\n",
       "        63412, 63413, 63414, 63415, 63416, 63417, 63418, 63419, 63420,\n",
       "        63421, 63422, 63423, 63424, 63425, 63426, 63427, 63428, 63429,\n",
       "        63430, 63431, 63432, 63433, 63434, 63435, 63436, 63437, 63438,\n",
       "        63439, 63440, 63441, 63442, 63443, 63444, 63445, 63446, 63447,\n",
       "        63448, 63449, 63450, 63451, 63452, 63453, 63454, 63455, 63456,\n",
       "        63457, 63458, 63459, 63460, 63461, 63462, 63463, 63464, 63465,\n",
       "        63466, 63467, 63468, 63469, 63470, 63471, 63472, 63473, 63474,\n",
       "        63475, 63476, 63477, 63478, 63479, 63480, 63481, 63482, 63483,\n",
       "        63484, 63485, 63486, 63487, 63488, 63489, 63490, 63491, 63492,\n",
       "        63493, 63494, 63495, 63496, 63497, 63498, 63499, 63500, 63501,\n",
       "        63502, 63503, 63504, 63505, 63506, 63507, 63508, 63509, 63510,\n",
       "        63511, 63512, 63513, 63514, 63515, 63516, 63517, 63518, 63519,\n",
       "        63520, 63521, 63522, 63523, 63524, 63525, 63526, 63527, 63528,\n",
       "        63529, 63530, 63531, 63532, 63533, 63534, 63535, 63536, 63537,\n",
       "        63538, 63539, 63540, 63541, 63542, 63543, 63544, 63545, 63546,\n",
       "        63547, 63548, 63549, 63550, 63551]),)"
      ]
     },
     "execution_count": 42,
     "metadata": {},
     "output_type": "execute_result"
    }
   ],
   "source": [
    "where(mask)"
   ]
  },
  {
   "cell_type": "code",
   "execution_count": 43,
   "metadata": {},
   "outputs": [],
   "source": [
    "# where tells you the index where True\n",
    "indices = where(mask)\n",
    "X1973 = data[indices,3]; # This gives similar data in 1973, but not identical"
   ]
  },
  {
   "cell_type": "code",
   "execution_count": 44,
   "metadata": {},
   "outputs": [
    {
     "name": "stdout",
     "output_type": "stream",
     "text": [
      "(365,) (1, 365) (365,)\n",
      "Average temperature in 1973= 7.414794520547944\n",
      "Min/Max temperature in 1973= -12.8 / 25.6\n"
     ]
    }
   ],
   "source": [
    "print(T1973.shape, X1973.shape, X1973[0].shape)\n",
    "print('Average temperature in 1973=', sum(X1973[0,:])/len(X1973[0,:]))\n",
    "print('Min/Max temperature in 1973=', min(X1973[0,:]),'/',max(X1973[0,:]))"
   ]
  },
  {
   "cell_type": "markdown",
   "metadata": {},
   "source": [
    "**What is the mean monthly temperatures for each month of the year?**"
   ]
  },
  {
   "cell_type": "markdown",
   "metadata": {},
   "source": [
    "Let's do Ferbrurary first"
   ]
  },
  {
   "cell_type": "code",
   "execution_count": 45,
   "metadata": {},
   "outputs": [
    {
     "data": {
      "text/plain": [
       "-3.212109570736596"
      ]
     },
     "execution_count": 45,
     "metadata": {},
     "output_type": "execute_result"
    }
   ],
   "source": [
    "Febr=data[:,1]==2\n",
    "mean(data[Febr,3])"
   ]
  },
  {
   "cell_type": "markdown",
   "metadata": {},
   "source": [
    "Now loop for all months"
   ]
  },
  {
   "cell_type": "code",
   "execution_count": 46,
   "metadata": {},
   "outputs": [],
   "source": [
    "monthly_mean=[mean(data[data[:,1]==month,3]) for month in range(1,13)]"
   ]
  },
  {
   "cell_type": "code",
   "execution_count": 47,
   "metadata": {},
   "outputs": [
    {
     "name": "stdout",
     "output_type": "stream",
     "text": [
      "[-3.0447656725502132, -3.212109570736596, -0.8321515520389532, 3.888474842767295, 9.560970785149117, 14.659591194968554, 17.318837492391967, 16.117650639074864, 11.81937106918239, 6.760057821059039, 1.9458490566037738, -1.211275106512477]\n"
     ]
    }
   ],
   "source": [
    "print(monthly_mean)"
   ]
  },
  {
   "cell_type": "code",
   "execution_count": 48,
   "metadata": {},
   "outputs": [
    {
     "data": {
      "text/plain": [
       "Text(0, 0.5, 'average temperature')"
      ]
     },
     "execution_count": 48,
     "metadata": {},
     "output_type": "execute_result"
    },
    {
     "data": {
      "image/png": "[encoded data removed]",
      "text/plain": [
       "<Figure size 640x480 with 1 Axes>"
      ]
     },
     "metadata": {},
     "output_type": "display_data"
    }
   ],
   "source": [
    "plt.bar(range(1,13),monthly_mean);\n",
    "plt.xlabel('month')\n",
    "plt.ylabel('average temperature')"
   ]
  },
  {
   "cell_type": "markdown",
   "metadata": {},
   "source": [
    "## Linear Algebra\n",
    "\n",
    "It is implemented in low level fortran/C code, and is much more efficient than code written in Python."
   ]
  },
  {
   "cell_type": "code",
   "execution_count": 49,
   "metadata": {},
   "outputs": [
    {
     "name": "stdout",
     "output_type": "stream",
     "text": [
      "[[0.22276154 0.0009548  0.61689552]\n",
      " [0.62565466 0.0665923  0.19328271]\n",
      " [0.70376555 0.60291592 0.16846522]]\n",
      "\n",
      "[[0.22276154 0.0009548  0.61689552]\n",
      " [0.62565466 0.0665923  0.19328271]\n",
      " [0.70376555 0.60291592 0.16846522]]\n",
      "\n",
      "[[0.90610321 0.63242347 0.70666229]\n",
      " [0.94625905 0.43240315 0.91515852]\n",
      " [1.35444983 0.54499666 1.16873531]]\n",
      "\n",
      "[[0.90610321 0.63242347 0.70666229]\n",
      " [0.94625905 0.43240315 0.91515852]\n",
      " [1.35444983 0.54499666 1.16873531]]\n"
     ]
    }
   ],
   "source": [
    "A = random.rand(3,3)\n",
    "\n",
    "\n",
    "print(A * A)  # It is not matrix-matrix product, but element-wise product\n",
    "print()\n",
    "print(multiply(A,A))\n",
    "print()\n",
    "print(A @ A)  # It is a matrix product\n",
    "print()\n",
    "print(matmul(A,A))"
   ]
  },
  {
   "cell_type": "markdown",
   "metadata": {},
   "source": [
    "Matrix product or matrix-vector product can be performed by `dot` command"
   ]
  },
  {
   "cell_type": "code",
   "execution_count": 50,
   "metadata": {},
   "outputs": [
    {
     "name": "stdout",
     "output_type": "stream",
     "text": [
      "[[0.90610321 0.63242347 0.70666229]\n",
      " [0.94625905 0.43240315 0.91515852]\n",
      " [1.35444983 0.54499666 1.16873531]]\n",
      "[[0.90610321 0.63242347 0.70666229]\n",
      " [0.94625905 0.43240315 0.91515852]\n",
      " [1.35444983 0.54499666 1.16873531]]\n"
     ]
    }
   ],
   "source": [
    "print(dot(A,A))\n",
    "print(matmul(A,A))\n",
    "# dot == A[i,j,:] * B[l,:,n] "
   ]
  },
  {
   "cell_type": "code",
   "execution_count": 51,
   "metadata": {},
   "outputs": [
    {
     "name": "stdout",
     "output_type": "stream",
     "text": [
      "[0.81999594 0.24776367 0.00199407]\n",
      "[0.39624061 0.71341642 0.88110177]\n",
      "0.7337841462337032\n"
     ]
    }
   ],
   "source": [
    "v1 = random.rand(3)\n",
    "print(v1)\n",
    "print( dot(A,v1) ) # matrix.vector product\n",
    "print( dot(v1,v1) ) # length of vector^2"
   ]
  },
  {
   "cell_type": "code",
   "execution_count": 52,
   "metadata": {},
   "outputs": [
    {
     "name": "stdout",
     "output_type": "stream",
     "text": [
      "[0.39624061 0.71341642 0.88110177]\n",
      "[0.39624061 0.71341642 0.88110177]\n"
     ]
    }
   ],
   "source": [
    "print(A@v1)\n",
    "print(dot(A,v1))"
   ]
  },
  {
   "cell_type": "code",
   "execution_count": 53,
   "metadata": {},
   "outputs": [
    {
     "data": {
      "text/plain": [
       "array([0.39624061, 0.71341642, 0.88110177])"
      ]
     },
     "execution_count": 53,
     "metadata": {},
     "output_type": "execute_result"
    }
   ],
   "source": [
    "w=A*v1\n",
    "sum(w,axis=1)"
   ]
  },
  {
   "cell_type": "markdown",
   "metadata": {},
   "source": [
    "Slightly less efficient, but nicer code can be obtained by `matrix` clas"
   ]
  },
  {
   "cell_type": "code",
   "execution_count": 54,
   "metadata": {},
   "outputs": [],
   "source": [
    "M = matrix(A)\n",
    "v = matrix(v1).T # create a column vector"
   ]
  },
  {
   "cell_type": "code",
   "execution_count": 55,
   "metadata": {},
   "outputs": [
    {
     "data": {
      "text/plain": [
       "matrix([[0.90610321, 0.63242347, 0.70666229],\n",
       "        [0.94625905, 0.43240315, 0.91515852],\n",
       "        [1.35444983, 0.54499666, 1.16873531]])"
      ]
     },
     "execution_count": 55,
     "metadata": {},
     "output_type": "execute_result"
    }
   ],
   "source": [
    "M*M  # this is now matrix-matrix product"
   ]
  },
  {
   "cell_type": "code",
   "execution_count": 56,
   "metadata": {},
   "outputs": [
    {
     "data": {
      "text/plain": [
       "matrix([[0.4719762 , 0.79098335, 0.83890735],\n",
       "        [0.03089979, 0.25805484, 0.7764766 ],\n",
       "        [0.78542697, 0.4396393 , 0.41044515]])"
      ]
     },
     "execution_count": 56,
     "metadata": {},
     "output_type": "execute_result"
    }
   ],
   "source": [
    "M.T"
   ]
  },
  {
   "cell_type": "code",
   "execution_count": 57,
   "metadata": {},
   "outputs": [
    {
     "data": {
      "text/plain": [
       "matrix([[0.39624061],\n",
       "        [0.71341642],\n",
       "        [0.88110177]])"
      ]
     },
     "execution_count": 57,
     "metadata": {},
     "output_type": "execute_result"
    }
   ],
   "source": [
    "M*v # this is matrix*vector product"
   ]
  },
  {
   "cell_type": "code",
   "execution_count": 58,
   "metadata": {},
   "outputs": [
    {
     "data": {
      "text/plain": [
       "matrix([[0.58466834, 0.09082266, 0.75379202]])"
      ]
     },
     "execution_count": 58,
     "metadata": {},
     "output_type": "execute_result"
    }
   ],
   "source": [
    "v.T * M # vector*matrix product"
   ]
  },
  {
   "cell_type": "code",
   "execution_count": 59,
   "metadata": {},
   "outputs": [
    {
     "data": {
      "text/plain": [
       "matrix([[0.73378415]])"
      ]
     },
     "execution_count": 59,
     "metadata": {},
     "output_type": "execute_result"
    }
   ],
   "source": [
    "v.T * v # inner-product"
   ]
  },
  {
   "cell_type": "markdown",
   "metadata": {},
   "source": [
    "**Array/Matrix transformations**\n",
    "\n",
    "* `.T` or  `transpose(M)` transposes matrix\n",
    "* `.H` hermitian conjugate\n",
    "* `conjugate(M)` conjugates\n",
    "* `real(M)` and `imag(M)` takes real and imaginary part of the matrix"
   ]
  },
  {
   "cell_type": "code",
   "execution_count": 60,
   "metadata": {},
   "outputs": [
    {
     "data": {
      "text/plain": [
       "array([[0.4719762 , 0.79098335, 0.83890735],\n",
       "       [0.03089979, 0.25805484, 0.7764766 ],\n",
       "       [0.78542697, 0.4396393 , 0.41044515]])"
      ]
     },
     "execution_count": 60,
     "metadata": {},
     "output_type": "execute_result"
    }
   ],
   "source": [
    "conjugate(A.T)"
   ]
  },
  {
   "cell_type": "markdown",
   "metadata": {},
   "source": [
    "### More advanced linear algebra operations\n",
    "\n",
    "Library `linalg`:\n",
    "\n",
    "* `linalg.det(A)`\n",
    "* `linalg.inv(A)` or just `M.I`\n",
    "* `linalg.eig`, `linalg.eigvals`, `linalg.eigh`\n",
    "* `linalg.svd()`\n",
    "* `linalg.solve()`\n",
    "* `linalg.cholesky()`"
   ]
  },
  {
   "cell_type": "code",
   "execution_count": 61,
   "metadata": {},
   "outputs": [],
   "source": [
    "from numpy import linalg"
   ]
  },
  {
   "cell_type": "code",
   "execution_count": 62,
   "metadata": {},
   "outputs": [
    {
     "name": "stdout",
     "output_type": "stream",
     "text": [
      "0.20259783890966102\n"
     ]
    },
    {
     "data": {
      "text/plain": [
       "array([[-1.16216576,  2.94762767, -0.93336865],\n",
       "       [ 0.21797549, -2.29607639,  2.04227434],\n",
       "       [ 1.96298224, -1.68094794,  0.48053093]])"
      ]
     },
     "execution_count": 62,
     "metadata": {},
     "output_type": "execute_result"
    }
   ],
   "source": [
    "print( linalg.det(A) )\n",
    "linalg.inv(A)"
   ]
  },
  {
   "cell_type": "code",
   "execution_count": 63,
   "metadata": {},
   "outputs": [
    {
     "data": {
      "text/plain": [
       "matrix([[-1.16216576,  2.94762767, -0.93336865],\n",
       "        [ 0.21797549, -2.29607639,  2.04227434],\n",
       "        [ 1.96298224, -1.68094794,  0.48053093]])"
      ]
     },
     "execution_count": 63,
     "metadata": {},
     "output_type": "execute_result"
    }
   ],
   "source": [
    "M.I"
   ]
  },
  {
   "cell_type": "markdown",
   "metadata": {},
   "source": [
    "The eigenvalue problem for a matrix $A$:\n",
    "\n",
    "$\\displaystyle A v_n = \\lambda_n v_n$\n",
    "\n",
    "where $v_n$ is the $n$th eigenvector and $\\lambda_n$ is the $n$th eigenvalue.\n",
    "\n",
    "To calculate eigenvalues of a matrix, use the `eigvals` (symmetric/hermitian `eigvalsh`) and for calculating both eigenvalues and eigenvectors, use the function `eig` (or `eigh`):"
   ]
  },
  {
   "cell_type": "code",
   "execution_count": 64,
   "metadata": {},
   "outputs": [
    {
     "data": {
      "text/plain": [
       "array([ 1.59750194+0.j        , -0.22851287+0.27313645j,\n",
       "       -0.22851287-0.27313645j])"
      ]
     },
     "execution_count": 64,
     "metadata": {},
     "output_type": "execute_result"
    }
   ],
   "source": [
    "linalg.eigvals(A)"
   ]
  },
  {
   "cell_type": "code",
   "execution_count": 65,
   "metadata": {},
   "outputs": [
    {
     "data": {
      "text/plain": [
       "array([-0.45257226, -0.39695136,  1.98999982])"
      ]
     },
     "execution_count": 65,
     "metadata": {},
     "output_type": "execute_result"
    }
   ],
   "source": [
    "linalg.eigvalsh(A)"
   ]
  },
  {
   "cell_type": "code",
   "execution_count": 66,
   "metadata": {},
   "outputs": [
    {
     "name": "stdout",
     "output_type": "stream",
     "text": [
      "[-0.33333333  0.66666667  0.        ]\n"
     ]
    },
    {
     "data": {
      "text/plain": [
       "array([ 0.00000000e+00, -2.22044605e-16,  0.00000000e+00])"
      ]
     },
     "execution_count": 66,
     "metadata": {},
     "output_type": "execute_result"
    }
   ],
   "source": [
    "A = array([[1,2,3], [4,5,6], [7,8,9]])\n",
    "b = array([1,2,3])\n",
    "x = linalg.solve(A,b) # A*x==b\n",
    "print(x)\n",
    "dot(A,x)-b"
   ]
  },
  {
   "cell_type": "markdown",
   "metadata": {},
   "source": [
    "### sum, cumsum, trace, diag"
   ]
  },
  {
   "cell_type": "code",
   "execution_count": 67,
   "metadata": {},
   "outputs": [
    {
     "data": {
      "text/plain": [
       "array([0.81999594, 0.24776367, 0.00199407])"
      ]
     },
     "execution_count": 67,
     "metadata": {},
     "output_type": "execute_result"
    }
   ],
   "source": [
    "v1"
   ]
  },
  {
   "cell_type": "code",
   "execution_count": 68,
   "metadata": {},
   "outputs": [
    {
     "name": "stdout",
     "output_type": "stream",
     "text": [
      "1.06975367109378\n",
      "[0.81999594 1.0677596  1.06975367]\n",
      "15\n",
      "[1 5 9]\n",
      "15\n"
     ]
    }
   ],
   "source": [
    "print( sum(v1) )\n",
    "print( cumsum(v1) )\n",
    "print( trace(A) )\n",
    "print( diag(A) )\n",
    "print( sum(diag(A)) )"
   ]
  },
  {
   "cell_type": "markdown",
   "metadata": {},
   "source": [
    "## Reshaping, resizing, and stacking arrays"
   ]
  },
  {
   "cell_type": "code",
   "execution_count": 69,
   "metadata": {},
   "outputs": [
    {
     "name": "stdout",
     "output_type": "stream",
     "text": [
      "(3, 3)\n",
      "(9, 1)\n"
     ]
    }
   ],
   "source": [
    "print(A.shape)\n",
    "Ag = reshape(A, (9,1))  # this is not new data\n",
    "print(Ag.shape)"
   ]
  },
  {
   "cell_type": "code",
   "execution_count": 70,
   "metadata": {},
   "outputs": [
    {
     "data": {
      "text/plain": [
       "array([[10,  2,  3],\n",
       "       [ 4,  5,  6],\n",
       "       [ 7,  8,  9]])"
      ]
     },
     "execution_count": 70,
     "metadata": {},
     "output_type": "execute_result"
    }
   ],
   "source": [
    "Ag[0]=10\n",
    "A        # we change A when we change Ag"
   ]
  },
  {
   "cell_type": "code",
   "execution_count": 71,
   "metadata": {},
   "outputs": [
    {
     "name": "stdout",
     "output_type": "stream",
     "text": [
      "[[10  2  3]\n",
      " [ 4  5  6]\n",
      " [ 7  8  9]]\n"
     ]
    }
   ],
   "source": [
    "Ax = A.flatten()  # flatten creates 1D array of all data, but creates a copy\n",
    "Ax[8]=100         # changing a copy\n",
    "print(A)"
   ]
  },
  {
   "cell_type": "code",
   "execution_count": 72,
   "metadata": {},
   "outputs": [
    {
     "name": "stdout",
     "output_type": "stream",
     "text": [
      "[[ 10   2   3]\n",
      " [  4   5   6]\n",
      " [  7   8 100]]\n"
     ]
    }
   ],
   "source": [
    "Ay=A.ravel()\n",
    "Ay[8]=100\n",
    "print(A)"
   ]
  },
  {
   "cell_type": "markdown",
   "metadata": {},
   "source": [
    "## Vectorizing functions"
   ]
  },
  {
   "cell_type": "markdown",
   "metadata": {},
   "source": [
    "Every function written in Python is very slow. However numpy type operations are fast, because they are written in fortran/C"
   ]
  },
  {
   "cell_type": "code",
   "execution_count": 73,
   "metadata": {},
   "outputs": [
    {
     "data": {
      "text/plain": [
       "array([ 37.21, 237.16, 225.  , ...,  24.01,   0.36,   6.76])"
      ]
     },
     "execution_count": 73,
     "metadata": {},
     "output_type": "execute_result"
    }
   ],
   "source": [
    "Temp = data[:,3]\n",
    "\n",
    "Temp**2  #  this is fast, written in C"
   ]
  },
  {
   "cell_type": "code",
   "execution_count": 74,
   "metadata": {},
   "outputs": [
    {
     "data": {
      "text/plain": [
       "array([ 37.21, 237.16, 225.  , ...,  24.01,   0.36,   6.76])"
      ]
     },
     "execution_count": 74,
     "metadata": {},
     "output_type": "execute_result"
    }
   ],
   "source": [
    "array([Temp[i]**2 for i in range(len(Temp))])  # This is slow, written in Python"
   ]
  },
  {
   "cell_type": "markdown",
   "metadata": {},
   "source": [
    "What if we have a function that can not simply work on arrays?\n",
    "\n",
    "For example, theta function?"
   ]
  },
  {
   "cell_type": "code",
   "execution_count": 75,
   "metadata": {},
   "outputs": [],
   "source": [
    "def Theta(x):\n",
    "    if x>=0:\n",
    "        return 1\n",
    "    else:\n",
    "        return 0"
   ]
  },
  {
   "cell_type": "code",
   "execution_count": 76,
   "metadata": {},
   "outputs": [
    {
     "ename": "ValueError",
     "evalue": "The truth value of an array with more than one element is ambiguous. Use a.any() or a.all()",
     "output_type": "error",
     "traceback": [
      "\u001b[0;31m---------------------------------------------------------------------------\u001b[0m",
      "\u001b[0;31mValueError\u001b[0m                                Traceback (most recent call last)",
      "Cell \u001b[0;32mIn[76], line 2\u001b[0m\n\u001b[1;32m      1\u001b[0m \u001b[38;5;66;03m# Does not work on array\u001b[39;00m\n\u001b[0;32m----> 2\u001b[0m \u001b[43mTheta\u001b[49m\u001b[43m(\u001b[49m\u001b[43mTemp\u001b[49m\u001b[43m)\u001b[49m\n",
      "Cell \u001b[0;32mIn[75], line 2\u001b[0m, in \u001b[0;36mTheta\u001b[0;34m(x)\u001b[0m\n\u001b[1;32m      1\u001b[0m \u001b[38;5;28;01mdef\u001b[39;00m \u001b[38;5;21mTheta\u001b[39m(x):\n\u001b[0;32m----> 2\u001b[0m     \u001b[38;5;28;01mif\u001b[39;00m x\u001b[38;5;241m>\u001b[39m\u001b[38;5;241m=\u001b[39m\u001b[38;5;241m0\u001b[39m:\n\u001b[1;32m      3\u001b[0m         \u001b[38;5;28;01mreturn\u001b[39;00m \u001b[38;5;241m1\u001b[39m\n\u001b[1;32m      4\u001b[0m     \u001b[38;5;28;01melse\u001b[39;00m:\n",
      "\u001b[0;31mValueError\u001b[0m: The truth value of an array with more than one element is ambiguous. Use a.any() or a.all()"
     ]
    }
   ],
   "source": [
    "# Does not work on array\n",
    "Theta(Temp)"
   ]
  },
  {
   "cell_type": "markdown",
   "metadata": {},
   "source": [
    "We can vectorize Theta, to make it applicable to arrays. \n",
    "\n",
    "This is simply achieved by call to numpy function `vectorize`, which will create low-level routine from your function"
   ]
  },
  {
   "cell_type": "code",
   "execution_count": 77,
   "metadata": {},
   "outputs": [],
   "source": [
    "Theta_vec = vectorize(Theta)"
   ]
  },
  {
   "cell_type": "code",
   "execution_count": 78,
   "metadata": {},
   "outputs": [
    {
     "data": {
      "text/plain": [
       "array([0, 0, 0, ..., 1, 1, 0])"
      ]
     },
     "execution_count": 78,
     "metadata": {},
     "output_type": "execute_result"
    }
   ],
   "source": [
    "# This is very fast now, and creates 0 or ones\n",
    "positive_temperatures=Theta_vec(Temp)\n",
    "positive_temperatures"
   ]
  },
  {
   "cell_type": "markdown",
   "metadata": {},
   "source": [
    "**How to calculate number of days in a year with positive temperatures?**"
   ]
  },
  {
   "cell_type": "code",
   "execution_count": 79,
   "metadata": {},
   "outputs": [],
   "source": [
    "# Boolean array to select data with positive temperatures\n",
    "positives = array(positive_temperatures, dtype=bool)\n",
    "# keeps data with positive temperatures only\n",
    "kept = data[positives,0]\n",
    "# now we just need to check how many of these data are in each year"
   ]
  },
  {
   "cell_type": "code",
   "execution_count": 80,
   "metadata": {},
   "outputs": [],
   "source": [
    "years = list(range(1800,2013,1))\n",
    "hist = histogram(kept, bins=years)"
   ]
  },
  {
   "cell_type": "code",
   "execution_count": 81,
   "metadata": {},
   "outputs": [
    {
     "data": {
      "image/png": "[encoded data removed]",
      "text/plain": [
       "<Figure size 640x480 with 1 Axes>"
      ]
     },
     "metadata": {},
     "output_type": "display_data"
    }
   ],
   "source": [
    "plt.plot(hist[1][:-1], hist[0]);"
   ]
  },
  {
   "cell_type": "code",
   "execution_count": 82,
   "metadata": {},
   "outputs": [
    {
     "data": {
      "image/png": "[encoded data removed]",
      "text/plain": [
       "<Figure size 640x480 with 1 Axes>"
      ]
     },
     "metadata": {},
     "output_type": "display_data"
    }
   ],
   "source": [
    "negative = array(1-Theta_vec(Temp), dtype=bool)\n",
    "kept2 = data[negative,0]\n",
    "hist2 = histogram(kept2, bins=years)\n",
    "plt.plot(hist2[1][:-1], hist[0]);"
   ]
  },
  {
   "cell_type": "code",
   "execution_count": null,
   "metadata": {},
   "outputs": [],
   "source": []
  }
 ],
 "metadata": {
  "kernelspec": {
   "display_name": "Python 3 (ipykernel)",
   "language": "python",
   "name": "python3"
  },
  "language_info": {
   "codemirror_mode": {
    "name": "ipython",
    "version": 3
   },
   "file_extension": ".py",
   "mimetype": "text/x-python",
   "name": "python",
   "nbconvert_exporter": "python",
   "pygments_lexer": "ipython3",
   "version": "3.8.18"
  }
 },
 "nbformat": 4,
 "nbformat_minor": 4
}
