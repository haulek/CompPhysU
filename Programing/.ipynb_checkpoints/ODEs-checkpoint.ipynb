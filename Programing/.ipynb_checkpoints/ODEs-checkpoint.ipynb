{
 "cells": [
  {
   "cell_type": "markdown",
   "id": "5d8085ab",
   "metadata": {},
   "source": [
    "# Ordinary Differential Equations (ODE)\n",
    "\n",
    "Ordinary differential equations (ODEs) arise in many fields of physics, but also in social and other natural sciences. \n",
    "Often, quantities are defined as the rate of change of other quantities (for example, derivatives of displacement with respect to time $\\dot{x}(t)$, $\\dot{y}(t)$ are related to $x(t)$, $y(t)$ and $t$). This results in ODE. \n",
    "\n",
    "## Definition \n",
    "\n",
    "If differential equation contains only one independent variable (such as time $t$) and hence only derivatives with respect to this single independent variable are present (like $\\dot{x}$, $\\ddot{x}$,...), we classify it as an ordinary differential equation (ODE). If derivatives with respect to more than one independent variables appear, we call it a `partial differential equation`. The latter is more challenging to solve (for example using `Finite element method`) and we will not discuss it here.\n",
    "\n",
    "In ODE only total derivatives (and no partial derivatives) appear. In general, it might be written in a form\n",
    "$$F(t, y(t), \\frac{d y(t)}{dt}, \\frac{d^2 y(t)}{dt^2}, ... \\frac{d^n y(t)}{dt^n})=0$$\n",
    "where $F$ is an arbitrary function, and it could be non-linear in its arguments.\n",
    "\n",
    "One of the simplest examples is the Newton's law:\n",
    "\n",
    "$$m \\frac{d^2 x_i(t)}{dt^2} = F_i(x_1,x_2,x_3,t)$$\n",
    "\n",
    "Here $(x_1,x_2,x_3)=(x,y,z)$ and $F_i$ is the force."
   ]
  },
  {
   "cell_type": "markdown",
   "id": "91a53eec",
   "metadata": {},
   "source": [
    "## Classification\n",
    "\n",
    "ODE's are usually classified into:\n",
    "- Linear ODE : in which F is a linear function of its arguments, for example\n",
    "   $$ \\sum_{n=0}^N a_n \\frac{d^n y(t)}{dt^n} -r (t)= 0 $$\n",
    "   Here $r(t)$ is an arbitrary function, which we usually call source term.\n",
    "\n",
    "- Homogeneous ODE : In this case source term $r(t)=0$ and hence $y(t)=0$ is also a trivial solution. But note that homogeneous ODE can be non-linear.\n",
    "\n",
    "- Autonomous ODE : If it does not explicitely depent on $t$.\n",
    "- Non-linear ODE : at least one derivative appears at higher power than 1, i.e., $\\left(\\frac{d^n y(t)}{dt^n}\\right)^2$.\n",
    "- inhomogeneous : r(t) is nonzero.\n",
    "\n",
    "\n",
    "What can we say about the Newton's equation and this classification?"
   ]
  },
  {
   "cell_type": "markdown",
   "id": "ae390662",
   "metadata": {},
   "source": [
    "## Numerical solvers\n",
    "\n",
    "Many general purpose numerical solvers have been developed, which are easy to use, and can solve an arbitrary ODE. \n",
    "\n",
    "We will discuss a few below: `Runge Kutta method`, `Numerov`, `Verlet`, etc.\n",
    "\n",
    "While very generic solvers exist in `scipy.integrate.ode`, the precision of the solution can be a problem. For example, it is hard to follow Newton's eq. of motion for a very long time as the precision might deteriorate (molecular dynamics is challenging). If ODE is non-linear, it tends to be even more challenging to solve numerically. For example, the numerical solution might exhibit instability in some regimes, which is called `stiffness`. This is often caused by the presence of different time scales in the underlying problem. For example, a non-elastic collision in a mechanical system typically occurs at much smaller time scale than the time for the motion of objects, and this discrepancy causes a very \"sharp turns\" in the curves of the state parameters. These are difficult to capture numerically.\n"
   ]
  },
  {
   "cell_type": "markdown",
   "id": "4d7c3237",
   "metadata": {},
   "source": [
    "## Reduction to a first-order system\n",
    "\n",
    "\n",
    "Most ODE integration algorithms (integrators) solve first order ODE's only, but with any number of components. It is simple to see that any high order ODE can be reduced to a larger system of first order ODE. \n",
    "\n",
    "For a generic form\n",
    "$$F(t, y(t), \\frac{d y(t)}{dt}, \\frac{d^2 y(t)}{dt^2}, ... \\frac{d^n y(t)}{dt^n})=0$$\n",
    "we could, always rewrite into\n",
    "$$\\frac{d^n y(t)}{dt^n} = \\widetilde{F}(t, y(t), \\frac{d y(t)}{dt}, \\frac{d^2 y(t)}{dt^2}, ...\\frac{d^{n-1} y(t)}{dt^{n-1}})$$\n",
    "\n",
    "Than we can choose\n",
    "\\begin{eqnarray}\n",
    "&&y(t) \\equiv y_0(t)  \\\\\n",
    "&&\\frac{d y(t)}{dt}=\\frac{d y_0(t)}{dt}\\equiv y_1(t)\\\\\n",
    "&&\\frac{d^2 y(t)}{dt^2}=\\frac{d y_1(t)}{dt}\\equiv y_2(t)\\\\\n",
    "&&\\frac{d^3 y(t)}{dt^3}=\\frac{d y_2(t)}{dt}\\equiv y_3(t)\\\\\n",
    "&&...\\\\\n",
    "&&\\frac{d^n y(t)}{dt^n}=\\frac{d y_{n-1}(t)}{dt}=\\widetilde{F}(t, y_0(t), y_1(t), y_2(t), ...y_{n-1}(t))\n",
    "\\end{eqnarray}\n",
    "This proves that $n$-th order ODE is equivalent to $n$ component first order ODE. Here $y(t)$ could itself be multi-component function, for example $(x,y,z)$, and we would than have $3 n$ component first order ODE.\n",
    "\n",
    "\n",
    "A good example of such transformation in physics is transformation of Lagrangian $L$ equations, which involve the second order derivatives $\\ddot{x}(t)$, to Hamiltonian $H$ equations, which involve only $\\dot{p}(t)$ and $\\dot{x}(t)$.\n",
    "\n",
    "\n",
    "Since it is always possible to transform n-other ODE into n-component first order ODE, we are going to discuss numeric treatment of the first order ODE of the form:\n",
    "\n",
    "$$\\frac{d y(t)}{dt}=\\overline{F}(t, y(t))$$\n",
    "\n",
    "where $y=[y_0,y_1,...y_{n-1}]$ and $\\overline{F}=[\\dot{y}_0,\\dot{y}_1,...,\\widetilde{F}(t,y_0,....y_{n-1})]$"
   ]
  },
  {
   "cell_type": "markdown",
   "id": "af5e1287",
   "metadata": {},
   "source": [
    "## Boundary conditions\n",
    "\n",
    "To solve ODE, the boundary conditions need to be specified. For $n$-th component first order ODE (or n-th order ODE) we need exactly $n$ boundary condistions.\n",
    "\n",
    "\n",
    "\n",
    "Boundary conditions can be classified into:\n",
    "- **Initial value problems** : all necessary conditions are specified at the starting point ($t_0$): \n",
    "\\begin{eqnarray}\n",
    "&&y_0(t_0)=x_0\\\\ \n",
    "&&y_1(t_0)=x_1\\\\ \n",
    "&&...\\\\\n",
    "&&y_{n-1}(t_0)=x_{n-1}\n",
    "\\end{eqnarray}\n",
    "\n",
    "    For example, in projectile motion, we give the initial position $x_0=y(t_0)$ and the initial velocity $v_0=dy(t_0)/dt$.\n",
    "\n",
    "- **Two point boundary problems** : part of the conditions are specified at the starting point ($t_0$),  and the rest at the end point ($t_f$)\n",
    "\n",
    "    For example, projectile motion, in which we are given the initial position $x_0=y(t_0)$ and the end position $x_f=y(t_f)$. The initial velocity needs to be guessed by so-called shooting method.\n",
    "    \n",
    "- **More complicated boundary conditions** :  an arbitrary set of nonlinear equations relating values of $y_i(t)$ and their derivatives $d y_i(t)/dt$ at any points $t$. \n",
    "\n",
    "Standard numeric solvers can only solve **Initial value problem**. All other boundary conditions have to be solved by iterations or **shooting**, in which we attempt to solve ODE many times, and try to satisfy the boundary conditions better and better with iterations."
   ]
  },
  {
   "cell_type": "markdown",
   "id": "745e927e",
   "metadata": {},
   "source": [
    "## Euler's method\n",
    "\n"
   ]
  },
  {
   "cell_type": "markdown",
   "id": "f1e6eae4",
   "metadata": {},
   "source": [
    "From any point on a curve, you can find an approximation of a nearby point on the curve by moving a short distance along a line tangent to the curve.\n",
    "\n",
    "We replace the derivative $\\frac{dy(t)}{dt}$ by the finite difference approximation:\n",
    "$$\\frac{dy(t)}{dt}\\approx \\frac{y(t+h)-y(t)}{h}$$\n",
    "When inserting this approximation into ODE, we get\n",
    "$$y(t+h) \\approx y(t) + h \\overline{F}(t, y(t))$$\n",
    "\n",
    "If we choose a constant step $h$, so that $t_1 = t_0+h$, $t_2=t_0+2 h$,..., $t_n=t_0+n h=t_f$, and we define $y_i \\equiv y(t_i)=y(t_0+i h)$\n",
    "we have simple recurrence relation:\n",
    "\n",
    "$$y_{i+1}=y_i  + h \\overline{F}(t, y_i) + O(h^2)$$\n",
    "\n",
    "which shows that each step give an error of the order $h^2$. The error grows very quickly, and Euler's method is not being used in practice."
   ]
  },
  {
   "cell_type": "markdown",
   "id": "887f4862",
   "metadata": {},
   "source": [
    "## Runge-Kutta methods\n",
    "\n",
    "The second order Runge-Kutta is only slightly better than Euler's, but demonstrates the idea of this method. \n",
    "\n",
    "In Euler's method the derivative is taken at the beginning of the interval.\n",
    "The precision would increase if one could estimate derivative in the middle of the interval $$y_{i+1}=y_i + h \\overline{F}(t_i+h/2,y(t_i + h/2))$$.\n",
    "\n",
    "The second order Runge-Kutta (**RK2**) method implements precisely this idea, namely,\n",
    "\\begin{eqnarray}\n",
    " && k_1 = h \\overline{F}(t_i,y_i)\\\\\n",
    " && y_{i+1} = y_i + h \\overline{F}(t_i+\\frac{1}{2}h,y_i + \\frac{1}{2}k_1) + O(h^3)\n",
    "\\end{eqnarray}\n",
    "It is called the second order, because error is of the order of $h^3$. In\n",
    "general, the error of the $n$-th order routine is $O(h^{n+1})$."
   ]
  },
  {
   "cell_type": "markdown",
   "id": "ac9b8437",
   "metadata": {},
   "source": [
    "Most popular is the **forth-order Runge Kutta (RK4)** method, which builds on the above idea of evaluating derivative somewhere inside the interval:\n",
    "\\begin{eqnarray}\n",
    "  && k_1 = h \\overline{F}(t_i,y_i)\\\\\n",
    "  && k_2 = h \\overline{F}(t_i+\\frac{1}{2}h,y_i+\\frac{1}{2}k_1)\\\\\n",
    "  && k_3 = h \\overline{F}(t_i+\\frac{1}{2}h,y_i+\\frac{1}{2}k_2)\\\\\n",
    "  && k_4 = h \\overline{F}(t_i+h, y_i+k_3)\\\\\n",
    "  && y_{i+1} = y_i + \\frac{1}{6}k_1+\\frac{1}{3}k_2+\\frac{1}{3}k_3+\\frac{1}{6}k_4+O(h^5)\n",
    "\\end{eqnarray}\n",
    "\n",
    "How do we understand the method? Looking at the above figure, we see:\n",
    "- $k_1$ is the slope at the beginning of the interval;\n",
    "- $k_2$ is the slope at the midpoint of the interval, using slope $k_1$ to determine the value of $y$ at the point $t_i + h/2$ using Euler's method;\n",
    "- $k_3$ is again the slope at the midpoint, but now using the slope $k_2$ to determine the $y$-value;\n",
    "- $k_4$ is the slope at the end of the interval, with its $y$-value determined using $k_3$;\n",
    "- in averaging the four slopes, greater weight is given to the slopes at the midpoint.\n",
    "\n",
    "The RK4 method is a fourth-order method, meaning that the error per\n",
    "step is on the order of $h^5$, while the total accumulated error has\n",
    "order $h^4$. With only four function evaluations, for fourth order\n",
    "accuracy is extremely good.\n"
   ]
  },
  {
   "cell_type": "code",
   "execution_count": null,
   "id": "efecc0c6",
   "metadata": {},
   "outputs": [],
   "source": []
  }
 ],
 "metadata": {
  "kernelspec": {
   "display_name": "Python 3 (ipykernel)",
   "language": "python",
   "name": "python3"
  },
  "language_info": {
   "codemirror_mode": {
    "name": "ipython",
    "version": 3
   },
   "file_extension": ".py",
   "mimetype": "text/x-python",
   "name": "python",
   "nbconvert_exporter": "python",
   "pygments_lexer": "ipython3",
   "version": "3.8.18"
  }
 },
 "nbformat": 4,
 "nbformat_minor": 5
}
